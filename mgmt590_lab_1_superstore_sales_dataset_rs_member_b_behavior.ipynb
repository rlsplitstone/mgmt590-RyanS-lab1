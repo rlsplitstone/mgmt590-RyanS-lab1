{
  "metadata": {
    "kernelspec": {
      "language": "python",
      "display_name": "Python 3",
      "name": "python3"
    },
    "language_info": {
      "name": "python",
      "version": "3.10.13",
      "mimetype": "text/x-python",
      "codemirror_mode": {
        "name": "ipython",
        "version": 3
      },
      "pygments_lexer": "ipython3",
      "nbconvert_exporter": "python",
      "file_extension": ".py"
    },
    "kaggle": {
      "accelerator": "none",
      "dataSources": [
        {
          "sourceId": 8275028,
          "sourceType": "datasetVersion",
          "datasetId": 4913678
        }
      ],
      "dockerImageVersionId": 30746,
      "isInternetEnabled": false,
      "language": "python",
      "sourceType": "notebook",
      "isGpuEnabled": false
    },
    "colab": {
      "provenance": [],
      "include_colab_link": true
    }
  },
  "nbformat_minor": 0,
  "nbformat": 4,
  "cells": [
    {
      "cell_type": "markdown",
      "metadata": {
        "id": "view-in-github",
        "colab_type": "text"
      },
      "source": [
        "<a href=\"https://colab.research.google.com/github/Rsplitstone/mgmt590-RyanS-lab1/blob/main/mgmt590_lab_1_superstore_sales_dataset_rs_member_b_behavior.ipynb\" target=\"_parent\"><img src=\"https://colab.research.google.com/assets/colab-badge.svg\" alt=\"Open In Colab\"/></a>"
      ]
    },
    {
      "source": [
        "import kagglehub\n",
        "timchant_supstore_dataset_2019_2022_path = kagglehub.dataset_download('timchant/supstore-dataset-2019-2022')\n",
        "\n",
        "print('Data source import complete.')\n"
      ],
      "metadata": {
        "id": "rtYi0dKTZtS8",
        "colab": {
          "base_uri": "https://localhost:8080/",
          "height": 0
        },
        "outputId": "879fbc21-c3e6-41c8-e2be-92989925cf49"
      },
      "cell_type": "code",
      "outputs": [
        {
          "output_type": "stream",
          "name": "stdout",
          "text": [
            "Data source import complete.\n"
          ]
        }
      ],
      "execution_count": 50
    },
    {
      "cell_type": "code",
      "source": [
        "import numpy as np\n",
        "import pandas as pd\n",
        "\n",
        "\n",
        "import os\n",
        "for dirname, _, filenames in os.walk('/kaggle/input'):\n",
        "    for filename in filenames:\n",
        "        print(os.path.join(dirname, filename))"
      ],
      "metadata": {
        "_uuid": "8f2839f25d086af736a60e9eeb907d3b93b6e0e5",
        "_cell_guid": "b1076dfc-b9ad-4769-8c92-a6c4dae69d19",
        "execution": {
          "iopub.status.busy": "2024-07-27T16:19:22.378156Z",
          "iopub.execute_input": "2024-07-27T16:19:22.37951Z",
          "iopub.status.idle": "2024-07-27T16:19:22.390162Z",
          "shell.execute_reply.started": "2024-07-27T16:19:22.37946Z",
          "shell.execute_reply": "2024-07-27T16:19:22.388961Z"
        },
        "trusted": true,
        "id": "634oltZbZtS-",
        "colab": {
          "base_uri": "https://localhost:8080/",
          "height": 0
        },
        "outputId": "8462e514-014b-4ae6-c248-5611e4f74f3e"
      },
      "outputs": [
        {
          "output_type": "stream",
          "name": "stdout",
          "text": [
            "/kaggle/input/supstore-dataset-2019-2022/superstore_dataset.csv\n"
          ]
        }
      ],
      "execution_count": 51
    },
    {
      "cell_type": "markdown",
      "source": [
        "## Data wrangling"
      ],
      "metadata": {
        "id": "TvXG_APXZtS-"
      }
    },
    {
      "cell_type": "code",
      "source": [
        "import numpy as np\n",
        "import pandas as pd\n",
        "import matplotlib.pyplot as plt\n",
        "import seaborn as sns\n",
        "import warnings\n",
        "warnings.filterwarnings('ignore')\n"
      ],
      "metadata": {
        "execution": {
          "iopub.status.busy": "2024-07-27T19:08:01.383383Z",
          "iopub.execute_input": "2024-07-27T19:08:01.383831Z",
          "iopub.status.idle": "2024-07-27T19:08:01.390207Z",
          "shell.execute_reply.started": "2024-07-27T19:08:01.383797Z",
          "shell.execute_reply": "2024-07-27T19:08:01.388937Z"
        },
        "trusted": true,
        "id": "RoPYAWvdZtS-"
      },
      "outputs": [],
      "execution_count": 52
    },
    {
      "cell_type": "code",
      "source": [
        "import pandas as pd\n",
        "import kagglehub\n",
        "import os\n",
        "\n",
        "# path to the dataset using kagglehub\n",
        "timchant_supstore_dataset_2019_2022_path = kagglehub.dataset_download('timchant/supstore-dataset-2019-2022')\n",
        "\n",
        "# kagglehub.dataset_download\n",
        "csv_file_path = os.path.join(timchant_supstore_dataset_2019_2022_path, 'superstore_dataset.csv')\n",
        "df = pd.read_csv(csv_file_path)"
      ],
      "metadata": {
        "execution": {
          "iopub.status.busy": "2024-07-27T16:19:22.400596Z",
          "iopub.execute_input": "2024-07-27T16:19:22.400969Z",
          "iopub.status.idle": "2024-07-27T16:19:22.475499Z",
          "shell.execute_reply.started": "2024-07-27T16:19:22.400938Z",
          "shell.execute_reply": "2024-07-27T16:19:22.474124Z"
        },
        "trusted": true,
        "id": "9E2sLbUOZtS_"
      },
      "outputs": [],
      "execution_count": 53
    },
    {
      "cell_type": "code",
      "source": [
        "df.head(3)"
      ],
      "metadata": {
        "execution": {
          "iopub.status.busy": "2024-07-27T16:19:22.47829Z",
          "iopub.execute_input": "2024-07-27T16:19:22.478746Z",
          "iopub.status.idle": "2024-07-27T16:19:22.50316Z",
          "shell.execute_reply.started": "2024-07-27T16:19:22.478703Z",
          "shell.execute_reply": "2024-07-27T16:19:22.501911Z"
        },
        "trusted": true,
        "id": "_aJ4lbrOZtS_",
        "colab": {
          "base_uri": "https://localhost:8080/",
          "height": 231
        },
        "outputId": "f3342d3d-3c90-4f23-c75f-debd73bc7a7b"
      },
      "outputs": [
        {
          "output_type": "execute_result",
          "data": {
            "text/plain": [
              "         order_id order_date ship_date       customer   manufactory  \\\n",
              "0  US-2020-103800   1/3/2019  1/7/2019  Darren Powers  Message Book   \n",
              "1  US-2020-112326   1/4/2019  1/8/2019  Phillina Ober           GBC   \n",
              "2  US-2020-112326   1/4/2019  1/8/2019  Phillina Ober         Avery   \n",
              "\n",
              "                                        product_name      segment  \\\n",
              "0  Message Book, Wirebound, Four 5 1/2\" X 4\" Form...     Consumer   \n",
              "1         GBC Standard Plastic Binding Systems Combs  Home Office   \n",
              "2                                          Avery 508  Home Office   \n",
              "\n",
              "          category subcategory   region    zip        city     state  \\\n",
              "0  Office Supplies       Paper  Central  77095     Houston     Texas   \n",
              "1  Office Supplies     Binders  Central  60540  Naperville  Illinois   \n",
              "2  Office Supplies      Labels  Central  60540  Naperville  Illinois   \n",
              "\n",
              "         country  discount  profit  quantity   sales  profit_margin  \n",
              "0  United States       0.2  5.5512         2  16.448         0.3375  \n",
              "1  United States       0.8 -5.4870         2   3.540        -1.5500  \n",
              "2  United States       0.2  4.2717         3  11.784         0.3625  "
            ],
            "text/html": [
              "\n",
              "  <div id=\"df-5213f210-895c-4ec4-829a-3caa127a3bc5\" class=\"colab-df-container\">\n",
              "    <div>\n",
              "<style scoped>\n",
              "    .dataframe tbody tr th:only-of-type {\n",
              "        vertical-align: middle;\n",
              "    }\n",
              "\n",
              "    .dataframe tbody tr th {\n",
              "        vertical-align: top;\n",
              "    }\n",
              "\n",
              "    .dataframe thead th {\n",
              "        text-align: right;\n",
              "    }\n",
              "</style>\n",
              "<table border=\"1\" class=\"dataframe\">\n",
              "  <thead>\n",
              "    <tr style=\"text-align: right;\">\n",
              "      <th></th>\n",
              "      <th>order_id</th>\n",
              "      <th>order_date</th>\n",
              "      <th>ship_date</th>\n",
              "      <th>customer</th>\n",
              "      <th>manufactory</th>\n",
              "      <th>product_name</th>\n",
              "      <th>segment</th>\n",
              "      <th>category</th>\n",
              "      <th>subcategory</th>\n",
              "      <th>region</th>\n",
              "      <th>zip</th>\n",
              "      <th>city</th>\n",
              "      <th>state</th>\n",
              "      <th>country</th>\n",
              "      <th>discount</th>\n",
              "      <th>profit</th>\n",
              "      <th>quantity</th>\n",
              "      <th>sales</th>\n",
              "      <th>profit_margin</th>\n",
              "    </tr>\n",
              "  </thead>\n",
              "  <tbody>\n",
              "    <tr>\n",
              "      <th>0</th>\n",
              "      <td>US-2020-103800</td>\n",
              "      <td>1/3/2019</td>\n",
              "      <td>1/7/2019</td>\n",
              "      <td>Darren Powers</td>\n",
              "      <td>Message Book</td>\n",
              "      <td>Message Book, Wirebound, Four 5 1/2\" X 4\" Form...</td>\n",
              "      <td>Consumer</td>\n",
              "      <td>Office Supplies</td>\n",
              "      <td>Paper</td>\n",
              "      <td>Central</td>\n",
              "      <td>77095</td>\n",
              "      <td>Houston</td>\n",
              "      <td>Texas</td>\n",
              "      <td>United States</td>\n",
              "      <td>0.2</td>\n",
              "      <td>5.5512</td>\n",
              "      <td>2</td>\n",
              "      <td>16.448</td>\n",
              "      <td>0.3375</td>\n",
              "    </tr>\n",
              "    <tr>\n",
              "      <th>1</th>\n",
              "      <td>US-2020-112326</td>\n",
              "      <td>1/4/2019</td>\n",
              "      <td>1/8/2019</td>\n",
              "      <td>Phillina Ober</td>\n",
              "      <td>GBC</td>\n",
              "      <td>GBC Standard Plastic Binding Systems Combs</td>\n",
              "      <td>Home Office</td>\n",
              "      <td>Office Supplies</td>\n",
              "      <td>Binders</td>\n",
              "      <td>Central</td>\n",
              "      <td>60540</td>\n",
              "      <td>Naperville</td>\n",
              "      <td>Illinois</td>\n",
              "      <td>United States</td>\n",
              "      <td>0.8</td>\n",
              "      <td>-5.4870</td>\n",
              "      <td>2</td>\n",
              "      <td>3.540</td>\n",
              "      <td>-1.5500</td>\n",
              "    </tr>\n",
              "    <tr>\n",
              "      <th>2</th>\n",
              "      <td>US-2020-112326</td>\n",
              "      <td>1/4/2019</td>\n",
              "      <td>1/8/2019</td>\n",
              "      <td>Phillina Ober</td>\n",
              "      <td>Avery</td>\n",
              "      <td>Avery 508</td>\n",
              "      <td>Home Office</td>\n",
              "      <td>Office Supplies</td>\n",
              "      <td>Labels</td>\n",
              "      <td>Central</td>\n",
              "      <td>60540</td>\n",
              "      <td>Naperville</td>\n",
              "      <td>Illinois</td>\n",
              "      <td>United States</td>\n",
              "      <td>0.2</td>\n",
              "      <td>4.2717</td>\n",
              "      <td>3</td>\n",
              "      <td>11.784</td>\n",
              "      <td>0.3625</td>\n",
              "    </tr>\n",
              "  </tbody>\n",
              "</table>\n",
              "</div>\n",
              "    <div class=\"colab-df-buttons\">\n",
              "\n",
              "  <div class=\"colab-df-container\">\n",
              "    <button class=\"colab-df-convert\" onclick=\"convertToInteractive('df-5213f210-895c-4ec4-829a-3caa127a3bc5')\"\n",
              "            title=\"Convert this dataframe to an interactive table.\"\n",
              "            style=\"display:none;\">\n",
              "\n",
              "  <svg xmlns=\"http://www.w3.org/2000/svg\" height=\"24px\" viewBox=\"0 -960 960 960\">\n",
              "    <path d=\"M120-120v-720h720v720H120Zm60-500h600v-160H180v160Zm220 220h160v-160H400v160Zm0 220h160v-160H400v160ZM180-400h160v-160H180v160Zm440 0h160v-160H620v160ZM180-180h160v-160H180v160Zm440 0h160v-160H620v160Z\"/>\n",
              "  </svg>\n",
              "    </button>\n",
              "\n",
              "  <style>\n",
              "    .colab-df-container {\n",
              "      display:flex;\n",
              "      gap: 12px;\n",
              "    }\n",
              "\n",
              "    .colab-df-convert {\n",
              "      background-color: #E8F0FE;\n",
              "      border: none;\n",
              "      border-radius: 50%;\n",
              "      cursor: pointer;\n",
              "      display: none;\n",
              "      fill: #1967D2;\n",
              "      height: 32px;\n",
              "      padding: 0 0 0 0;\n",
              "      width: 32px;\n",
              "    }\n",
              "\n",
              "    .colab-df-convert:hover {\n",
              "      background-color: #E2EBFA;\n",
              "      box-shadow: 0px 1px 2px rgba(60, 64, 67, 0.3), 0px 1px 3px 1px rgba(60, 64, 67, 0.15);\n",
              "      fill: #174EA6;\n",
              "    }\n",
              "\n",
              "    .colab-df-buttons div {\n",
              "      margin-bottom: 4px;\n",
              "    }\n",
              "\n",
              "    [theme=dark] .colab-df-convert {\n",
              "      background-color: #3B4455;\n",
              "      fill: #D2E3FC;\n",
              "    }\n",
              "\n",
              "    [theme=dark] .colab-df-convert:hover {\n",
              "      background-color: #434B5C;\n",
              "      box-shadow: 0px 1px 3px 1px rgba(0, 0, 0, 0.15);\n",
              "      filter: drop-shadow(0px 1px 2px rgba(0, 0, 0, 0.3));\n",
              "      fill: #FFFFFF;\n",
              "    }\n",
              "  </style>\n",
              "\n",
              "    <script>\n",
              "      const buttonEl =\n",
              "        document.querySelector('#df-5213f210-895c-4ec4-829a-3caa127a3bc5 button.colab-df-convert');\n",
              "      buttonEl.style.display =\n",
              "        google.colab.kernel.accessAllowed ? 'block' : 'none';\n",
              "\n",
              "      async function convertToInteractive(key) {\n",
              "        const element = document.querySelector('#df-5213f210-895c-4ec4-829a-3caa127a3bc5');\n",
              "        const dataTable =\n",
              "          await google.colab.kernel.invokeFunction('convertToInteractive',\n",
              "                                                    [key], {});\n",
              "        if (!dataTable) return;\n",
              "\n",
              "        const docLinkHtml = 'Like what you see? Visit the ' +\n",
              "          '<a target=\"_blank\" href=https://colab.research.google.com/notebooks/data_table.ipynb>data table notebook</a>'\n",
              "          + ' to learn more about interactive tables.';\n",
              "        element.innerHTML = '';\n",
              "        dataTable['output_type'] = 'display_data';\n",
              "        await google.colab.output.renderOutput(dataTable, element);\n",
              "        const docLink = document.createElement('div');\n",
              "        docLink.innerHTML = docLinkHtml;\n",
              "        element.appendChild(docLink);\n",
              "      }\n",
              "    </script>\n",
              "  </div>\n",
              "\n",
              "\n",
              "    <div id=\"df-387b0c9d-4dca-4c59-a23a-e5d1fc52b248\">\n",
              "      <button class=\"colab-df-quickchart\" onclick=\"quickchart('df-387b0c9d-4dca-4c59-a23a-e5d1fc52b248')\"\n",
              "                title=\"Suggest charts\"\n",
              "                style=\"display:none;\">\n",
              "\n",
              "<svg xmlns=\"http://www.w3.org/2000/svg\" height=\"24px\"viewBox=\"0 0 24 24\"\n",
              "     width=\"24px\">\n",
              "    <g>\n",
              "        <path d=\"M19 3H5c-1.1 0-2 .9-2 2v14c0 1.1.9 2 2 2h14c1.1 0 2-.9 2-2V5c0-1.1-.9-2-2-2zM9 17H7v-7h2v7zm4 0h-2V7h2v10zm4 0h-2v-4h2v4z\"/>\n",
              "    </g>\n",
              "</svg>\n",
              "      </button>\n",
              "\n",
              "<style>\n",
              "  .colab-df-quickchart {\n",
              "      --bg-color: #E8F0FE;\n",
              "      --fill-color: #1967D2;\n",
              "      --hover-bg-color: #E2EBFA;\n",
              "      --hover-fill-color: #174EA6;\n",
              "      --disabled-fill-color: #AAA;\n",
              "      --disabled-bg-color: #DDD;\n",
              "  }\n",
              "\n",
              "  [theme=dark] .colab-df-quickchart {\n",
              "      --bg-color: #3B4455;\n",
              "      --fill-color: #D2E3FC;\n",
              "      --hover-bg-color: #434B5C;\n",
              "      --hover-fill-color: #FFFFFF;\n",
              "      --disabled-bg-color: #3B4455;\n",
              "      --disabled-fill-color: #666;\n",
              "  }\n",
              "\n",
              "  .colab-df-quickchart {\n",
              "    background-color: var(--bg-color);\n",
              "    border: none;\n",
              "    border-radius: 50%;\n",
              "    cursor: pointer;\n",
              "    display: none;\n",
              "    fill: var(--fill-color);\n",
              "    height: 32px;\n",
              "    padding: 0;\n",
              "    width: 32px;\n",
              "  }\n",
              "\n",
              "  .colab-df-quickchart:hover {\n",
              "    background-color: var(--hover-bg-color);\n",
              "    box-shadow: 0 1px 2px rgba(60, 64, 67, 0.3), 0 1px 3px 1px rgba(60, 64, 67, 0.15);\n",
              "    fill: var(--button-hover-fill-color);\n",
              "  }\n",
              "\n",
              "  .colab-df-quickchart-complete:disabled,\n",
              "  .colab-df-quickchart-complete:disabled:hover {\n",
              "    background-color: var(--disabled-bg-color);\n",
              "    fill: var(--disabled-fill-color);\n",
              "    box-shadow: none;\n",
              "  }\n",
              "\n",
              "  .colab-df-spinner {\n",
              "    border: 2px solid var(--fill-color);\n",
              "    border-color: transparent;\n",
              "    border-bottom-color: var(--fill-color);\n",
              "    animation:\n",
              "      spin 1s steps(1) infinite;\n",
              "  }\n",
              "\n",
              "  @keyframes spin {\n",
              "    0% {\n",
              "      border-color: transparent;\n",
              "      border-bottom-color: var(--fill-color);\n",
              "      border-left-color: var(--fill-color);\n",
              "    }\n",
              "    20% {\n",
              "      border-color: transparent;\n",
              "      border-left-color: var(--fill-color);\n",
              "      border-top-color: var(--fill-color);\n",
              "    }\n",
              "    30% {\n",
              "      border-color: transparent;\n",
              "      border-left-color: var(--fill-color);\n",
              "      border-top-color: var(--fill-color);\n",
              "      border-right-color: var(--fill-color);\n",
              "    }\n",
              "    40% {\n",
              "      border-color: transparent;\n",
              "      border-right-color: var(--fill-color);\n",
              "      border-top-color: var(--fill-color);\n",
              "    }\n",
              "    60% {\n",
              "      border-color: transparent;\n",
              "      border-right-color: var(--fill-color);\n",
              "    }\n",
              "    80% {\n",
              "      border-color: transparent;\n",
              "      border-right-color: var(--fill-color);\n",
              "      border-bottom-color: var(--fill-color);\n",
              "    }\n",
              "    90% {\n",
              "      border-color: transparent;\n",
              "      border-bottom-color: var(--fill-color);\n",
              "    }\n",
              "  }\n",
              "</style>\n",
              "\n",
              "      <script>\n",
              "        async function quickchart(key) {\n",
              "          const quickchartButtonEl =\n",
              "            document.querySelector('#' + key + ' button');\n",
              "          quickchartButtonEl.disabled = true;  // To prevent multiple clicks.\n",
              "          quickchartButtonEl.classList.add('colab-df-spinner');\n",
              "          try {\n",
              "            const charts = await google.colab.kernel.invokeFunction(\n",
              "                'suggestCharts', [key], {});\n",
              "          } catch (error) {\n",
              "            console.error('Error during call to suggestCharts:', error);\n",
              "          }\n",
              "          quickchartButtonEl.classList.remove('colab-df-spinner');\n",
              "          quickchartButtonEl.classList.add('colab-df-quickchart-complete');\n",
              "        }\n",
              "        (() => {\n",
              "          let quickchartButtonEl =\n",
              "            document.querySelector('#df-387b0c9d-4dca-4c59-a23a-e5d1fc52b248 button');\n",
              "          quickchartButtonEl.style.display =\n",
              "            google.colab.kernel.accessAllowed ? 'block' : 'none';\n",
              "        })();\n",
              "      </script>\n",
              "    </div>\n",
              "\n",
              "    </div>\n",
              "  </div>\n"
            ],
            "application/vnd.google.colaboratory.intrinsic+json": {
              "type": "dataframe",
              "variable_name": "df",
              "summary": "{\n  \"name\": \"df\",\n  \"rows\": 9994,\n  \"fields\": [\n    {\n      \"column\": \"order_id\",\n      \"properties\": {\n        \"dtype\": \"string\",\n        \"num_unique_values\": 5009,\n        \"samples\": [\n          \"US-2022-136329\",\n          \"US-2023-140515\",\n          \"US-2023-127096\"\n        ],\n        \"semantic_type\": \"\",\n        \"description\": \"\"\n      }\n    },\n    {\n      \"column\": \"order_date\",\n      \"properties\": {\n        \"dtype\": \"object\",\n        \"num_unique_values\": 1236,\n        \"samples\": [\n          \"12/17/2019\",\n          \"2/16/2021\",\n          \"11/24/2022\"\n        ],\n        \"semantic_type\": \"\",\n        \"description\": \"\"\n      }\n    },\n    {\n      \"column\": \"ship_date\",\n      \"properties\": {\n        \"dtype\": \"object\",\n        \"num_unique_values\": 1334,\n        \"samples\": [\n          \"10/8/2021\",\n          \"4/1/2022\",\n          \"10/18/2022\"\n        ],\n        \"semantic_type\": \"\",\n        \"description\": \"\"\n      }\n    },\n    {\n      \"column\": \"customer\",\n      \"properties\": {\n        \"dtype\": \"category\",\n        \"num_unique_values\": 793,\n        \"samples\": [\n          \"Pauline Johnson\",\n          \"Victoria Wilson\",\n          \"Jason Gross\"\n        ],\n        \"semantic_type\": \"\",\n        \"description\": \"\"\n      }\n    },\n    {\n      \"column\": \"manufactory\",\n      \"properties\": {\n        \"dtype\": \"category\",\n        \"num_unique_values\": 182,\n        \"samples\": [\n          \"Tennsco\",\n          \"Pressboard\",\n          \"Peel & Seel\"\n        ],\n        \"semantic_type\": \"\",\n        \"description\": \"\"\n      }\n    },\n    {\n      \"column\": \"product_name\",\n      \"properties\": {\n        \"dtype\": \"category\",\n        \"num_unique_values\": 1849,\n        \"samples\": [\n          \"Xerox 1995\",\n          \"PureGear Roll-On Screen Protector\",\n          \"Tensor Computer Mounted Lamp\"\n        ],\n        \"semantic_type\": \"\",\n        \"description\": \"\"\n      }\n    },\n    {\n      \"column\": \"segment\",\n      \"properties\": {\n        \"dtype\": \"category\",\n        \"num_unique_values\": 3,\n        \"samples\": [\n          \"Consumer\",\n          \"Home Office\",\n          \"Corporate\"\n        ],\n        \"semantic_type\": \"\",\n        \"description\": \"\"\n      }\n    },\n    {\n      \"column\": \"category\",\n      \"properties\": {\n        \"dtype\": \"category\",\n        \"num_unique_values\": 3,\n        \"samples\": [\n          \"Office Supplies\",\n          \"Furniture\",\n          \"Technology\"\n        ],\n        \"semantic_type\": \"\",\n        \"description\": \"\"\n      }\n    },\n    {\n      \"column\": \"subcategory\",\n      \"properties\": {\n        \"dtype\": \"category\",\n        \"num_unique_values\": 17,\n        \"samples\": [\n          \"Paper\",\n          \"Binders\",\n          \"Chairs\"\n        ],\n        \"semantic_type\": \"\",\n        \"description\": \"\"\n      }\n    },\n    {\n      \"column\": \"region\",\n      \"properties\": {\n        \"dtype\": \"category\",\n        \"num_unique_values\": 4,\n        \"samples\": [\n          \"East\",\n          \"West\",\n          \"Central\"\n        ],\n        \"semantic_type\": \"\",\n        \"description\": \"\"\n      }\n    },\n    {\n      \"column\": \"zip\",\n      \"properties\": {\n        \"dtype\": \"number\",\n        \"std\": 32063,\n        \"min\": 1040,\n        \"max\": 99301,\n        \"num_unique_values\": 631,\n        \"samples\": [\n          80112,\n          29730,\n          42301\n        ],\n        \"semantic_type\": \"\",\n        \"description\": \"\"\n      }\n    },\n    {\n      \"column\": \"city\",\n      \"properties\": {\n        \"dtype\": \"category\",\n        \"num_unique_values\": 531,\n        \"samples\": [\n          \"Elyria\",\n          \"Huntsville\",\n          \"Bakersfield\"\n        ],\n        \"semantic_type\": \"\",\n        \"description\": \"\"\n      }\n    },\n    {\n      \"column\": \"state\",\n      \"properties\": {\n        \"dtype\": \"category\",\n        \"num_unique_values\": 49,\n        \"samples\": [\n          \"Arkansas\",\n          \"Vermont\",\n          \"North Dakota\"\n        ],\n        \"semantic_type\": \"\",\n        \"description\": \"\"\n      }\n    },\n    {\n      \"column\": \"country\",\n      \"properties\": {\n        \"dtype\": \"category\",\n        \"num_unique_values\": 1,\n        \"samples\": [\n          \"United States\"\n        ],\n        \"semantic_type\": \"\",\n        \"description\": \"\"\n      }\n    },\n    {\n      \"column\": \"discount\",\n      \"properties\": {\n        \"dtype\": \"number\",\n        \"std\": 0.20645196782569636,\n        \"min\": 0.0,\n        \"max\": 0.8,\n        \"num_unique_values\": 12,\n        \"samples\": [\n          0.32\n        ],\n        \"semantic_type\": \"\",\n        \"description\": \"\"\n      }\n    },\n    {\n      \"column\": \"profit\",\n      \"properties\": {\n        \"dtype\": \"number\",\n        \"std\": 234.26010769095754,\n        \"min\": -6599.978,\n        \"max\": 8399.976,\n        \"num_unique_values\": 7287,\n        \"samples\": [\n          -7.3255\n        ],\n        \"semantic_type\": \"\",\n        \"description\": \"\"\n      }\n    },\n    {\n      \"column\": \"quantity\",\n      \"properties\": {\n        \"dtype\": \"number\",\n        \"std\": 2,\n        \"min\": 1,\n        \"max\": 14,\n        \"num_unique_values\": 14,\n        \"samples\": [\n          8\n        ],\n        \"semantic_type\": \"\",\n        \"description\": \"\"\n      }\n    },\n    {\n      \"column\": \"sales\",\n      \"properties\": {\n        \"dtype\": \"number\",\n        \"std\": 623.245100508682,\n        \"min\": 0.444,\n        \"max\": 22638.48,\n        \"num_unique_values\": 5825,\n        \"samples\": [\n          435.168\n        ],\n        \"semantic_type\": \"\",\n        \"description\": \"\"\n      }\n    },\n    {\n      \"column\": \"profit_margin\",\n      \"properties\": {\n        \"dtype\": \"number\",\n        \"std\": 0.46675434522462733,\n        \"min\": -2.75,\n        \"max\": 0.5,\n        \"num_unique_values\": 288,\n        \"samples\": [\n          -0.05\n        ],\n        \"semantic_type\": \"\",\n        \"description\": \"\"\n      }\n    }\n  ]\n}"
            }
          },
          "metadata": {},
          "execution_count": 54
        }
      ],
      "execution_count": 54
    },
    {
      "cell_type": "code",
      "source": [
        "df.tail()"
      ],
      "metadata": {
        "execution": {
          "iopub.status.busy": "2024-07-27T16:19:22.504351Z",
          "iopub.execute_input": "2024-07-27T16:19:22.504678Z",
          "iopub.status.idle": "2024-07-27T16:19:22.533746Z",
          "shell.execute_reply.started": "2024-07-27T16:19:22.50465Z",
          "shell.execute_reply": "2024-07-27T16:19:22.532555Z"
        },
        "trusted": true,
        "id": "MygZMY1yZtS_",
        "colab": {
          "base_uri": "https://localhost:8080/",
          "height": 435
        },
        "outputId": "33234ae7-ee9f-4996-a999-220617c27925"
      },
      "outputs": [
        {
          "output_type": "execute_result",
          "data": {
            "text/plain": [
              "            order_id  order_date ship_date           customer   manufactory  \\\n",
              "9989  US-2023-126221  12/30/2022  1/5/2023        Chuck Clark        Eureka   \n",
              "9990  US-2023-143259  12/30/2022  1/3/2023  Patrick O'Donnell         Other   \n",
              "9991  US-2023-143259  12/30/2022  1/3/2023  Patrick O'Donnell  Wilson Jones   \n",
              "9992  US-2023-143259  12/30/2022  1/3/2023  Patrick O'Donnell         Other   \n",
              "9993  US-2023-156720  12/30/2022  1/3/2023      Jill Matthias         Other   \n",
              "\n",
              "                                           product_name      segment  \\\n",
              "9989  Eureka The Boss Plus 12-Amp Hard Box Upright V...  Home Office   \n",
              "9990  Bush Westfield Collection Bookcases, Fully Ass...     Consumer   \n",
              "9991               Wilson Jones Legal Size Ring Binders     Consumer   \n",
              "9992                          Gear Head AU3700S Headset     Consumer   \n",
              "9993                                Bagged Rubber Bands     Consumer   \n",
              "\n",
              "             category subcategory   region    zip           city     state  \\\n",
              "9989  Office Supplies  Appliances  Central  47201       Columbus   Indiana   \n",
              "9990        Furniture   Bookcases     East  10009  New York City  New York   \n",
              "9991  Office Supplies     Binders     East  10009  New York City  New York   \n",
              "9992       Technology      Phones     East  10009  New York City  New York   \n",
              "9993  Office Supplies   Fasteners     West  80538       Loveland  Colorado   \n",
              "\n",
              "            country  discount   profit  quantity    sales  profit_margin  \n",
              "9989  United States       0.0  56.5110         2  209.300         0.2700  \n",
              "9990  United States       0.2  12.1176         4  323.136         0.0375  \n",
              "9991  United States       0.2  19.7910         3   52.776         0.3750  \n",
              "9992  United States       0.0   2.7279         7   90.930         0.0300  \n",
              "9993  United States       0.2  -0.6048         3    3.024        -0.2000  "
            ],
            "text/html": [
              "\n",
              "  <div id=\"df-890cafb9-a98b-468f-b9da-dd3d4e9ba841\" class=\"colab-df-container\">\n",
              "    <div>\n",
              "<style scoped>\n",
              "    .dataframe tbody tr th:only-of-type {\n",
              "        vertical-align: middle;\n",
              "    }\n",
              "\n",
              "    .dataframe tbody tr th {\n",
              "        vertical-align: top;\n",
              "    }\n",
              "\n",
              "    .dataframe thead th {\n",
              "        text-align: right;\n",
              "    }\n",
              "</style>\n",
              "<table border=\"1\" class=\"dataframe\">\n",
              "  <thead>\n",
              "    <tr style=\"text-align: right;\">\n",
              "      <th></th>\n",
              "      <th>order_id</th>\n",
              "      <th>order_date</th>\n",
              "      <th>ship_date</th>\n",
              "      <th>customer</th>\n",
              "      <th>manufactory</th>\n",
              "      <th>product_name</th>\n",
              "      <th>segment</th>\n",
              "      <th>category</th>\n",
              "      <th>subcategory</th>\n",
              "      <th>region</th>\n",
              "      <th>zip</th>\n",
              "      <th>city</th>\n",
              "      <th>state</th>\n",
              "      <th>country</th>\n",
              "      <th>discount</th>\n",
              "      <th>profit</th>\n",
              "      <th>quantity</th>\n",
              "      <th>sales</th>\n",
              "      <th>profit_margin</th>\n",
              "    </tr>\n",
              "  </thead>\n",
              "  <tbody>\n",
              "    <tr>\n",
              "      <th>9989</th>\n",
              "      <td>US-2023-126221</td>\n",
              "      <td>12/30/2022</td>\n",
              "      <td>1/5/2023</td>\n",
              "      <td>Chuck Clark</td>\n",
              "      <td>Eureka</td>\n",
              "      <td>Eureka The Boss Plus 12-Amp Hard Box Upright V...</td>\n",
              "      <td>Home Office</td>\n",
              "      <td>Office Supplies</td>\n",
              "      <td>Appliances</td>\n",
              "      <td>Central</td>\n",
              "      <td>47201</td>\n",
              "      <td>Columbus</td>\n",
              "      <td>Indiana</td>\n",
              "      <td>United States</td>\n",
              "      <td>0.0</td>\n",
              "      <td>56.5110</td>\n",
              "      <td>2</td>\n",
              "      <td>209.300</td>\n",
              "      <td>0.2700</td>\n",
              "    </tr>\n",
              "    <tr>\n",
              "      <th>9990</th>\n",
              "      <td>US-2023-143259</td>\n",
              "      <td>12/30/2022</td>\n",
              "      <td>1/3/2023</td>\n",
              "      <td>Patrick O'Donnell</td>\n",
              "      <td>Other</td>\n",
              "      <td>Bush Westfield Collection Bookcases, Fully Ass...</td>\n",
              "      <td>Consumer</td>\n",
              "      <td>Furniture</td>\n",
              "      <td>Bookcases</td>\n",
              "      <td>East</td>\n",
              "      <td>10009</td>\n",
              "      <td>New York City</td>\n",
              "      <td>New York</td>\n",
              "      <td>United States</td>\n",
              "      <td>0.2</td>\n",
              "      <td>12.1176</td>\n",
              "      <td>4</td>\n",
              "      <td>323.136</td>\n",
              "      <td>0.0375</td>\n",
              "    </tr>\n",
              "    <tr>\n",
              "      <th>9991</th>\n",
              "      <td>US-2023-143259</td>\n",
              "      <td>12/30/2022</td>\n",
              "      <td>1/3/2023</td>\n",
              "      <td>Patrick O'Donnell</td>\n",
              "      <td>Wilson Jones</td>\n",
              "      <td>Wilson Jones Legal Size Ring Binders</td>\n",
              "      <td>Consumer</td>\n",
              "      <td>Office Supplies</td>\n",
              "      <td>Binders</td>\n",
              "      <td>East</td>\n",
              "      <td>10009</td>\n",
              "      <td>New York City</td>\n",
              "      <td>New York</td>\n",
              "      <td>United States</td>\n",
              "      <td>0.2</td>\n",
              "      <td>19.7910</td>\n",
              "      <td>3</td>\n",
              "      <td>52.776</td>\n",
              "      <td>0.3750</td>\n",
              "    </tr>\n",
              "    <tr>\n",
              "      <th>9992</th>\n",
              "      <td>US-2023-143259</td>\n",
              "      <td>12/30/2022</td>\n",
              "      <td>1/3/2023</td>\n",
              "      <td>Patrick O'Donnell</td>\n",
              "      <td>Other</td>\n",
              "      <td>Gear Head AU3700S Headset</td>\n",
              "      <td>Consumer</td>\n",
              "      <td>Technology</td>\n",
              "      <td>Phones</td>\n",
              "      <td>East</td>\n",
              "      <td>10009</td>\n",
              "      <td>New York City</td>\n",
              "      <td>New York</td>\n",
              "      <td>United States</td>\n",
              "      <td>0.0</td>\n",
              "      <td>2.7279</td>\n",
              "      <td>7</td>\n",
              "      <td>90.930</td>\n",
              "      <td>0.0300</td>\n",
              "    </tr>\n",
              "    <tr>\n",
              "      <th>9993</th>\n",
              "      <td>US-2023-156720</td>\n",
              "      <td>12/30/2022</td>\n",
              "      <td>1/3/2023</td>\n",
              "      <td>Jill Matthias</td>\n",
              "      <td>Other</td>\n",
              "      <td>Bagged Rubber Bands</td>\n",
              "      <td>Consumer</td>\n",
              "      <td>Office Supplies</td>\n",
              "      <td>Fasteners</td>\n",
              "      <td>West</td>\n",
              "      <td>80538</td>\n",
              "      <td>Loveland</td>\n",
              "      <td>Colorado</td>\n",
              "      <td>United States</td>\n",
              "      <td>0.2</td>\n",
              "      <td>-0.6048</td>\n",
              "      <td>3</td>\n",
              "      <td>3.024</td>\n",
              "      <td>-0.2000</td>\n",
              "    </tr>\n",
              "  </tbody>\n",
              "</table>\n",
              "</div>\n",
              "    <div class=\"colab-df-buttons\">\n",
              "\n",
              "  <div class=\"colab-df-container\">\n",
              "    <button class=\"colab-df-convert\" onclick=\"convertToInteractive('df-890cafb9-a98b-468f-b9da-dd3d4e9ba841')\"\n",
              "            title=\"Convert this dataframe to an interactive table.\"\n",
              "            style=\"display:none;\">\n",
              "\n",
              "  <svg xmlns=\"http://www.w3.org/2000/svg\" height=\"24px\" viewBox=\"0 -960 960 960\">\n",
              "    <path d=\"M120-120v-720h720v720H120Zm60-500h600v-160H180v160Zm220 220h160v-160H400v160Zm0 220h160v-160H400v160ZM180-400h160v-160H180v160Zm440 0h160v-160H620v160ZM180-180h160v-160H180v160Zm440 0h160v-160H620v160Z\"/>\n",
              "  </svg>\n",
              "    </button>\n",
              "\n",
              "  <style>\n",
              "    .colab-df-container {\n",
              "      display:flex;\n",
              "      gap: 12px;\n",
              "    }\n",
              "\n",
              "    .colab-df-convert {\n",
              "      background-color: #E8F0FE;\n",
              "      border: none;\n",
              "      border-radius: 50%;\n",
              "      cursor: pointer;\n",
              "      display: none;\n",
              "      fill: #1967D2;\n",
              "      height: 32px;\n",
              "      padding: 0 0 0 0;\n",
              "      width: 32px;\n",
              "    }\n",
              "\n",
              "    .colab-df-convert:hover {\n",
              "      background-color: #E2EBFA;\n",
              "      box-shadow: 0px 1px 2px rgba(60, 64, 67, 0.3), 0px 1px 3px 1px rgba(60, 64, 67, 0.15);\n",
              "      fill: #174EA6;\n",
              "    }\n",
              "\n",
              "    .colab-df-buttons div {\n",
              "      margin-bottom: 4px;\n",
              "    }\n",
              "\n",
              "    [theme=dark] .colab-df-convert {\n",
              "      background-color: #3B4455;\n",
              "      fill: #D2E3FC;\n",
              "    }\n",
              "\n",
              "    [theme=dark] .colab-df-convert:hover {\n",
              "      background-color: #434B5C;\n",
              "      box-shadow: 0px 1px 3px 1px rgba(0, 0, 0, 0.15);\n",
              "      filter: drop-shadow(0px 1px 2px rgba(0, 0, 0, 0.3));\n",
              "      fill: #FFFFFF;\n",
              "    }\n",
              "  </style>\n",
              "\n",
              "    <script>\n",
              "      const buttonEl =\n",
              "        document.querySelector('#df-890cafb9-a98b-468f-b9da-dd3d4e9ba841 button.colab-df-convert');\n",
              "      buttonEl.style.display =\n",
              "        google.colab.kernel.accessAllowed ? 'block' : 'none';\n",
              "\n",
              "      async function convertToInteractive(key) {\n",
              "        const element = document.querySelector('#df-890cafb9-a98b-468f-b9da-dd3d4e9ba841');\n",
              "        const dataTable =\n",
              "          await google.colab.kernel.invokeFunction('convertToInteractive',\n",
              "                                                    [key], {});\n",
              "        if (!dataTable) return;\n",
              "\n",
              "        const docLinkHtml = 'Like what you see? Visit the ' +\n",
              "          '<a target=\"_blank\" href=https://colab.research.google.com/notebooks/data_table.ipynb>data table notebook</a>'\n",
              "          + ' to learn more about interactive tables.';\n",
              "        element.innerHTML = '';\n",
              "        dataTable['output_type'] = 'display_data';\n",
              "        await google.colab.output.renderOutput(dataTable, element);\n",
              "        const docLink = document.createElement('div');\n",
              "        docLink.innerHTML = docLinkHtml;\n",
              "        element.appendChild(docLink);\n",
              "      }\n",
              "    </script>\n",
              "  </div>\n",
              "\n",
              "\n",
              "    <div id=\"df-b701c952-2404-4f5c-82fc-9cf2da9314b5\">\n",
              "      <button class=\"colab-df-quickchart\" onclick=\"quickchart('df-b701c952-2404-4f5c-82fc-9cf2da9314b5')\"\n",
              "                title=\"Suggest charts\"\n",
              "                style=\"display:none;\">\n",
              "\n",
              "<svg xmlns=\"http://www.w3.org/2000/svg\" height=\"24px\"viewBox=\"0 0 24 24\"\n",
              "     width=\"24px\">\n",
              "    <g>\n",
              "        <path d=\"M19 3H5c-1.1 0-2 .9-2 2v14c0 1.1.9 2 2 2h14c1.1 0 2-.9 2-2V5c0-1.1-.9-2-2-2zM9 17H7v-7h2v7zm4 0h-2V7h2v10zm4 0h-2v-4h2v4z\"/>\n",
              "    </g>\n",
              "</svg>\n",
              "      </button>\n",
              "\n",
              "<style>\n",
              "  .colab-df-quickchart {\n",
              "      --bg-color: #E8F0FE;\n",
              "      --fill-color: #1967D2;\n",
              "      --hover-bg-color: #E2EBFA;\n",
              "      --hover-fill-color: #174EA6;\n",
              "      --disabled-fill-color: #AAA;\n",
              "      --disabled-bg-color: #DDD;\n",
              "  }\n",
              "\n",
              "  [theme=dark] .colab-df-quickchart {\n",
              "      --bg-color: #3B4455;\n",
              "      --fill-color: #D2E3FC;\n",
              "      --hover-bg-color: #434B5C;\n",
              "      --hover-fill-color: #FFFFFF;\n",
              "      --disabled-bg-color: #3B4455;\n",
              "      --disabled-fill-color: #666;\n",
              "  }\n",
              "\n",
              "  .colab-df-quickchart {\n",
              "    background-color: var(--bg-color);\n",
              "    border: none;\n",
              "    border-radius: 50%;\n",
              "    cursor: pointer;\n",
              "    display: none;\n",
              "    fill: var(--fill-color);\n",
              "    height: 32px;\n",
              "    padding: 0;\n",
              "    width: 32px;\n",
              "  }\n",
              "\n",
              "  .colab-df-quickchart:hover {\n",
              "    background-color: var(--hover-bg-color);\n",
              "    box-shadow: 0 1px 2px rgba(60, 64, 67, 0.3), 0 1px 3px 1px rgba(60, 64, 67, 0.15);\n",
              "    fill: var(--button-hover-fill-color);\n",
              "  }\n",
              "\n",
              "  .colab-df-quickchart-complete:disabled,\n",
              "  .colab-df-quickchart-complete:disabled:hover {\n",
              "    background-color: var(--disabled-bg-color);\n",
              "    fill: var(--disabled-fill-color);\n",
              "    box-shadow: none;\n",
              "  }\n",
              "\n",
              "  .colab-df-spinner {\n",
              "    border: 2px solid var(--fill-color);\n",
              "    border-color: transparent;\n",
              "    border-bottom-color: var(--fill-color);\n",
              "    animation:\n",
              "      spin 1s steps(1) infinite;\n",
              "  }\n",
              "\n",
              "  @keyframes spin {\n",
              "    0% {\n",
              "      border-color: transparent;\n",
              "      border-bottom-color: var(--fill-color);\n",
              "      border-left-color: var(--fill-color);\n",
              "    }\n",
              "    20% {\n",
              "      border-color: transparent;\n",
              "      border-left-color: var(--fill-color);\n",
              "      border-top-color: var(--fill-color);\n",
              "    }\n",
              "    30% {\n",
              "      border-color: transparent;\n",
              "      border-left-color: var(--fill-color);\n",
              "      border-top-color: var(--fill-color);\n",
              "      border-right-color: var(--fill-color);\n",
              "    }\n",
              "    40% {\n",
              "      border-color: transparent;\n",
              "      border-right-color: var(--fill-color);\n",
              "      border-top-color: var(--fill-color);\n",
              "    }\n",
              "    60% {\n",
              "      border-color: transparent;\n",
              "      border-right-color: var(--fill-color);\n",
              "    }\n",
              "    80% {\n",
              "      border-color: transparent;\n",
              "      border-right-color: var(--fill-color);\n",
              "      border-bottom-color: var(--fill-color);\n",
              "    }\n",
              "    90% {\n",
              "      border-color: transparent;\n",
              "      border-bottom-color: var(--fill-color);\n",
              "    }\n",
              "  }\n",
              "</style>\n",
              "\n",
              "      <script>\n",
              "        async function quickchart(key) {\n",
              "          const quickchartButtonEl =\n",
              "            document.querySelector('#' + key + ' button');\n",
              "          quickchartButtonEl.disabled = true;  // To prevent multiple clicks.\n",
              "          quickchartButtonEl.classList.add('colab-df-spinner');\n",
              "          try {\n",
              "            const charts = await google.colab.kernel.invokeFunction(\n",
              "                'suggestCharts', [key], {});\n",
              "          } catch (error) {\n",
              "            console.error('Error during call to suggestCharts:', error);\n",
              "          }\n",
              "          quickchartButtonEl.classList.remove('colab-df-spinner');\n",
              "          quickchartButtonEl.classList.add('colab-df-quickchart-complete');\n",
              "        }\n",
              "        (() => {\n",
              "          let quickchartButtonEl =\n",
              "            document.querySelector('#df-b701c952-2404-4f5c-82fc-9cf2da9314b5 button');\n",
              "          quickchartButtonEl.style.display =\n",
              "            google.colab.kernel.accessAllowed ? 'block' : 'none';\n",
              "        })();\n",
              "      </script>\n",
              "    </div>\n",
              "\n",
              "    </div>\n",
              "  </div>\n"
            ],
            "application/vnd.google.colaboratory.intrinsic+json": {
              "type": "dataframe",
              "repr_error": "0"
            }
          },
          "metadata": {},
          "execution_count": 55
        }
      ],
      "execution_count": 55
    },
    {
      "cell_type": "markdown",
      "source": [
        " checking data type and missing values"
      ],
      "metadata": {
        "id": "Az4JweExZtS_"
      }
    },
    {
      "cell_type": "code",
      "source": [
        "df.describe()"
      ],
      "metadata": {
        "execution": {
          "iopub.status.busy": "2024-07-27T16:19:22.535376Z",
          "iopub.execute_input": "2024-07-27T16:19:22.535759Z",
          "iopub.status.idle": "2024-07-27T16:19:22.571833Z",
          "shell.execute_reply.started": "2024-07-27T16:19:22.535728Z",
          "shell.execute_reply": "2024-07-27T16:19:22.570778Z"
        },
        "trusted": true,
        "id": "QH63trVaZtS_",
        "colab": {
          "base_uri": "https://localhost:8080/",
          "height": 301
        },
        "outputId": "be9cdd1a-880f-413a-b9e6-6a0609b58211"
      },
      "outputs": [
        {
          "output_type": "execute_result",
          "data": {
            "text/plain": [
              "                zip     discount       profit     quantity         sales  \\\n",
              "count   9994.000000  9994.000000  9994.000000  9994.000000   9994.000000   \n",
              "mean   55190.371723     0.156203    28.656896     3.789574    229.858001   \n",
              "std    32063.705315     0.206452   234.260108     2.225110    623.245101   \n",
              "min     1040.000000     0.000000 -6599.978000     1.000000      0.444000   \n",
              "25%    23223.000000     0.000000     1.728750     2.000000     17.280000   \n",
              "50%    56430.500000     0.200000     8.666500     3.000000     54.490000   \n",
              "75%    90008.000000     0.200000    29.364000     5.000000    209.940000   \n",
              "max    99301.000000     0.800000  8399.976000    14.000000  22638.480000   \n",
              "\n",
              "       profit_margin  \n",
              "count    9994.000000  \n",
              "mean        0.120314  \n",
              "std         0.466754  \n",
              "min        -2.750000  \n",
              "25%         0.075000  \n",
              "50%         0.270000  \n",
              "75%         0.362500  \n",
              "max         0.500000  "
            ],
            "text/html": [
              "\n",
              "  <div id=\"df-c295ccfe-54ad-4ac0-97a2-6409568dcff5\" class=\"colab-df-container\">\n",
              "    <div>\n",
              "<style scoped>\n",
              "    .dataframe tbody tr th:only-of-type {\n",
              "        vertical-align: middle;\n",
              "    }\n",
              "\n",
              "    .dataframe tbody tr th {\n",
              "        vertical-align: top;\n",
              "    }\n",
              "\n",
              "    .dataframe thead th {\n",
              "        text-align: right;\n",
              "    }\n",
              "</style>\n",
              "<table border=\"1\" class=\"dataframe\">\n",
              "  <thead>\n",
              "    <tr style=\"text-align: right;\">\n",
              "      <th></th>\n",
              "      <th>zip</th>\n",
              "      <th>discount</th>\n",
              "      <th>profit</th>\n",
              "      <th>quantity</th>\n",
              "      <th>sales</th>\n",
              "      <th>profit_margin</th>\n",
              "    </tr>\n",
              "  </thead>\n",
              "  <tbody>\n",
              "    <tr>\n",
              "      <th>count</th>\n",
              "      <td>9994.000000</td>\n",
              "      <td>9994.000000</td>\n",
              "      <td>9994.000000</td>\n",
              "      <td>9994.000000</td>\n",
              "      <td>9994.000000</td>\n",
              "      <td>9994.000000</td>\n",
              "    </tr>\n",
              "    <tr>\n",
              "      <th>mean</th>\n",
              "      <td>55190.371723</td>\n",
              "      <td>0.156203</td>\n",
              "      <td>28.656896</td>\n",
              "      <td>3.789574</td>\n",
              "      <td>229.858001</td>\n",
              "      <td>0.120314</td>\n",
              "    </tr>\n",
              "    <tr>\n",
              "      <th>std</th>\n",
              "      <td>32063.705315</td>\n",
              "      <td>0.206452</td>\n",
              "      <td>234.260108</td>\n",
              "      <td>2.225110</td>\n",
              "      <td>623.245101</td>\n",
              "      <td>0.466754</td>\n",
              "    </tr>\n",
              "    <tr>\n",
              "      <th>min</th>\n",
              "      <td>1040.000000</td>\n",
              "      <td>0.000000</td>\n",
              "      <td>-6599.978000</td>\n",
              "      <td>1.000000</td>\n",
              "      <td>0.444000</td>\n",
              "      <td>-2.750000</td>\n",
              "    </tr>\n",
              "    <tr>\n",
              "      <th>25%</th>\n",
              "      <td>23223.000000</td>\n",
              "      <td>0.000000</td>\n",
              "      <td>1.728750</td>\n",
              "      <td>2.000000</td>\n",
              "      <td>17.280000</td>\n",
              "      <td>0.075000</td>\n",
              "    </tr>\n",
              "    <tr>\n",
              "      <th>50%</th>\n",
              "      <td>56430.500000</td>\n",
              "      <td>0.200000</td>\n",
              "      <td>8.666500</td>\n",
              "      <td>3.000000</td>\n",
              "      <td>54.490000</td>\n",
              "      <td>0.270000</td>\n",
              "    </tr>\n",
              "    <tr>\n",
              "      <th>75%</th>\n",
              "      <td>90008.000000</td>\n",
              "      <td>0.200000</td>\n",
              "      <td>29.364000</td>\n",
              "      <td>5.000000</td>\n",
              "      <td>209.940000</td>\n",
              "      <td>0.362500</td>\n",
              "    </tr>\n",
              "    <tr>\n",
              "      <th>max</th>\n",
              "      <td>99301.000000</td>\n",
              "      <td>0.800000</td>\n",
              "      <td>8399.976000</td>\n",
              "      <td>14.000000</td>\n",
              "      <td>22638.480000</td>\n",
              "      <td>0.500000</td>\n",
              "    </tr>\n",
              "  </tbody>\n",
              "</table>\n",
              "</div>\n",
              "    <div class=\"colab-df-buttons\">\n",
              "\n",
              "  <div class=\"colab-df-container\">\n",
              "    <button class=\"colab-df-convert\" onclick=\"convertToInteractive('df-c295ccfe-54ad-4ac0-97a2-6409568dcff5')\"\n",
              "            title=\"Convert this dataframe to an interactive table.\"\n",
              "            style=\"display:none;\">\n",
              "\n",
              "  <svg xmlns=\"http://www.w3.org/2000/svg\" height=\"24px\" viewBox=\"0 -960 960 960\">\n",
              "    <path d=\"M120-120v-720h720v720H120Zm60-500h600v-160H180v160Zm220 220h160v-160H400v160Zm0 220h160v-160H400v160ZM180-400h160v-160H180v160Zm440 0h160v-160H620v160ZM180-180h160v-160H180v160Zm440 0h160v-160H620v160Z\"/>\n",
              "  </svg>\n",
              "    </button>\n",
              "\n",
              "  <style>\n",
              "    .colab-df-container {\n",
              "      display:flex;\n",
              "      gap: 12px;\n",
              "    }\n",
              "\n",
              "    .colab-df-convert {\n",
              "      background-color: #E8F0FE;\n",
              "      border: none;\n",
              "      border-radius: 50%;\n",
              "      cursor: pointer;\n",
              "      display: none;\n",
              "      fill: #1967D2;\n",
              "      height: 32px;\n",
              "      padding: 0 0 0 0;\n",
              "      width: 32px;\n",
              "    }\n",
              "\n",
              "    .colab-df-convert:hover {\n",
              "      background-color: #E2EBFA;\n",
              "      box-shadow: 0px 1px 2px rgba(60, 64, 67, 0.3), 0px 1px 3px 1px rgba(60, 64, 67, 0.15);\n",
              "      fill: #174EA6;\n",
              "    }\n",
              "\n",
              "    .colab-df-buttons div {\n",
              "      margin-bottom: 4px;\n",
              "    }\n",
              "\n",
              "    [theme=dark] .colab-df-convert {\n",
              "      background-color: #3B4455;\n",
              "      fill: #D2E3FC;\n",
              "    }\n",
              "\n",
              "    [theme=dark] .colab-df-convert:hover {\n",
              "      background-color: #434B5C;\n",
              "      box-shadow: 0px 1px 3px 1px rgba(0, 0, 0, 0.15);\n",
              "      filter: drop-shadow(0px 1px 2px rgba(0, 0, 0, 0.3));\n",
              "      fill: #FFFFFF;\n",
              "    }\n",
              "  </style>\n",
              "\n",
              "    <script>\n",
              "      const buttonEl =\n",
              "        document.querySelector('#df-c295ccfe-54ad-4ac0-97a2-6409568dcff5 button.colab-df-convert');\n",
              "      buttonEl.style.display =\n",
              "        google.colab.kernel.accessAllowed ? 'block' : 'none';\n",
              "\n",
              "      async function convertToInteractive(key) {\n",
              "        const element = document.querySelector('#df-c295ccfe-54ad-4ac0-97a2-6409568dcff5');\n",
              "        const dataTable =\n",
              "          await google.colab.kernel.invokeFunction('convertToInteractive',\n",
              "                                                    [key], {});\n",
              "        if (!dataTable) return;\n",
              "\n",
              "        const docLinkHtml = 'Like what you see? Visit the ' +\n",
              "          '<a target=\"_blank\" href=https://colab.research.google.com/notebooks/data_table.ipynb>data table notebook</a>'\n",
              "          + ' to learn more about interactive tables.';\n",
              "        element.innerHTML = '';\n",
              "        dataTable['output_type'] = 'display_data';\n",
              "        await google.colab.output.renderOutput(dataTable, element);\n",
              "        const docLink = document.createElement('div');\n",
              "        docLink.innerHTML = docLinkHtml;\n",
              "        element.appendChild(docLink);\n",
              "      }\n",
              "    </script>\n",
              "  </div>\n",
              "\n",
              "\n",
              "    <div id=\"df-cf0c261f-e859-4b34-be8b-77b76ad723fe\">\n",
              "      <button class=\"colab-df-quickchart\" onclick=\"quickchart('df-cf0c261f-e859-4b34-be8b-77b76ad723fe')\"\n",
              "                title=\"Suggest charts\"\n",
              "                style=\"display:none;\">\n",
              "\n",
              "<svg xmlns=\"http://www.w3.org/2000/svg\" height=\"24px\"viewBox=\"0 0 24 24\"\n",
              "     width=\"24px\">\n",
              "    <g>\n",
              "        <path d=\"M19 3H5c-1.1 0-2 .9-2 2v14c0 1.1.9 2 2 2h14c1.1 0 2-.9 2-2V5c0-1.1-.9-2-2-2zM9 17H7v-7h2v7zm4 0h-2V7h2v10zm4 0h-2v-4h2v4z\"/>\n",
              "    </g>\n",
              "</svg>\n",
              "      </button>\n",
              "\n",
              "<style>\n",
              "  .colab-df-quickchart {\n",
              "      --bg-color: #E8F0FE;\n",
              "      --fill-color: #1967D2;\n",
              "      --hover-bg-color: #E2EBFA;\n",
              "      --hover-fill-color: #174EA6;\n",
              "      --disabled-fill-color: #AAA;\n",
              "      --disabled-bg-color: #DDD;\n",
              "  }\n",
              "\n",
              "  [theme=dark] .colab-df-quickchart {\n",
              "      --bg-color: #3B4455;\n",
              "      --fill-color: #D2E3FC;\n",
              "      --hover-bg-color: #434B5C;\n",
              "      --hover-fill-color: #FFFFFF;\n",
              "      --disabled-bg-color: #3B4455;\n",
              "      --disabled-fill-color: #666;\n",
              "  }\n",
              "\n",
              "  .colab-df-quickchart {\n",
              "    background-color: var(--bg-color);\n",
              "    border: none;\n",
              "    border-radius: 50%;\n",
              "    cursor: pointer;\n",
              "    display: none;\n",
              "    fill: var(--fill-color);\n",
              "    height: 32px;\n",
              "    padding: 0;\n",
              "    width: 32px;\n",
              "  }\n",
              "\n",
              "  .colab-df-quickchart:hover {\n",
              "    background-color: var(--hover-bg-color);\n",
              "    box-shadow: 0 1px 2px rgba(60, 64, 67, 0.3), 0 1px 3px 1px rgba(60, 64, 67, 0.15);\n",
              "    fill: var(--button-hover-fill-color);\n",
              "  }\n",
              "\n",
              "  .colab-df-quickchart-complete:disabled,\n",
              "  .colab-df-quickchart-complete:disabled:hover {\n",
              "    background-color: var(--disabled-bg-color);\n",
              "    fill: var(--disabled-fill-color);\n",
              "    box-shadow: none;\n",
              "  }\n",
              "\n",
              "  .colab-df-spinner {\n",
              "    border: 2px solid var(--fill-color);\n",
              "    border-color: transparent;\n",
              "    border-bottom-color: var(--fill-color);\n",
              "    animation:\n",
              "      spin 1s steps(1) infinite;\n",
              "  }\n",
              "\n",
              "  @keyframes spin {\n",
              "    0% {\n",
              "      border-color: transparent;\n",
              "      border-bottom-color: var(--fill-color);\n",
              "      border-left-color: var(--fill-color);\n",
              "    }\n",
              "    20% {\n",
              "      border-color: transparent;\n",
              "      border-left-color: var(--fill-color);\n",
              "      border-top-color: var(--fill-color);\n",
              "    }\n",
              "    30% {\n",
              "      border-color: transparent;\n",
              "      border-left-color: var(--fill-color);\n",
              "      border-top-color: var(--fill-color);\n",
              "      border-right-color: var(--fill-color);\n",
              "    }\n",
              "    40% {\n",
              "      border-color: transparent;\n",
              "      border-right-color: var(--fill-color);\n",
              "      border-top-color: var(--fill-color);\n",
              "    }\n",
              "    60% {\n",
              "      border-color: transparent;\n",
              "      border-right-color: var(--fill-color);\n",
              "    }\n",
              "    80% {\n",
              "      border-color: transparent;\n",
              "      border-right-color: var(--fill-color);\n",
              "      border-bottom-color: var(--fill-color);\n",
              "    }\n",
              "    90% {\n",
              "      border-color: transparent;\n",
              "      border-bottom-color: var(--fill-color);\n",
              "    }\n",
              "  }\n",
              "</style>\n",
              "\n",
              "      <script>\n",
              "        async function quickchart(key) {\n",
              "          const quickchartButtonEl =\n",
              "            document.querySelector('#' + key + ' button');\n",
              "          quickchartButtonEl.disabled = true;  // To prevent multiple clicks.\n",
              "          quickchartButtonEl.classList.add('colab-df-spinner');\n",
              "          try {\n",
              "            const charts = await google.colab.kernel.invokeFunction(\n",
              "                'suggestCharts', [key], {});\n",
              "          } catch (error) {\n",
              "            console.error('Error during call to suggestCharts:', error);\n",
              "          }\n",
              "          quickchartButtonEl.classList.remove('colab-df-spinner');\n",
              "          quickchartButtonEl.classList.add('colab-df-quickchart-complete');\n",
              "        }\n",
              "        (() => {\n",
              "          let quickchartButtonEl =\n",
              "            document.querySelector('#df-cf0c261f-e859-4b34-be8b-77b76ad723fe button');\n",
              "          quickchartButtonEl.style.display =\n",
              "            google.colab.kernel.accessAllowed ? 'block' : 'none';\n",
              "        })();\n",
              "      </script>\n",
              "    </div>\n",
              "\n",
              "    </div>\n",
              "  </div>\n"
            ],
            "application/vnd.google.colaboratory.intrinsic+json": {
              "type": "dataframe",
              "summary": "{\n  \"name\": \"df\",\n  \"rows\": 8,\n  \"fields\": [\n    {\n      \"column\": \"zip\",\n      \"properties\": {\n        \"dtype\": \"number\",\n        \"std\": 35860.31311684457,\n        \"min\": 1040.0,\n        \"max\": 99301.0,\n        \"num_unique_values\": 8,\n        \"samples\": [\n          55190.37172303382,\n          56430.5,\n          9994.0\n        ],\n        \"semantic_type\": \"\",\n        \"description\": \"\"\n      }\n    },\n    {\n      \"column\": \"discount\",\n      \"properties\": {\n        \"dtype\": \"number\",\n        \"std\": 3533.3336684667293,\n        \"min\": 0.0,\n        \"max\": 9994.0,\n        \"num_unique_values\": 6,\n        \"samples\": [\n          9994.0,\n          0.15620272163297977,\n          0.8\n        ],\n        \"semantic_type\": \"\",\n        \"description\": \"\"\n      }\n    },\n    {\n      \"column\": \"profit\",\n      \"properties\": {\n        \"dtype\": \"number\",\n        \"std\": 5288.326642672474,\n        \"min\": -6599.978,\n        \"max\": 9994.0,\n        \"num_unique_values\": 8,\n        \"samples\": [\n          28.656896307784674,\n          8.6665,\n          9994.0\n        ],\n        \"semantic_type\": \"\",\n        \"description\": \"\"\n      }\n    },\n    {\n      \"column\": \"quantity\",\n      \"properties\": {\n        \"dtype\": \"number\",\n        \"std\": 3531.848471644344,\n        \"min\": 1.0,\n        \"max\": 9994.0,\n        \"num_unique_values\": 8,\n        \"samples\": [\n          3.789573744246548,\n          3.0,\n          9994.0\n        ],\n        \"semantic_type\": \"\",\n        \"description\": \"\"\n      }\n    },\n    {\n      \"column\": \"sales\",\n      \"properties\": {\n        \"dtype\": \"number\",\n        \"std\": 8197.010918685499,\n        \"min\": 0.444,\n        \"max\": 22638.48,\n        \"num_unique_values\": 8,\n        \"samples\": [\n          229.85800083049827,\n          54.489999999999995,\n          9994.0\n        ],\n        \"semantic_type\": \"\",\n        \"description\": \"\"\n      }\n    },\n    {\n      \"column\": \"profit_margin\",\n      \"properties\": {\n        \"dtype\": \"number\",\n        \"std\": 3533.4610064117255,\n        \"min\": -2.75,\n        \"max\": 9994.0,\n        \"num_unique_values\": 8,\n        \"samples\": [\n          0.12031392972173303,\n          0.27,\n          9994.0\n        ],\n        \"semantic_type\": \"\",\n        \"description\": \"\"\n      }\n    }\n  ]\n}"
            }
          },
          "metadata": {},
          "execution_count": 56
        }
      ],
      "execution_count": 56
    },
    {
      "cell_type": "code",
      "source": [
        "df.shape"
      ],
      "metadata": {
        "execution": {
          "iopub.status.busy": "2024-07-27T16:19:22.573359Z",
          "iopub.execute_input": "2024-07-27T16:19:22.574224Z",
          "iopub.status.idle": "2024-07-27T16:19:22.581285Z",
          "shell.execute_reply.started": "2024-07-27T16:19:22.57418Z",
          "shell.execute_reply": "2024-07-27T16:19:22.580164Z"
        },
        "trusted": true,
        "id": "yByP66KPZtS_",
        "colab": {
          "base_uri": "https://localhost:8080/",
          "height": 0
        },
        "outputId": "8ce5a530-f479-4aab-c3ea-28a4e2219c73"
      },
      "outputs": [
        {
          "output_type": "execute_result",
          "data": {
            "text/plain": [
              "(9994, 19)"
            ]
          },
          "metadata": {},
          "execution_count": 57
        }
      ],
      "execution_count": 57
    },
    {
      "cell_type": "code",
      "source": [
        "df.columns"
      ],
      "metadata": {
        "execution": {
          "iopub.status.busy": "2024-07-27T16:19:22.585792Z",
          "iopub.execute_input": "2024-07-27T16:19:22.586219Z",
          "iopub.status.idle": "2024-07-27T16:19:22.596175Z",
          "shell.execute_reply.started": "2024-07-27T16:19:22.586184Z",
          "shell.execute_reply": "2024-07-27T16:19:22.594919Z"
        },
        "trusted": true,
        "id": "rS_iu_WpZtS_",
        "colab": {
          "base_uri": "https://localhost:8080/",
          "height": 0
        },
        "outputId": "3f17326d-5007-4dc8-f7d4-98bb0b2beb06"
      },
      "outputs": [
        {
          "output_type": "execute_result",
          "data": {
            "text/plain": [
              "Index(['order_id', 'order_date', 'ship_date', 'customer', 'manufactory',\n",
              "       'product_name', 'segment', 'category', 'subcategory', 'region', 'zip',\n",
              "       'city', 'state', 'country', 'discount', 'profit', 'quantity', 'sales',\n",
              "       'profit_margin'],\n",
              "      dtype='object')"
            ]
          },
          "metadata": {},
          "execution_count": 58
        }
      ],
      "execution_count": 58
    },
    {
      "cell_type": "code",
      "source": [
        "df.info()"
      ],
      "metadata": {
        "execution": {
          "iopub.status.busy": "2024-07-27T16:19:22.597546Z",
          "iopub.execute_input": "2024-07-27T16:19:22.598069Z",
          "iopub.status.idle": "2024-07-27T16:19:22.629016Z",
          "shell.execute_reply.started": "2024-07-27T16:19:22.598007Z",
          "shell.execute_reply": "2024-07-27T16:19:22.627558Z"
        },
        "trusted": true,
        "id": "KvtM-QtDZtTA",
        "colab": {
          "base_uri": "https://localhost:8080/",
          "height": 0
        },
        "outputId": "bf7e57eb-a333-4245-989e-d2448d146d23"
      },
      "outputs": [
        {
          "output_type": "stream",
          "name": "stdout",
          "text": [
            "<class 'pandas.core.frame.DataFrame'>\n",
            "RangeIndex: 9994 entries, 0 to 9993\n",
            "Data columns (total 19 columns):\n",
            " #   Column         Non-Null Count  Dtype  \n",
            "---  ------         --------------  -----  \n",
            " 0   order_id       9994 non-null   object \n",
            " 1   order_date     9994 non-null   object \n",
            " 2   ship_date      9994 non-null   object \n",
            " 3   customer       9994 non-null   object \n",
            " 4   manufactory    9994 non-null   object \n",
            " 5   product_name   9994 non-null   object \n",
            " 6   segment        9994 non-null   object \n",
            " 7   category       9994 non-null   object \n",
            " 8   subcategory    9994 non-null   object \n",
            " 9   region         9994 non-null   object \n",
            " 10  zip            9994 non-null   int64  \n",
            " 11  city           9994 non-null   object \n",
            " 12  state          9994 non-null   object \n",
            " 13  country        9994 non-null   object \n",
            " 14  discount       9994 non-null   float64\n",
            " 15  profit         9994 non-null   float64\n",
            " 16  quantity       9994 non-null   int64  \n",
            " 17  sales          9994 non-null   float64\n",
            " 18  profit_margin  9994 non-null   float64\n",
            "dtypes: float64(4), int64(2), object(13)\n",
            "memory usage: 1.4+ MB\n"
          ]
        }
      ],
      "execution_count": 59
    },
    {
      "cell_type": "code",
      "source": [
        "df.isnull().sum()"
      ],
      "metadata": {
        "execution": {
          "iopub.status.busy": "2024-07-27T16:19:22.630711Z",
          "iopub.execute_input": "2024-07-27T16:19:22.631166Z",
          "iopub.status.idle": "2024-07-27T16:19:22.656616Z",
          "shell.execute_reply.started": "2024-07-27T16:19:22.63113Z",
          "shell.execute_reply": "2024-07-27T16:19:22.655479Z"
        },
        "trusted": true,
        "id": "9b4BuRAaZtTA",
        "colab": {
          "base_uri": "https://localhost:8080/",
          "height": 680
        },
        "outputId": "f6a526d7-4744-452f-d694-5434a1f20105"
      },
      "outputs": [
        {
          "output_type": "execute_result",
          "data": {
            "text/plain": [
              "order_id         0\n",
              "order_date       0\n",
              "ship_date        0\n",
              "customer         0\n",
              "manufactory      0\n",
              "product_name     0\n",
              "segment          0\n",
              "category         0\n",
              "subcategory      0\n",
              "region           0\n",
              "zip              0\n",
              "city             0\n",
              "state            0\n",
              "country          0\n",
              "discount         0\n",
              "profit           0\n",
              "quantity         0\n",
              "sales            0\n",
              "profit_margin    0\n",
              "dtype: int64"
            ],
            "text/html": [
              "<div>\n",
              "<style scoped>\n",
              "    .dataframe tbody tr th:only-of-type {\n",
              "        vertical-align: middle;\n",
              "    }\n",
              "\n",
              "    .dataframe tbody tr th {\n",
              "        vertical-align: top;\n",
              "    }\n",
              "\n",
              "    .dataframe thead th {\n",
              "        text-align: right;\n",
              "    }\n",
              "</style>\n",
              "<table border=\"1\" class=\"dataframe\">\n",
              "  <thead>\n",
              "    <tr style=\"text-align: right;\">\n",
              "      <th></th>\n",
              "      <th>0</th>\n",
              "    </tr>\n",
              "  </thead>\n",
              "  <tbody>\n",
              "    <tr>\n",
              "      <th>order_id</th>\n",
              "      <td>0</td>\n",
              "    </tr>\n",
              "    <tr>\n",
              "      <th>order_date</th>\n",
              "      <td>0</td>\n",
              "    </tr>\n",
              "    <tr>\n",
              "      <th>ship_date</th>\n",
              "      <td>0</td>\n",
              "    </tr>\n",
              "    <tr>\n",
              "      <th>customer</th>\n",
              "      <td>0</td>\n",
              "    </tr>\n",
              "    <tr>\n",
              "      <th>manufactory</th>\n",
              "      <td>0</td>\n",
              "    </tr>\n",
              "    <tr>\n",
              "      <th>product_name</th>\n",
              "      <td>0</td>\n",
              "    </tr>\n",
              "    <tr>\n",
              "      <th>segment</th>\n",
              "      <td>0</td>\n",
              "    </tr>\n",
              "    <tr>\n",
              "      <th>category</th>\n",
              "      <td>0</td>\n",
              "    </tr>\n",
              "    <tr>\n",
              "      <th>subcategory</th>\n",
              "      <td>0</td>\n",
              "    </tr>\n",
              "    <tr>\n",
              "      <th>region</th>\n",
              "      <td>0</td>\n",
              "    </tr>\n",
              "    <tr>\n",
              "      <th>zip</th>\n",
              "      <td>0</td>\n",
              "    </tr>\n",
              "    <tr>\n",
              "      <th>city</th>\n",
              "      <td>0</td>\n",
              "    </tr>\n",
              "    <tr>\n",
              "      <th>state</th>\n",
              "      <td>0</td>\n",
              "    </tr>\n",
              "    <tr>\n",
              "      <th>country</th>\n",
              "      <td>0</td>\n",
              "    </tr>\n",
              "    <tr>\n",
              "      <th>discount</th>\n",
              "      <td>0</td>\n",
              "    </tr>\n",
              "    <tr>\n",
              "      <th>profit</th>\n",
              "      <td>0</td>\n",
              "    </tr>\n",
              "    <tr>\n",
              "      <th>quantity</th>\n",
              "      <td>0</td>\n",
              "    </tr>\n",
              "    <tr>\n",
              "      <th>sales</th>\n",
              "      <td>0</td>\n",
              "    </tr>\n",
              "    <tr>\n",
              "      <th>profit_margin</th>\n",
              "      <td>0</td>\n",
              "    </tr>\n",
              "  </tbody>\n",
              "</table>\n",
              "</div><br><label><b>dtype:</b> int64</label>"
            ]
          },
          "metadata": {},
          "execution_count": 60
        }
      ],
      "execution_count": 60
    },
    {
      "cell_type": "code",
      "source": [
        "df.duplicated().sum()"
      ],
      "metadata": {
        "execution": {
          "iopub.status.busy": "2024-07-27T16:19:22.658222Z",
          "iopub.execute_input": "2024-07-27T16:19:22.658579Z",
          "iopub.status.idle": "2024-07-27T16:19:22.688359Z",
          "shell.execute_reply.started": "2024-07-27T16:19:22.658549Z",
          "shell.execute_reply": "2024-07-27T16:19:22.686866Z"
        },
        "trusted": true,
        "id": "jfXnlQuDZtTA",
        "colab": {
          "base_uri": "https://localhost:8080/",
          "height": 0
        },
        "outputId": "adbc78c3-1e89-4e9d-f132-83e8087ff00a"
      },
      "outputs": [
        {
          "output_type": "execute_result",
          "data": {
            "text/plain": [
              "np.int64(1)"
            ]
          },
          "metadata": {},
          "execution_count": 61
        }
      ],
      "execution_count": 61
    },
    {
      "cell_type": "code",
      "source": [
        "df.drop_duplicates(inplace=True)"
      ],
      "metadata": {
        "execution": {
          "iopub.status.busy": "2024-07-27T16:19:22.689969Z",
          "iopub.execute_input": "2024-07-27T16:19:22.690375Z",
          "iopub.status.idle": "2024-07-27T16:19:22.717735Z",
          "shell.execute_reply.started": "2024-07-27T16:19:22.690341Z",
          "shell.execute_reply": "2024-07-27T16:19:22.71674Z"
        },
        "trusted": true,
        "id": "3NCp-bIKZtTA"
      },
      "outputs": [],
      "execution_count": 62
    },
    {
      "cell_type": "code",
      "source": [
        "df.duplicated().sum()"
      ],
      "metadata": {
        "execution": {
          "iopub.status.busy": "2024-07-27T16:19:22.718935Z",
          "iopub.execute_input": "2024-07-27T16:19:22.719295Z",
          "iopub.status.idle": "2024-07-27T16:19:22.746825Z",
          "shell.execute_reply.started": "2024-07-27T16:19:22.719264Z",
          "shell.execute_reply": "2024-07-27T16:19:22.745635Z"
        },
        "trusted": true,
        "id": "g8ODeaOsZtTA",
        "colab": {
          "base_uri": "https://localhost:8080/",
          "height": 0
        },
        "outputId": "06115831-1f22-4165-c451-bbf447b3e3f8"
      },
      "outputs": [
        {
          "output_type": "execute_result",
          "data": {
            "text/plain": [
              "np.int64(0)"
            ]
          },
          "metadata": {},
          "execution_count": 63
        }
      ],
      "execution_count": 63
    },
    {
      "cell_type": "code",
      "source": [
        "df_cat=df[['customer','manufactory','product_name','segment','category','subcategory','region','city','state','country']]"
      ],
      "metadata": {
        "execution": {
          "iopub.status.busy": "2024-07-27T16:19:22.748361Z",
          "iopub.execute_input": "2024-07-27T16:19:22.748727Z",
          "iopub.status.idle": "2024-07-27T16:19:22.756667Z",
          "shell.execute_reply.started": "2024-07-27T16:19:22.748694Z",
          "shell.execute_reply": "2024-07-27T16:19:22.755497Z"
        },
        "trusted": true,
        "id": "UTDjwjH5ZtTA"
      },
      "outputs": [],
      "execution_count": 64
    },
    {
      "cell_type": "code",
      "source": [
        "df_cat.nunique()"
      ],
      "metadata": {
        "execution": {
          "iopub.status.busy": "2024-07-27T16:19:22.75842Z",
          "iopub.execute_input": "2024-07-27T16:19:22.75889Z",
          "iopub.status.idle": "2024-07-27T16:19:22.785566Z",
          "shell.execute_reply.started": "2024-07-27T16:19:22.758825Z",
          "shell.execute_reply": "2024-07-27T16:19:22.783968Z"
        },
        "trusted": true,
        "id": "T0e5jDOEZtTA",
        "colab": {
          "base_uri": "https://localhost:8080/",
          "height": 398
        },
        "outputId": "09fb17d4-ff80-4519-eab8-cd620fe4eb82"
      },
      "outputs": [
        {
          "output_type": "execute_result",
          "data": {
            "text/plain": [
              "customer         793\n",
              "manufactory      182\n",
              "product_name    1849\n",
              "segment            3\n",
              "category           3\n",
              "subcategory       17\n",
              "region             4\n",
              "city             531\n",
              "state             49\n",
              "country            1\n",
              "dtype: int64"
            ],
            "text/html": [
              "<div>\n",
              "<style scoped>\n",
              "    .dataframe tbody tr th:only-of-type {\n",
              "        vertical-align: middle;\n",
              "    }\n",
              "\n",
              "    .dataframe tbody tr th {\n",
              "        vertical-align: top;\n",
              "    }\n",
              "\n",
              "    .dataframe thead th {\n",
              "        text-align: right;\n",
              "    }\n",
              "</style>\n",
              "<table border=\"1\" class=\"dataframe\">\n",
              "  <thead>\n",
              "    <tr style=\"text-align: right;\">\n",
              "      <th></th>\n",
              "      <th>0</th>\n",
              "    </tr>\n",
              "  </thead>\n",
              "  <tbody>\n",
              "    <tr>\n",
              "      <th>customer</th>\n",
              "      <td>793</td>\n",
              "    </tr>\n",
              "    <tr>\n",
              "      <th>manufactory</th>\n",
              "      <td>182</td>\n",
              "    </tr>\n",
              "    <tr>\n",
              "      <th>product_name</th>\n",
              "      <td>1849</td>\n",
              "    </tr>\n",
              "    <tr>\n",
              "      <th>segment</th>\n",
              "      <td>3</td>\n",
              "    </tr>\n",
              "    <tr>\n",
              "      <th>category</th>\n",
              "      <td>3</td>\n",
              "    </tr>\n",
              "    <tr>\n",
              "      <th>subcategory</th>\n",
              "      <td>17</td>\n",
              "    </tr>\n",
              "    <tr>\n",
              "      <th>region</th>\n",
              "      <td>4</td>\n",
              "    </tr>\n",
              "    <tr>\n",
              "      <th>city</th>\n",
              "      <td>531</td>\n",
              "    </tr>\n",
              "    <tr>\n",
              "      <th>state</th>\n",
              "      <td>49</td>\n",
              "    </tr>\n",
              "    <tr>\n",
              "      <th>country</th>\n",
              "      <td>1</td>\n",
              "    </tr>\n",
              "  </tbody>\n",
              "</table>\n",
              "</div><br><label><b>dtype:</b> int64</label>"
            ]
          },
          "metadata": {},
          "execution_count": 65
        }
      ],
      "execution_count": 65
    },
    {
      "cell_type": "markdown",
      "source": [
        "#  Exploratory Data Analysis\n"
      ],
      "metadata": {
        "id": "fxxeiNJmZtTA"
      }
    },
    {
      "cell_type": "code",
      "source": [
        "df.head()"
      ],
      "metadata": {
        "execution": {
          "iopub.status.busy": "2024-07-27T16:19:22.787363Z",
          "iopub.execute_input": "2024-07-27T16:19:22.787828Z",
          "iopub.status.idle": "2024-07-27T16:19:22.813205Z",
          "shell.execute_reply.started": "2024-07-27T16:19:22.787785Z",
          "shell.execute_reply": "2024-07-27T16:19:22.811912Z"
        },
        "trusted": true,
        "id": "seUc5wm7ZtTA",
        "colab": {
          "base_uri": "https://localhost:8080/",
          "height": 452
        },
        "outputId": "16786b09-aa16-49f5-8669-0a12ec4acfa1"
      },
      "outputs": [
        {
          "output_type": "execute_result",
          "data": {
            "text/plain": [
              "         order_id order_date  ship_date       customer   manufactory  \\\n",
              "0  US-2020-103800   1/3/2019   1/7/2019  Darren Powers  Message Book   \n",
              "1  US-2020-112326   1/4/2019   1/8/2019  Phillina Ober           GBC   \n",
              "2  US-2020-112326   1/4/2019   1/8/2019  Phillina Ober         Avery   \n",
              "3  US-2020-112326   1/4/2019   1/8/2019  Phillina Ober         SAFCO   \n",
              "4  US-2020-141817   1/5/2019  1/12/2019     Mick Brown         Avery   \n",
              "\n",
              "                                        product_name      segment  \\\n",
              "0  Message Book, Wirebound, Four 5 1/2\" X 4\" Form...     Consumer   \n",
              "1         GBC Standard Plastic Binding Systems Combs  Home Office   \n",
              "2                                          Avery 508  Home Office   \n",
              "3                      SAFCO Boltless Steel Shelving  Home Office   \n",
              "4  Avery Hi-Liter EverBold Pen Style Fluorescent ...     Consumer   \n",
              "\n",
              "          category subcategory   region    zip          city         state  \\\n",
              "0  Office Supplies       Paper  Central  77095       Houston         Texas   \n",
              "1  Office Supplies     Binders  Central  60540    Naperville      Illinois   \n",
              "2  Office Supplies      Labels  Central  60540    Naperville      Illinois   \n",
              "3  Office Supplies     Storage  Central  60540    Naperville      Illinois   \n",
              "4  Office Supplies         Art     East  19143  Philadelphia  Pennsylvania   \n",
              "\n",
              "         country  discount   profit  quantity    sales  profit_margin  \n",
              "0  United States       0.2   5.5512         2   16.448         0.3375  \n",
              "1  United States       0.8  -5.4870         2    3.540        -1.5500  \n",
              "2  United States       0.2   4.2717         3   11.784         0.3625  \n",
              "3  United States       0.2 -64.7748         3  272.736        -0.2375  \n",
              "4  United States       0.2   4.8840         3   19.536         0.2500  "
            ],
            "text/html": [
              "\n",
              "  <div id=\"df-912cedc5-0e57-46e6-8048-a7bb16ab8e37\" class=\"colab-df-container\">\n",
              "    <div>\n",
              "<style scoped>\n",
              "    .dataframe tbody tr th:only-of-type {\n",
              "        vertical-align: middle;\n",
              "    }\n",
              "\n",
              "    .dataframe tbody tr th {\n",
              "        vertical-align: top;\n",
              "    }\n",
              "\n",
              "    .dataframe thead th {\n",
              "        text-align: right;\n",
              "    }\n",
              "</style>\n",
              "<table border=\"1\" class=\"dataframe\">\n",
              "  <thead>\n",
              "    <tr style=\"text-align: right;\">\n",
              "      <th></th>\n",
              "      <th>order_id</th>\n",
              "      <th>order_date</th>\n",
              "      <th>ship_date</th>\n",
              "      <th>customer</th>\n",
              "      <th>manufactory</th>\n",
              "      <th>product_name</th>\n",
              "      <th>segment</th>\n",
              "      <th>category</th>\n",
              "      <th>subcategory</th>\n",
              "      <th>region</th>\n",
              "      <th>zip</th>\n",
              "      <th>city</th>\n",
              "      <th>state</th>\n",
              "      <th>country</th>\n",
              "      <th>discount</th>\n",
              "      <th>profit</th>\n",
              "      <th>quantity</th>\n",
              "      <th>sales</th>\n",
              "      <th>profit_margin</th>\n",
              "    </tr>\n",
              "  </thead>\n",
              "  <tbody>\n",
              "    <tr>\n",
              "      <th>0</th>\n",
              "      <td>US-2020-103800</td>\n",
              "      <td>1/3/2019</td>\n",
              "      <td>1/7/2019</td>\n",
              "      <td>Darren Powers</td>\n",
              "      <td>Message Book</td>\n",
              "      <td>Message Book, Wirebound, Four 5 1/2\" X 4\" Form...</td>\n",
              "      <td>Consumer</td>\n",
              "      <td>Office Supplies</td>\n",
              "      <td>Paper</td>\n",
              "      <td>Central</td>\n",
              "      <td>77095</td>\n",
              "      <td>Houston</td>\n",
              "      <td>Texas</td>\n",
              "      <td>United States</td>\n",
              "      <td>0.2</td>\n",
              "      <td>5.5512</td>\n",
              "      <td>2</td>\n",
              "      <td>16.448</td>\n",
              "      <td>0.3375</td>\n",
              "    </tr>\n",
              "    <tr>\n",
              "      <th>1</th>\n",
              "      <td>US-2020-112326</td>\n",
              "      <td>1/4/2019</td>\n",
              "      <td>1/8/2019</td>\n",
              "      <td>Phillina Ober</td>\n",
              "      <td>GBC</td>\n",
              "      <td>GBC Standard Plastic Binding Systems Combs</td>\n",
              "      <td>Home Office</td>\n",
              "      <td>Office Supplies</td>\n",
              "      <td>Binders</td>\n",
              "      <td>Central</td>\n",
              "      <td>60540</td>\n",
              "      <td>Naperville</td>\n",
              "      <td>Illinois</td>\n",
              "      <td>United States</td>\n",
              "      <td>0.8</td>\n",
              "      <td>-5.4870</td>\n",
              "      <td>2</td>\n",
              "      <td>3.540</td>\n",
              "      <td>-1.5500</td>\n",
              "    </tr>\n",
              "    <tr>\n",
              "      <th>2</th>\n",
              "      <td>US-2020-112326</td>\n",
              "      <td>1/4/2019</td>\n",
              "      <td>1/8/2019</td>\n",
              "      <td>Phillina Ober</td>\n",
              "      <td>Avery</td>\n",
              "      <td>Avery 508</td>\n",
              "      <td>Home Office</td>\n",
              "      <td>Office Supplies</td>\n",
              "      <td>Labels</td>\n",
              "      <td>Central</td>\n",
              "      <td>60540</td>\n",
              "      <td>Naperville</td>\n",
              "      <td>Illinois</td>\n",
              "      <td>United States</td>\n",
              "      <td>0.2</td>\n",
              "      <td>4.2717</td>\n",
              "      <td>3</td>\n",
              "      <td>11.784</td>\n",
              "      <td>0.3625</td>\n",
              "    </tr>\n",
              "    <tr>\n",
              "      <th>3</th>\n",
              "      <td>US-2020-112326</td>\n",
              "      <td>1/4/2019</td>\n",
              "      <td>1/8/2019</td>\n",
              "      <td>Phillina Ober</td>\n",
              "      <td>SAFCO</td>\n",
              "      <td>SAFCO Boltless Steel Shelving</td>\n",
              "      <td>Home Office</td>\n",
              "      <td>Office Supplies</td>\n",
              "      <td>Storage</td>\n",
              "      <td>Central</td>\n",
              "      <td>60540</td>\n",
              "      <td>Naperville</td>\n",
              "      <td>Illinois</td>\n",
              "      <td>United States</td>\n",
              "      <td>0.2</td>\n",
              "      <td>-64.7748</td>\n",
              "      <td>3</td>\n",
              "      <td>272.736</td>\n",
              "      <td>-0.2375</td>\n",
              "    </tr>\n",
              "    <tr>\n",
              "      <th>4</th>\n",
              "      <td>US-2020-141817</td>\n",
              "      <td>1/5/2019</td>\n",
              "      <td>1/12/2019</td>\n",
              "      <td>Mick Brown</td>\n",
              "      <td>Avery</td>\n",
              "      <td>Avery Hi-Liter EverBold Pen Style Fluorescent ...</td>\n",
              "      <td>Consumer</td>\n",
              "      <td>Office Supplies</td>\n",
              "      <td>Art</td>\n",
              "      <td>East</td>\n",
              "      <td>19143</td>\n",
              "      <td>Philadelphia</td>\n",
              "      <td>Pennsylvania</td>\n",
              "      <td>United States</td>\n",
              "      <td>0.2</td>\n",
              "      <td>4.8840</td>\n",
              "      <td>3</td>\n",
              "      <td>19.536</td>\n",
              "      <td>0.2500</td>\n",
              "    </tr>\n",
              "  </tbody>\n",
              "</table>\n",
              "</div>\n",
              "    <div class=\"colab-df-buttons\">\n",
              "\n",
              "  <div class=\"colab-df-container\">\n",
              "    <button class=\"colab-df-convert\" onclick=\"convertToInteractive('df-912cedc5-0e57-46e6-8048-a7bb16ab8e37')\"\n",
              "            title=\"Convert this dataframe to an interactive table.\"\n",
              "            style=\"display:none;\">\n",
              "\n",
              "  <svg xmlns=\"http://www.w3.org/2000/svg\" height=\"24px\" viewBox=\"0 -960 960 960\">\n",
              "    <path d=\"M120-120v-720h720v720H120Zm60-500h600v-160H180v160Zm220 220h160v-160H400v160Zm0 220h160v-160H400v160ZM180-400h160v-160H180v160Zm440 0h160v-160H620v160ZM180-180h160v-160H180v160Zm440 0h160v-160H620v160Z\"/>\n",
              "  </svg>\n",
              "    </button>\n",
              "\n",
              "  <style>\n",
              "    .colab-df-container {\n",
              "      display:flex;\n",
              "      gap: 12px;\n",
              "    }\n",
              "\n",
              "    .colab-df-convert {\n",
              "      background-color: #E8F0FE;\n",
              "      border: none;\n",
              "      border-radius: 50%;\n",
              "      cursor: pointer;\n",
              "      display: none;\n",
              "      fill: #1967D2;\n",
              "      height: 32px;\n",
              "      padding: 0 0 0 0;\n",
              "      width: 32px;\n",
              "    }\n",
              "\n",
              "    .colab-df-convert:hover {\n",
              "      background-color: #E2EBFA;\n",
              "      box-shadow: 0px 1px 2px rgba(60, 64, 67, 0.3), 0px 1px 3px 1px rgba(60, 64, 67, 0.15);\n",
              "      fill: #174EA6;\n",
              "    }\n",
              "\n",
              "    .colab-df-buttons div {\n",
              "      margin-bottom: 4px;\n",
              "    }\n",
              "\n",
              "    [theme=dark] .colab-df-convert {\n",
              "      background-color: #3B4455;\n",
              "      fill: #D2E3FC;\n",
              "    }\n",
              "\n",
              "    [theme=dark] .colab-df-convert:hover {\n",
              "      background-color: #434B5C;\n",
              "      box-shadow: 0px 1px 3px 1px rgba(0, 0, 0, 0.15);\n",
              "      filter: drop-shadow(0px 1px 2px rgba(0, 0, 0, 0.3));\n",
              "      fill: #FFFFFF;\n",
              "    }\n",
              "  </style>\n",
              "\n",
              "    <script>\n",
              "      const buttonEl =\n",
              "        document.querySelector('#df-912cedc5-0e57-46e6-8048-a7bb16ab8e37 button.colab-df-convert');\n",
              "      buttonEl.style.display =\n",
              "        google.colab.kernel.accessAllowed ? 'block' : 'none';\n",
              "\n",
              "      async function convertToInteractive(key) {\n",
              "        const element = document.querySelector('#df-912cedc5-0e57-46e6-8048-a7bb16ab8e37');\n",
              "        const dataTable =\n",
              "          await google.colab.kernel.invokeFunction('convertToInteractive',\n",
              "                                                    [key], {});\n",
              "        if (!dataTable) return;\n",
              "\n",
              "        const docLinkHtml = 'Like what you see? Visit the ' +\n",
              "          '<a target=\"_blank\" href=https://colab.research.google.com/notebooks/data_table.ipynb>data table notebook</a>'\n",
              "          + ' to learn more about interactive tables.';\n",
              "        element.innerHTML = '';\n",
              "        dataTable['output_type'] = 'display_data';\n",
              "        await google.colab.output.renderOutput(dataTable, element);\n",
              "        const docLink = document.createElement('div');\n",
              "        docLink.innerHTML = docLinkHtml;\n",
              "        element.appendChild(docLink);\n",
              "      }\n",
              "    </script>\n",
              "  </div>\n",
              "\n",
              "\n",
              "    <div id=\"df-7c84c33a-52e2-4ca1-a9f5-8f33c3010a4b\">\n",
              "      <button class=\"colab-df-quickchart\" onclick=\"quickchart('df-7c84c33a-52e2-4ca1-a9f5-8f33c3010a4b')\"\n",
              "                title=\"Suggest charts\"\n",
              "                style=\"display:none;\">\n",
              "\n",
              "<svg xmlns=\"http://www.w3.org/2000/svg\" height=\"24px\"viewBox=\"0 0 24 24\"\n",
              "     width=\"24px\">\n",
              "    <g>\n",
              "        <path d=\"M19 3H5c-1.1 0-2 .9-2 2v14c0 1.1.9 2 2 2h14c1.1 0 2-.9 2-2V5c0-1.1-.9-2-2-2zM9 17H7v-7h2v7zm4 0h-2V7h2v10zm4 0h-2v-4h2v4z\"/>\n",
              "    </g>\n",
              "</svg>\n",
              "      </button>\n",
              "\n",
              "<style>\n",
              "  .colab-df-quickchart {\n",
              "      --bg-color: #E8F0FE;\n",
              "      --fill-color: #1967D2;\n",
              "      --hover-bg-color: #E2EBFA;\n",
              "      --hover-fill-color: #174EA6;\n",
              "      --disabled-fill-color: #AAA;\n",
              "      --disabled-bg-color: #DDD;\n",
              "  }\n",
              "\n",
              "  [theme=dark] .colab-df-quickchart {\n",
              "      --bg-color: #3B4455;\n",
              "      --fill-color: #D2E3FC;\n",
              "      --hover-bg-color: #434B5C;\n",
              "      --hover-fill-color: #FFFFFF;\n",
              "      --disabled-bg-color: #3B4455;\n",
              "      --disabled-fill-color: #666;\n",
              "  }\n",
              "\n",
              "  .colab-df-quickchart {\n",
              "    background-color: var(--bg-color);\n",
              "    border: none;\n",
              "    border-radius: 50%;\n",
              "    cursor: pointer;\n",
              "    display: none;\n",
              "    fill: var(--fill-color);\n",
              "    height: 32px;\n",
              "    padding: 0;\n",
              "    width: 32px;\n",
              "  }\n",
              "\n",
              "  .colab-df-quickchart:hover {\n",
              "    background-color: var(--hover-bg-color);\n",
              "    box-shadow: 0 1px 2px rgba(60, 64, 67, 0.3), 0 1px 3px 1px rgba(60, 64, 67, 0.15);\n",
              "    fill: var(--button-hover-fill-color);\n",
              "  }\n",
              "\n",
              "  .colab-df-quickchart-complete:disabled,\n",
              "  .colab-df-quickchart-complete:disabled:hover {\n",
              "    background-color: var(--disabled-bg-color);\n",
              "    fill: var(--disabled-fill-color);\n",
              "    box-shadow: none;\n",
              "  }\n",
              "\n",
              "  .colab-df-spinner {\n",
              "    border: 2px solid var(--fill-color);\n",
              "    border-color: transparent;\n",
              "    border-bottom-color: var(--fill-color);\n",
              "    animation:\n",
              "      spin 1s steps(1) infinite;\n",
              "  }\n",
              "\n",
              "  @keyframes spin {\n",
              "    0% {\n",
              "      border-color: transparent;\n",
              "      border-bottom-color: var(--fill-color);\n",
              "      border-left-color: var(--fill-color);\n",
              "    }\n",
              "    20% {\n",
              "      border-color: transparent;\n",
              "      border-left-color: var(--fill-color);\n",
              "      border-top-color: var(--fill-color);\n",
              "    }\n",
              "    30% {\n",
              "      border-color: transparent;\n",
              "      border-left-color: var(--fill-color);\n",
              "      border-top-color: var(--fill-color);\n",
              "      border-right-color: var(--fill-color);\n",
              "    }\n",
              "    40% {\n",
              "      border-color: transparent;\n",
              "      border-right-color: var(--fill-color);\n",
              "      border-top-color: var(--fill-color);\n",
              "    }\n",
              "    60% {\n",
              "      border-color: transparent;\n",
              "      border-right-color: var(--fill-color);\n",
              "    }\n",
              "    80% {\n",
              "      border-color: transparent;\n",
              "      border-right-color: var(--fill-color);\n",
              "      border-bottom-color: var(--fill-color);\n",
              "    }\n",
              "    90% {\n",
              "      border-color: transparent;\n",
              "      border-bottom-color: var(--fill-color);\n",
              "    }\n",
              "  }\n",
              "</style>\n",
              "\n",
              "      <script>\n",
              "        async function quickchart(key) {\n",
              "          const quickchartButtonEl =\n",
              "            document.querySelector('#' + key + ' button');\n",
              "          quickchartButtonEl.disabled = true;  // To prevent multiple clicks.\n",
              "          quickchartButtonEl.classList.add('colab-df-spinner');\n",
              "          try {\n",
              "            const charts = await google.colab.kernel.invokeFunction(\n",
              "                'suggestCharts', [key], {});\n",
              "          } catch (error) {\n",
              "            console.error('Error during call to suggestCharts:', error);\n",
              "          }\n",
              "          quickchartButtonEl.classList.remove('colab-df-spinner');\n",
              "          quickchartButtonEl.classList.add('colab-df-quickchart-complete');\n",
              "        }\n",
              "        (() => {\n",
              "          let quickchartButtonEl =\n",
              "            document.querySelector('#df-7c84c33a-52e2-4ca1-a9f5-8f33c3010a4b button');\n",
              "          quickchartButtonEl.style.display =\n",
              "            google.colab.kernel.accessAllowed ? 'block' : 'none';\n",
              "        })();\n",
              "      </script>\n",
              "    </div>\n",
              "\n",
              "    </div>\n",
              "  </div>\n"
            ],
            "application/vnd.google.colaboratory.intrinsic+json": {
              "type": "dataframe",
              "variable_name": "df",
              "summary": "{\n  \"name\": \"df\",\n  \"rows\": 9993,\n  \"fields\": [\n    {\n      \"column\": \"order_id\",\n      \"properties\": {\n        \"dtype\": \"string\",\n        \"num_unique_values\": 5009,\n        \"samples\": [\n          \"US-2022-136329\",\n          \"US-2023-140515\",\n          \"US-2023-127096\"\n        ],\n        \"semantic_type\": \"\",\n        \"description\": \"\"\n      }\n    },\n    {\n      \"column\": \"order_date\",\n      \"properties\": {\n        \"dtype\": \"object\",\n        \"num_unique_values\": 1236,\n        \"samples\": [\n          \"12/17/2019\",\n          \"2/16/2021\",\n          \"11/24/2022\"\n        ],\n        \"semantic_type\": \"\",\n        \"description\": \"\"\n      }\n    },\n    {\n      \"column\": \"ship_date\",\n      \"properties\": {\n        \"dtype\": \"object\",\n        \"num_unique_values\": 1334,\n        \"samples\": [\n          \"10/8/2021\",\n          \"4/1/2022\",\n          \"10/18/2022\"\n        ],\n        \"semantic_type\": \"\",\n        \"description\": \"\"\n      }\n    },\n    {\n      \"column\": \"customer\",\n      \"properties\": {\n        \"dtype\": \"category\",\n        \"num_unique_values\": 793,\n        \"samples\": [\n          \"Pauline Johnson\",\n          \"Victoria Wilson\",\n          \"Jason Gross\"\n        ],\n        \"semantic_type\": \"\",\n        \"description\": \"\"\n      }\n    },\n    {\n      \"column\": \"manufactory\",\n      \"properties\": {\n        \"dtype\": \"category\",\n        \"num_unique_values\": 182,\n        \"samples\": [\n          \"Tennsco\",\n          \"Pressboard\",\n          \"Peel & Seel\"\n        ],\n        \"semantic_type\": \"\",\n        \"description\": \"\"\n      }\n    },\n    {\n      \"column\": \"product_name\",\n      \"properties\": {\n        \"dtype\": \"category\",\n        \"num_unique_values\": 1849,\n        \"samples\": [\n          \"Xerox 1995\",\n          \"PureGear Roll-On Screen Protector\",\n          \"Tensor Computer Mounted Lamp\"\n        ],\n        \"semantic_type\": \"\",\n        \"description\": \"\"\n      }\n    },\n    {\n      \"column\": \"segment\",\n      \"properties\": {\n        \"dtype\": \"category\",\n        \"num_unique_values\": 3,\n        \"samples\": [\n          \"Consumer\",\n          \"Home Office\",\n          \"Corporate\"\n        ],\n        \"semantic_type\": \"\",\n        \"description\": \"\"\n      }\n    },\n    {\n      \"column\": \"category\",\n      \"properties\": {\n        \"dtype\": \"category\",\n        \"num_unique_values\": 3,\n        \"samples\": [\n          \"Office Supplies\",\n          \"Furniture\",\n          \"Technology\"\n        ],\n        \"semantic_type\": \"\",\n        \"description\": \"\"\n      }\n    },\n    {\n      \"column\": \"subcategory\",\n      \"properties\": {\n        \"dtype\": \"category\",\n        \"num_unique_values\": 17,\n        \"samples\": [\n          \"Paper\",\n          \"Binders\",\n          \"Chairs\"\n        ],\n        \"semantic_type\": \"\",\n        \"description\": \"\"\n      }\n    },\n    {\n      \"column\": \"region\",\n      \"properties\": {\n        \"dtype\": \"category\",\n        \"num_unique_values\": 4,\n        \"samples\": [\n          \"East\",\n          \"West\",\n          \"Central\"\n        ],\n        \"semantic_type\": \"\",\n        \"description\": \"\"\n      }\n    },\n    {\n      \"column\": \"zip\",\n      \"properties\": {\n        \"dtype\": \"number\",\n        \"std\": 32065,\n        \"min\": 1040,\n        \"max\": 99301,\n        \"num_unique_values\": 631,\n        \"samples\": [\n          80112,\n          29730,\n          42301\n        ],\n        \"semantic_type\": \"\",\n        \"description\": \"\"\n      }\n    },\n    {\n      \"column\": \"city\",\n      \"properties\": {\n        \"dtype\": \"category\",\n        \"num_unique_values\": 531,\n        \"samples\": [\n          \"Elyria\",\n          \"Huntsville\",\n          \"Bakersfield\"\n        ],\n        \"semantic_type\": \"\",\n        \"description\": \"\"\n      }\n    },\n    {\n      \"column\": \"state\",\n      \"properties\": {\n        \"dtype\": \"category\",\n        \"num_unique_values\": 49,\n        \"samples\": [\n          \"Arkansas\",\n          \"Vermont\",\n          \"North Dakota\"\n        ],\n        \"semantic_type\": \"\",\n        \"description\": \"\"\n      }\n    },\n    {\n      \"column\": \"country\",\n      \"properties\": {\n        \"dtype\": \"category\",\n        \"num_unique_values\": 1,\n        \"samples\": [\n          \"United States\"\n        ],\n        \"semantic_type\": \"\",\n        \"description\": \"\"\n      }\n    },\n    {\n      \"column\": \"discount\",\n      \"properties\": {\n        \"dtype\": \"number\",\n        \"std\": 0.20645728624775148,\n        \"min\": 0.0,\n        \"max\": 0.8,\n        \"num_unique_values\": 12,\n        \"samples\": [\n          0.32\n        ],\n        \"semantic_type\": \"\",\n        \"description\": \"\"\n      }\n    },\n    {\n      \"column\": \"profit\",\n      \"properties\": {\n        \"dtype\": \"number\",\n        \"std\": 234.2714756490863,\n        \"min\": -6599.978,\n        \"max\": 8399.976,\n        \"num_unique_values\": 7287,\n        \"samples\": [\n          -7.3255\n        ],\n        \"semantic_type\": \"\",\n        \"description\": \"\"\n      }\n    },\n    {\n      \"column\": \"quantity\",\n      \"properties\": {\n        \"dtype\": \"number\",\n        \"std\": 2,\n        \"min\": 1,\n        \"max\": 14,\n        \"num_unique_values\": 14,\n        \"samples\": [\n          8\n        ],\n        \"semantic_type\": \"\",\n        \"description\": \"\"\n      }\n    },\n    {\n      \"column\": \"sales\",\n      \"properties\": {\n        \"dtype\": \"number\",\n        \"std\": 623.2760738589194,\n        \"min\": 0.444,\n        \"max\": 22638.48,\n        \"num_unique_values\": 5825,\n        \"samples\": [\n          435.168\n        ],\n        \"semantic_type\": \"\",\n        \"description\": \"\"\n      }\n    },\n    {\n      \"column\": \"profit_margin\",\n      \"properties\": {\n        \"dtype\": \"number\",\n        \"std\": 0.46677484648643996,\n        \"min\": -2.75,\n        \"max\": 0.5,\n        \"num_unique_values\": 288,\n        \"samples\": [\n          -0.05\n        ],\n        \"semantic_type\": \"\",\n        \"description\": \"\"\n      }\n    }\n  ]\n}"
            }
          },
          "metadata": {},
          "execution_count": 66
        }
      ],
      "execution_count": 66
    },
    {
      "cell_type": "markdown",
      "source": [
        "#### 1- What are the top selling products in the superstore?"
      ],
      "metadata": {
        "id": "kZ7b60qkZtTA"
      }
    },
    {
      "cell_type": "code",
      "source": [
        "product_group_sales=df.groupby(['product_name']).sum()['sales']"
      ],
      "metadata": {
        "execution": {
          "iopub.status.busy": "2024-07-27T16:19:22.81489Z",
          "iopub.execute_input": "2024-07-27T16:19:22.815365Z",
          "iopub.status.idle": "2024-07-27T16:19:22.872567Z",
          "shell.execute_reply.started": "2024-07-27T16:19:22.815325Z",
          "shell.execute_reply": "2024-07-27T16:19:22.871319Z"
        },
        "trusted": true,
        "id": "kWSUSn9BZtTA"
      },
      "outputs": [],
      "execution_count": 67
    },
    {
      "cell_type": "code",
      "source": [
        "product_group_sales.head()"
      ],
      "metadata": {
        "execution": {
          "iopub.status.busy": "2024-07-27T16:19:22.874452Z",
          "iopub.execute_input": "2024-07-27T16:19:22.874927Z",
          "iopub.status.idle": "2024-07-27T16:19:22.883731Z",
          "shell.execute_reply.started": "2024-07-27T16:19:22.874887Z",
          "shell.execute_reply": "2024-07-27T16:19:22.882415Z"
        },
        "trusted": true,
        "id": "7mo88oMSZtTA",
        "colab": {
          "base_uri": "https://localhost:8080/",
          "height": 273
        },
        "outputId": "c757d0aa-f4ac-40a6-f630-b20aa6a294eb"
      },
      "outputs": [
        {
          "output_type": "execute_result",
          "data": {
            "text/plain": [
              "product_name\n",
              "\"While you Were Out\" Message Book, One Form per Page     25.228\n",
              "#10 Gummed Flap White Envelopes, 100/Box                 41.300\n",
              "#10 Self-Seal White Envelopes                           108.682\n",
              "#10 White Business Envelopes,4 1/8 x 9 1/2              488.904\n",
              "#10- 4 1/8\" x 9 1/2\" Recycled Envelopes                 286.672\n",
              "Name: sales, dtype: float64"
            ],
            "text/html": [
              "<div>\n",
              "<style scoped>\n",
              "    .dataframe tbody tr th:only-of-type {\n",
              "        vertical-align: middle;\n",
              "    }\n",
              "\n",
              "    .dataframe tbody tr th {\n",
              "        vertical-align: top;\n",
              "    }\n",
              "\n",
              "    .dataframe thead th {\n",
              "        text-align: right;\n",
              "    }\n",
              "</style>\n",
              "<table border=\"1\" class=\"dataframe\">\n",
              "  <thead>\n",
              "    <tr style=\"text-align: right;\">\n",
              "      <th></th>\n",
              "      <th>sales</th>\n",
              "    </tr>\n",
              "    <tr>\n",
              "      <th>product_name</th>\n",
              "      <th></th>\n",
              "    </tr>\n",
              "  </thead>\n",
              "  <tbody>\n",
              "    <tr>\n",
              "      <th>\"While you Were Out\" Message Book, One Form per Page</th>\n",
              "      <td>25.228</td>\n",
              "    </tr>\n",
              "    <tr>\n",
              "      <th>#10 Gummed Flap White Envelopes, 100/Box</th>\n",
              "      <td>41.300</td>\n",
              "    </tr>\n",
              "    <tr>\n",
              "      <th>#10 Self-Seal White Envelopes</th>\n",
              "      <td>108.682</td>\n",
              "    </tr>\n",
              "    <tr>\n",
              "      <th>#10 White Business Envelopes,4 1/8 x 9 1/2</th>\n",
              "      <td>488.904</td>\n",
              "    </tr>\n",
              "    <tr>\n",
              "      <th>#10- 4 1/8\" x 9 1/2\" Recycled Envelopes</th>\n",
              "      <td>286.672</td>\n",
              "    </tr>\n",
              "  </tbody>\n",
              "</table>\n",
              "</div><br><label><b>dtype:</b> float64</label>"
            ]
          },
          "metadata": {},
          "execution_count": 68
        }
      ],
      "execution_count": 68
    },
    {
      "cell_type": "code",
      "source": [
        "top_5_selling_products=product_group_sales.sort_values(ascending=False)[:5]"
      ],
      "metadata": {
        "execution": {
          "iopub.status.busy": "2024-07-27T16:19:22.885535Z",
          "iopub.execute_input": "2024-07-27T16:19:22.886019Z",
          "iopub.status.idle": "2024-07-27T16:19:22.894781Z",
          "shell.execute_reply.started": "2024-07-27T16:19:22.885979Z",
          "shell.execute_reply": "2024-07-27T16:19:22.893488Z"
        },
        "trusted": true,
        "id": "PfCODVZHZtTA"
      },
      "outputs": [],
      "execution_count": 69
    },
    {
      "cell_type": "code",
      "source": [
        "top_5_selling_products"
      ],
      "metadata": {
        "execution": {
          "iopub.status.busy": "2024-07-27T16:19:22.900896Z",
          "iopub.execute_input": "2024-07-27T16:19:22.901702Z",
          "iopub.status.idle": "2024-07-27T16:19:22.91014Z",
          "shell.execute_reply.started": "2024-07-27T16:19:22.901667Z",
          "shell.execute_reply": "2024-07-27T16:19:22.908927Z"
        },
        "trusted": true,
        "id": "4Iop0lPEZtTA",
        "colab": {
          "base_uri": "https://localhost:8080/",
          "height": 273
        },
        "outputId": "8f56fe7f-c85f-48c2-daeb-b1e8f8c4b7b1"
      },
      "outputs": [
        {
          "output_type": "execute_result",
          "data": {
            "text/plain": [
              "product_name\n",
              "Canon imageCLASS 2200 Advanced Copier                                          61599.824\n",
              "Fellowes PB500 Electric Punch Plastic Comb Binding Machine with Manual Bind    27453.384\n",
              "Cisco TelePresence System EX90 Videoconferencing Unit                          22638.480\n",
              "HON 5400 Series Task Chairs for Big and Tall                                   21870.576\n",
              "GBC DocuBind TL300 Electric Binding System                                     19823.479\n",
              "Name: sales, dtype: float64"
            ],
            "text/html": [
              "<div>\n",
              "<style scoped>\n",
              "    .dataframe tbody tr th:only-of-type {\n",
              "        vertical-align: middle;\n",
              "    }\n",
              "\n",
              "    .dataframe tbody tr th {\n",
              "        vertical-align: top;\n",
              "    }\n",
              "\n",
              "    .dataframe thead th {\n",
              "        text-align: right;\n",
              "    }\n",
              "</style>\n",
              "<table border=\"1\" class=\"dataframe\">\n",
              "  <thead>\n",
              "    <tr style=\"text-align: right;\">\n",
              "      <th></th>\n",
              "      <th>sales</th>\n",
              "    </tr>\n",
              "    <tr>\n",
              "      <th>product_name</th>\n",
              "      <th></th>\n",
              "    </tr>\n",
              "  </thead>\n",
              "  <tbody>\n",
              "    <tr>\n",
              "      <th>Canon imageCLASS 2200 Advanced Copier</th>\n",
              "      <td>61599.824</td>\n",
              "    </tr>\n",
              "    <tr>\n",
              "      <th>Fellowes PB500 Electric Punch Plastic Comb Binding Machine with Manual Bind</th>\n",
              "      <td>27453.384</td>\n",
              "    </tr>\n",
              "    <tr>\n",
              "      <th>Cisco TelePresence System EX90 Videoconferencing Unit</th>\n",
              "      <td>22638.480</td>\n",
              "    </tr>\n",
              "    <tr>\n",
              "      <th>HON 5400 Series Task Chairs for Big and Tall</th>\n",
              "      <td>21870.576</td>\n",
              "    </tr>\n",
              "    <tr>\n",
              "      <th>GBC DocuBind TL300 Electric Binding System</th>\n",
              "      <td>19823.479</td>\n",
              "    </tr>\n",
              "  </tbody>\n",
              "</table>\n",
              "</div><br><label><b>dtype:</b> float64</label>"
            ]
          },
          "metadata": {},
          "execution_count": 70
        }
      ],
      "execution_count": 70
    },
    {
      "cell_type": "code",
      "source": [
        "\n",
        "top_5_selling_products.plot(kind=\"bar\")\n",
        "plt.xlabel(\"product_name\")\n",
        "plt.ylabel(\"sales\")\n",
        "plt.show()"
      ],
      "metadata": {
        "execution": {
          "iopub.status.busy": "2024-07-27T17:35:36.992711Z",
          "iopub.execute_input": "2024-07-27T17:35:36.993125Z",
          "iopub.status.idle": "2024-07-27T17:35:37.260541Z",
          "shell.execute_reply.started": "2024-07-27T17:35:36.993091Z",
          "shell.execute_reply": "2024-07-27T17:35:37.259117Z"
        },
        "trusted": true,
        "id": "TVNONUbfZtTA",
        "colab": {
          "base_uri": "https://localhost:8080/",
          "height": 984
        },
        "outputId": "dd21a674-9482-422f-80b1-cb52a9aec73e"
      },
      "outputs": [
        {
          "output_type": "display_data",
          "data": {
            "text/plain": [
              "<Figure size 640x480 with 1 Axes>"
            ],
            "image/png": "[encoded data removed]"
          },
          "metadata": {}
        }
      ],
      "execution_count": 71
    },
    {
      "cell_type": "markdown",
      "source": [
        "#### 2- What are the top profits products in the superstore?"
      ],
      "metadata": {
        "id": "v0UFu8nBZtTA"
      }
    },
    {
      "cell_type": "code",
      "source": [
        "product_group_profit=df.groupby(['product_name']).sum()['profit']"
      ],
      "metadata": {
        "execution": {
          "iopub.status.busy": "2024-07-27T16:19:23.158175Z",
          "iopub.execute_input": "2024-07-27T16:19:23.158541Z",
          "iopub.status.idle": "2024-07-27T16:19:23.212059Z",
          "shell.execute_reply.started": "2024-07-27T16:19:23.158508Z",
          "shell.execute_reply": "2024-07-27T16:19:23.210942Z"
        },
        "trusted": true,
        "id": "GRMS-VqqZtTA"
      },
      "outputs": [],
      "execution_count": 72
    },
    {
      "cell_type": "code",
      "source": [
        "product_group_profit.head()"
      ],
      "metadata": {
        "execution": {
          "iopub.status.busy": "2024-07-27T16:19:23.2136Z",
          "iopub.execute_input": "2024-07-27T16:19:23.213919Z",
          "iopub.status.idle": "2024-07-27T16:19:23.222701Z",
          "shell.execute_reply.started": "2024-07-27T16:19:23.213891Z",
          "shell.execute_reply": "2024-07-27T16:19:23.221304Z"
        },
        "trusted": true,
        "id": "OUyWKgTOZtTA",
        "colab": {
          "base_uri": "https://localhost:8080/",
          "height": 273
        },
        "outputId": "a2dadc6d-ce26-4cb8-c5a4-39c55899bbb7"
      },
      "outputs": [
        {
          "output_type": "execute_result",
          "data": {
            "text/plain": [
              "product_name\n",
              "\"While you Were Out\" Message Book, One Form per Page     10.3880\n",
              "#10 Gummed Flap White Envelopes, 100/Box                 16.7678\n",
              "#10 Self-Seal White Envelopes                            52.1230\n",
              "#10 White Business Envelopes,4 1/8 x 9 1/2              223.1408\n",
              "#10- 4 1/8\" x 9 1/2\" Recycled Envelopes                 115.2806\n",
              "Name: profit, dtype: float64"
            ],
            "text/html": [
              "<div>\n",
              "<style scoped>\n",
              "    .dataframe tbody tr th:only-of-type {\n",
              "        vertical-align: middle;\n",
              "    }\n",
              "\n",
              "    .dataframe tbody tr th {\n",
              "        vertical-align: top;\n",
              "    }\n",
              "\n",
              "    .dataframe thead th {\n",
              "        text-align: right;\n",
              "    }\n",
              "</style>\n",
              "<table border=\"1\" class=\"dataframe\">\n",
              "  <thead>\n",
              "    <tr style=\"text-align: right;\">\n",
              "      <th></th>\n",
              "      <th>profit</th>\n",
              "    </tr>\n",
              "    <tr>\n",
              "      <th>product_name</th>\n",
              "      <th></th>\n",
              "    </tr>\n",
              "  </thead>\n",
              "  <tbody>\n",
              "    <tr>\n",
              "      <th>\"While you Were Out\" Message Book, One Form per Page</th>\n",
              "      <td>10.3880</td>\n",
              "    </tr>\n",
              "    <tr>\n",
              "      <th>#10 Gummed Flap White Envelopes, 100/Box</th>\n",
              "      <td>16.7678</td>\n",
              "    </tr>\n",
              "    <tr>\n",
              "      <th>#10 Self-Seal White Envelopes</th>\n",
              "      <td>52.1230</td>\n",
              "    </tr>\n",
              "    <tr>\n",
              "      <th>#10 White Business Envelopes,4 1/8 x 9 1/2</th>\n",
              "      <td>223.1408</td>\n",
              "    </tr>\n",
              "    <tr>\n",
              "      <th>#10- 4 1/8\" x 9 1/2\" Recycled Envelopes</th>\n",
              "      <td>115.2806</td>\n",
              "    </tr>\n",
              "  </tbody>\n",
              "</table>\n",
              "</div><br><label><b>dtype:</b> float64</label>"
            ]
          },
          "metadata": {},
          "execution_count": 73
        }
      ],
      "execution_count": 73
    },
    {
      "cell_type": "code",
      "source": [
        "top_5_profit_products=product_group_profit.sort_values(ascending=False)[:5]"
      ],
      "metadata": {
        "execution": {
          "iopub.status.busy": "2024-07-27T16:19:23.22417Z",
          "iopub.execute_input": "2024-07-27T16:19:23.2246Z",
          "iopub.status.idle": "2024-07-27T16:19:23.234492Z",
          "shell.execute_reply.started": "2024-07-27T16:19:23.224559Z",
          "shell.execute_reply": "2024-07-27T16:19:23.233047Z"
        },
        "trusted": true,
        "id": "sq30NRsdZtTA"
      },
      "outputs": [],
      "execution_count": 74
    },
    {
      "cell_type": "code",
      "source": [
        "top_5_profit_products"
      ],
      "metadata": {
        "execution": {
          "iopub.status.busy": "2024-07-27T16:19:23.236127Z",
          "iopub.execute_input": "2024-07-27T16:19:23.236621Z",
          "iopub.status.idle": "2024-07-27T16:19:23.251725Z",
          "shell.execute_reply.started": "2024-07-27T16:19:23.236571Z",
          "shell.execute_reply": "2024-07-27T16:19:23.25051Z"
        },
        "trusted": true,
        "id": "2f6jKjhHZtTA",
        "colab": {
          "base_uri": "https://localhost:8080/",
          "height": 273
        },
        "outputId": "e2143e63-dfa5-49c9-d0ad-2717c4428c0f"
      },
      "outputs": [
        {
          "output_type": "execute_result",
          "data": {
            "text/plain": [
              "product_name\n",
              "Canon imageCLASS 2200 Advanced Copier                                          25199.9280\n",
              "Fellowes PB500 Electric Punch Plastic Comb Binding Machine with Manual Bind     7753.0390\n",
              "Hewlett Packard LaserJet 3310 Copier                                            6983.8836\n",
              "Canon PC1060 Personal Laser Copier                                              4570.9347\n",
              "HP Designjet T520 Inkjet Large Format Printer - 24\" Color                       4094.9766\n",
              "Name: profit, dtype: float64"
            ],
            "text/html": [
              "<div>\n",
              "<style scoped>\n",
              "    .dataframe tbody tr th:only-of-type {\n",
              "        vertical-align: middle;\n",
              "    }\n",
              "\n",
              "    .dataframe tbody tr th {\n",
              "        vertical-align: top;\n",
              "    }\n",
              "\n",
              "    .dataframe thead th {\n",
              "        text-align: right;\n",
              "    }\n",
              "</style>\n",
              "<table border=\"1\" class=\"dataframe\">\n",
              "  <thead>\n",
              "    <tr style=\"text-align: right;\">\n",
              "      <th></th>\n",
              "      <th>profit</th>\n",
              "    </tr>\n",
              "    <tr>\n",
              "      <th>product_name</th>\n",
              "      <th></th>\n",
              "    </tr>\n",
              "  </thead>\n",
              "  <tbody>\n",
              "    <tr>\n",
              "      <th>Canon imageCLASS 2200 Advanced Copier</th>\n",
              "      <td>25199.9280</td>\n",
              "    </tr>\n",
              "    <tr>\n",
              "      <th>Fellowes PB500 Electric Punch Plastic Comb Binding Machine with Manual Bind</th>\n",
              "      <td>7753.0390</td>\n",
              "    </tr>\n",
              "    <tr>\n",
              "      <th>Hewlett Packard LaserJet 3310 Copier</th>\n",
              "      <td>6983.8836</td>\n",
              "    </tr>\n",
              "    <tr>\n",
              "      <th>Canon PC1060 Personal Laser Copier</th>\n",
              "      <td>4570.9347</td>\n",
              "    </tr>\n",
              "    <tr>\n",
              "      <th>HP Designjet T520 Inkjet Large Format Printer - 24\" Color</th>\n",
              "      <td>4094.9766</td>\n",
              "    </tr>\n",
              "  </tbody>\n",
              "</table>\n",
              "</div><br><label><b>dtype:</b> float64</label>"
            ]
          },
          "metadata": {},
          "execution_count": 75
        }
      ],
      "execution_count": 75
    },
    {
      "cell_type": "code",
      "source": [
        "top_5_profit_products.plot(kind=\"bar\")\n",
        "plt.xlabel(\"product_name\")\n",
        "plt.ylabel(\"profit\")\n",
        "plt.show()"
      ],
      "metadata": {
        "execution": {
          "iopub.status.busy": "2024-07-27T16:19:23.253667Z",
          "iopub.execute_input": "2024-07-27T16:19:23.254559Z",
          "iopub.status.idle": "2024-07-27T16:19:23.512176Z",
          "shell.execute_reply.started": "2024-07-27T16:19:23.254503Z",
          "shell.execute_reply": "2024-07-27T16:19:23.510634Z"
        },
        "trusted": true,
        "id": "VNHJpxe7ZtTA",
        "colab": {
          "base_uri": "https://localhost:8080/",
          "height": 984
        },
        "outputId": "4b1692a6-cfde-42b2-e2fd-b71d9db6a53a"
      },
      "outputs": [
        {
          "output_type": "display_data",
          "data": {
            "text/plain": [
              "<Figure size 640x480 with 1 Axes>"
            ],
            "image/png": "[encoded data removed]"
          },
          "metadata": {}
        }
      ],
      "execution_count": 76
    },
    {
      "cell_type": "code",
      "source": [
        "top_5_selling_products.index==top_5_profit_products.index"
      ],
      "metadata": {
        "execution": {
          "iopub.status.busy": "2024-07-27T16:19:23.514067Z",
          "iopub.execute_input": "2024-07-27T16:19:23.514457Z",
          "iopub.status.idle": "2024-07-27T16:19:23.521742Z",
          "shell.execute_reply.started": "2024-07-27T16:19:23.514424Z",
          "shell.execute_reply": "2024-07-27T16:19:23.520554Z"
        },
        "trusted": true,
        "id": "FQj9sFj2ZtTA",
        "colab": {
          "base_uri": "https://localhost:8080/",
          "height": 0
        },
        "outputId": "0a1ad07e-bc5f-4c0f-f5dd-c718c5a6df5d"
      },
      "outputs": [
        {
          "output_type": "execute_result",
          "data": {
            "text/plain": [
              "array([ True,  True, False, False, False])"
            ]
          },
          "metadata": {},
          "execution_count": 77
        }
      ],
      "execution_count": 77
    },
    {
      "cell_type": "code",
      "source": [
        "df.columns"
      ],
      "metadata": {
        "execution": {
          "iopub.status.busy": "2024-07-27T18:08:13.393916Z",
          "iopub.execute_input": "2024-07-27T18:08:13.39439Z",
          "iopub.status.idle": "2024-07-27T18:08:13.40291Z",
          "shell.execute_reply.started": "2024-07-27T18:08:13.394356Z",
          "shell.execute_reply": "2024-07-27T18:08:13.401754Z"
        },
        "trusted": true,
        "id": "QCDwCRE-ZtTA",
        "colab": {
          "base_uri": "https://localhost:8080/",
          "height": 0
        },
        "outputId": "4190b239-4fb8-4b3d-c3c1-61dcd74f382d"
      },
      "outputs": [
        {
          "output_type": "execute_result",
          "data": {
            "text/plain": [
              "Index(['order_id', 'order_date', 'ship_date', 'customer', 'manufactory',\n",
              "       'product_name', 'segment', 'category', 'subcategory', 'region', 'zip',\n",
              "       'city', 'state', 'country', 'discount', 'profit', 'quantity', 'sales',\n",
              "       'profit_margin'],\n",
              "      dtype='object')"
            ]
          },
          "metadata": {},
          "execution_count": 78
        }
      ],
      "execution_count": 78
    },
    {
      "cell_type": "code",
      "source": [
        "category = df.groupby(\"category\").sum()[\"sales\"].sort_values(ascending=False)\n",
        "category\n"
      ],
      "metadata": {
        "execution": {
          "iopub.status.busy": "2024-07-27T18:22:46.816279Z",
          "iopub.execute_input": "2024-07-27T18:22:46.816715Z",
          "iopub.status.idle": "2024-07-27T18:22:47.028146Z",
          "shell.execute_reply.started": "2024-07-27T18:22:46.816683Z",
          "shell.execute_reply": "2024-07-27T18:22:47.02705Z"
        },
        "trusted": true,
        "id": "L22uKSkzZtTA",
        "colab": {
          "base_uri": "https://localhost:8080/",
          "height": 210
        },
        "outputId": "cc4a3ac2-905f-4318-e6e5-cdb21be57c57"
      },
      "outputs": [
        {
          "output_type": "execute_result",
          "data": {
            "text/plain": [
              "category\n",
              "Technology         836154.0330\n",
              "Furniture          741718.4233\n",
              "Office Supplies    719047.0320\n",
              "Name: sales, dtype: float64"
            ],
            "text/html": [
              "<div>\n",
              "<style scoped>\n",
              "    .dataframe tbody tr th:only-of-type {\n",
              "        vertical-align: middle;\n",
              "    }\n",
              "\n",
              "    .dataframe tbody tr th {\n",
              "        vertical-align: top;\n",
              "    }\n",
              "\n",
              "    .dataframe thead th {\n",
              "        text-align: right;\n",
              "    }\n",
              "</style>\n",
              "<table border=\"1\" class=\"dataframe\">\n",
              "  <thead>\n",
              "    <tr style=\"text-align: right;\">\n",
              "      <th></th>\n",
              "      <th>sales</th>\n",
              "    </tr>\n",
              "    <tr>\n",
              "      <th>category</th>\n",
              "      <th></th>\n",
              "    </tr>\n",
              "  </thead>\n",
              "  <tbody>\n",
              "    <tr>\n",
              "      <th>Technology</th>\n",
              "      <td>836154.0330</td>\n",
              "    </tr>\n",
              "    <tr>\n",
              "      <th>Furniture</th>\n",
              "      <td>741718.4233</td>\n",
              "    </tr>\n",
              "    <tr>\n",
              "      <th>Office Supplies</th>\n",
              "      <td>719047.0320</td>\n",
              "    </tr>\n",
              "  </tbody>\n",
              "</table>\n",
              "</div><br><label><b>dtype:</b> float64</label>"
            ]
          },
          "metadata": {},
          "execution_count": 79
        }
      ],
      "execution_count": 79
    },
    {
      "cell_type": "code",
      "source": [
        "category.plot(kind=\"bar\")\n",
        "plt.ylabel(\"sales\")\n",
        "plt.show()"
      ],
      "metadata": {
        "execution": {
          "iopub.status.busy": "2024-07-27T18:35:54.995838Z",
          "iopub.execute_input": "2024-07-27T18:35:54.996252Z",
          "iopub.status.idle": "2024-07-27T18:35:55.24922Z",
          "shell.execute_reply.started": "2024-07-27T18:35:54.996217Z",
          "shell.execute_reply": "2024-07-27T18:35:55.248056Z"
        },
        "trusted": true,
        "id": "LtIkDa2uZtTA",
        "colab": {
          "base_uri": "https://localhost:8080/",
          "height": 539
        },
        "outputId": "18b626e4-28f3-4efa-e7f8-ca192d776385"
      },
      "outputs": [
        {
          "output_type": "display_data",
          "data": {
            "text/plain": [
              "<Figure size 640x480 with 1 Axes>"
            ],
            "image/png": "[encoded data removed]"
          },
          "metadata": {}
        }
      ],
      "execution_count": 80
    },
    {
      "cell_type": "code",
      "source": [
        "category.plot.pie(autopct='%1.1f%%')\n",
        "plt.show()"
      ],
      "metadata": {
        "execution": {
          "iopub.status.busy": "2024-07-27T19:08:15.977689Z",
          "iopub.execute_input": "2024-07-27T19:08:15.978119Z",
          "iopub.status.idle": "2024-07-27T19:08:16.13091Z",
          "shell.execute_reply.started": "2024-07-27T19:08:15.978085Z",
          "shell.execute_reply": "2024-07-27T19:08:16.129089Z"
        },
        "trusted": true,
        "id": "UvWBFHekZtTB",
        "colab": {
          "base_uri": "https://localhost:8080/",
          "height": 406
        },
        "outputId": "d9203968-b8e3-44e9-bb01-727dc780e6b1"
      },
      "outputs": [
        {
          "output_type": "display_data",
          "data": {
            "text/plain": [
              "<Figure size 640x480 with 1 Axes>"
            ],
            "image/png": "[encoded data removed]"
          },
          "metadata": {}
        }
      ],
      "execution_count": 81
    },
    {
      "cell_type": "markdown",
      "source": [
        "#### 3- Which region generates the most sales and profit?\n"
      ],
      "metadata": {
        "id": "T-Gz7NjoZtTB"
      }
    },
    {
      "cell_type": "code",
      "source": [
        "df['region'].unique()"
      ],
      "metadata": {
        "execution": {
          "iopub.status.busy": "2024-07-27T16:19:23.523647Z",
          "iopub.execute_input": "2024-07-27T16:19:23.524153Z",
          "iopub.status.idle": "2024-07-27T16:19:23.536336Z",
          "shell.execute_reply.started": "2024-07-27T16:19:23.524109Z",
          "shell.execute_reply": "2024-07-27T16:19:23.534994Z"
        },
        "trusted": true,
        "id": "-24OYG79ZtTB",
        "colab": {
          "base_uri": "https://localhost:8080/",
          "height": 0
        },
        "outputId": "4dd33312-8bb4-44f6-fcea-942f3fc36b63"
      },
      "outputs": [
        {
          "output_type": "execute_result",
          "data": {
            "text/plain": [
              "array(['Central', 'East', 'South', 'West'], dtype=object)"
            ]
          },
          "metadata": {},
          "execution_count": 82
        }
      ],
      "execution_count": 82
    },
    {
      "cell_type": "code",
      "source": [
        "region_sales=df.groupby('region').sum()['sales'].sort_values(ascending=False)\n",
        "region_sales"
      ],
      "metadata": {
        "execution": {
          "iopub.status.busy": "2024-07-27T16:19:23.537923Z",
          "iopub.execute_input": "2024-07-27T16:19:23.538344Z",
          "iopub.status.idle": "2024-07-27T16:19:23.709264Z",
          "shell.execute_reply.started": "2024-07-27T16:19:23.53831Z",
          "shell.execute_reply": "2024-07-27T16:19:23.708014Z"
        },
        "trusted": true,
        "id": "qAdKmgKMZtTD",
        "colab": {
          "base_uri": "https://localhost:8080/",
          "height": 241
        },
        "outputId": "2af468e7-c6a5-49ac-df98-714c93063e4d"
      },
      "outputs": [
        {
          "output_type": "execute_result",
          "data": {
            "text/plain": [
              "region\n",
              "West       725457.8245\n",
              "East       678499.8680\n",
              "Central    501239.8908\n",
              "South      391721.9050\n",
              "Name: sales, dtype: float64"
            ],
            "text/html": [
              "<div>\n",
              "<style scoped>\n",
              "    .dataframe tbody tr th:only-of-type {\n",
              "        vertical-align: middle;\n",
              "    }\n",
              "\n",
              "    .dataframe tbody tr th {\n",
              "        vertical-align: top;\n",
              "    }\n",
              "\n",
              "    .dataframe thead th {\n",
              "        text-align: right;\n",
              "    }\n",
              "</style>\n",
              "<table border=\"1\" class=\"dataframe\">\n",
              "  <thead>\n",
              "    <tr style=\"text-align: right;\">\n",
              "      <th></th>\n",
              "      <th>sales</th>\n",
              "    </tr>\n",
              "    <tr>\n",
              "      <th>region</th>\n",
              "      <th></th>\n",
              "    </tr>\n",
              "  </thead>\n",
              "  <tbody>\n",
              "    <tr>\n",
              "      <th>West</th>\n",
              "      <td>725457.8245</td>\n",
              "    </tr>\n",
              "    <tr>\n",
              "      <th>East</th>\n",
              "      <td>678499.8680</td>\n",
              "    </tr>\n",
              "    <tr>\n",
              "      <th>Central</th>\n",
              "      <td>501239.8908</td>\n",
              "    </tr>\n",
              "    <tr>\n",
              "      <th>South</th>\n",
              "      <td>391721.9050</td>\n",
              "    </tr>\n",
              "  </tbody>\n",
              "</table>\n",
              "</div><br><label><b>dtype:</b> float64</label>"
            ]
          },
          "metadata": {},
          "execution_count": 83
        }
      ],
      "execution_count": 83
    },
    {
      "cell_type": "code",
      "source": [
        "region_sales.plot(kind=\"bar\")\n",
        "plt.title=(\"regions generate the most sales\")\n",
        "plt.ylabel(\"sales\")\n",
        "plt.show()"
      ],
      "metadata": {
        "execution": {
          "iopub.status.busy": "2024-07-27T18:25:11.732713Z",
          "iopub.execute_input": "2024-07-27T18:25:11.733175Z",
          "iopub.status.idle": "2024-07-27T18:25:11.929906Z",
          "shell.execute_reply.started": "2024-07-27T18:25:11.73314Z",
          "shell.execute_reply": "2024-07-27T18:25:11.928694Z"
        },
        "trusted": true,
        "id": "l2ZXD2hEZtTD",
        "colab": {
          "base_uri": "https://localhost:8080/",
          "height": 486
        },
        "outputId": "a555ec34-5e6e-40ad-d4b1-7ef603c5c893"
      },
      "outputs": [
        {
          "output_type": "display_data",
          "data": {
            "text/plain": [
              "<Figure size 640x480 with 1 Axes>"
            ],
            "image/png": "[encoded data removed]"
          },
          "metadata": {}
        }
      ],
      "execution_count": 84
    },
    {
      "cell_type": "markdown",
      "source": [
        "#### -The West Region generates the most sales.\n"
      ],
      "metadata": {
        "id": "ggl1DRZEZtTD"
      }
    },
    {
      "cell_type": "code",
      "source": [
        "region_profit=df.groupby('region').sum()['profit'].sort_values(ascending=False)"
      ],
      "metadata": {
        "execution": {
          "iopub.status.busy": "2024-07-27T16:19:23.90967Z",
          "iopub.execute_input": "2024-07-27T16:19:23.910114Z",
          "iopub.status.idle": "2024-07-27T16:19:24.07497Z",
          "shell.execute_reply.started": "2024-07-27T16:19:23.91007Z",
          "shell.execute_reply": "2024-07-27T16:19:24.073557Z"
        },
        "trusted": true,
        "id": "__8Lb2KHZtTD"
      },
      "outputs": [],
      "execution_count": 85
    },
    {
      "cell_type": "code",
      "source": [
        "region_profit.plot(kind=\"bar\")\n",
        "plt.title=(\"regions generate the most sales\")\n",
        "plt.ylabel(\"profit\")\n",
        "plt.show()"
      ],
      "metadata": {
        "execution": {
          "iopub.status.busy": "2024-07-27T16:19:24.076528Z",
          "iopub.execute_input": "2024-07-27T16:19:24.07689Z",
          "iopub.status.idle": "2024-07-27T16:19:24.263778Z",
          "shell.execute_reply.started": "2024-07-27T16:19:24.076859Z",
          "shell.execute_reply": "2024-07-27T16:19:24.262675Z"
        },
        "trusted": true,
        "id": "1FxU1OLJZtTD",
        "colab": {
          "base_uri": "https://localhost:8080/",
          "height": 486
        },
        "outputId": "21dcd142-a1ff-464f-be82-b93d966e3143"
      },
      "outputs": [
        {
          "output_type": "display_data",
          "data": {
            "text/plain": [
              "<Figure size 640x480 with 1 Axes>"
            ],
            "image/png": "[encoded data removed]"
          },
          "metadata": {}
        }
      ],
      "execution_count": 86
    },
    {
      "cell_type": "markdown",
      "source": [
        "#### -The *West Region* generates the most profit.\n"
      ],
      "metadata": {
        "id": "eanac7QZZtTD"
      }
    },
    {
      "cell_type": "markdown",
      "source": [
        "#### Number of each state's superstors and top 10"
      ],
      "metadata": {
        "id": "DtHDEJRNZtTD"
      }
    },
    {
      "cell_type": "code",
      "source": [
        "top10 =df['state'].value_counts().head(10)\n",
        "top10"
      ],
      "metadata": {
        "execution": {
          "iopub.status.busy": "2024-07-27T19:20:21.00719Z",
          "iopub.execute_input": "2024-07-27T19:20:21.007723Z",
          "iopub.status.idle": "2024-07-27T19:20:21.022929Z",
          "shell.execute_reply.started": "2024-07-27T19:20:21.007681Z",
          "shell.execute_reply": "2024-07-27T19:20:21.021396Z"
        },
        "trusted": true,
        "id": "guoHoH6oZtTD",
        "colab": {
          "base_uri": "https://localhost:8080/",
          "height": 429
        },
        "outputId": "6ea9dc97-4b4c-4ef1-e3cb-92dde96479d7"
      },
      "outputs": [
        {
          "output_type": "execute_result",
          "data": {
            "text/plain": [
              "state\n",
              "California        2001\n",
              "New York          1128\n",
              "Texas              985\n",
              "Pennsylvania       587\n",
              "Washington         506\n",
              "Illinois           492\n",
              "Ohio               468\n",
              "Florida            383\n",
              "Michigan           255\n",
              "North Carolina     249\n",
              "Name: count, dtype: int64"
            ],
            "text/html": [
              "<div>\n",
              "<style scoped>\n",
              "    .dataframe tbody tr th:only-of-type {\n",
              "        vertical-align: middle;\n",
              "    }\n",
              "\n",
              "    .dataframe tbody tr th {\n",
              "        vertical-align: top;\n",
              "    }\n",
              "\n",
              "    .dataframe thead th {\n",
              "        text-align: right;\n",
              "    }\n",
              "</style>\n",
              "<table border=\"1\" class=\"dataframe\">\n",
              "  <thead>\n",
              "    <tr style=\"text-align: right;\">\n",
              "      <th></th>\n",
              "      <th>count</th>\n",
              "    </tr>\n",
              "    <tr>\n",
              "      <th>state</th>\n",
              "      <th></th>\n",
              "    </tr>\n",
              "  </thead>\n",
              "  <tbody>\n",
              "    <tr>\n",
              "      <th>California</th>\n",
              "      <td>2001</td>\n",
              "    </tr>\n",
              "    <tr>\n",
              "      <th>New York</th>\n",
              "      <td>1128</td>\n",
              "    </tr>\n",
              "    <tr>\n",
              "      <th>Texas</th>\n",
              "      <td>985</td>\n",
              "    </tr>\n",
              "    <tr>\n",
              "      <th>Pennsylvania</th>\n",
              "      <td>587</td>\n",
              "    </tr>\n",
              "    <tr>\n",
              "      <th>Washington</th>\n",
              "      <td>506</td>\n",
              "    </tr>\n",
              "    <tr>\n",
              "      <th>Illinois</th>\n",
              "      <td>492</td>\n",
              "    </tr>\n",
              "    <tr>\n",
              "      <th>Ohio</th>\n",
              "      <td>468</td>\n",
              "    </tr>\n",
              "    <tr>\n",
              "      <th>Florida</th>\n",
              "      <td>383</td>\n",
              "    </tr>\n",
              "    <tr>\n",
              "      <th>Michigan</th>\n",
              "      <td>255</td>\n",
              "    </tr>\n",
              "    <tr>\n",
              "      <th>North Carolina</th>\n",
              "      <td>249</td>\n",
              "    </tr>\n",
              "  </tbody>\n",
              "</table>\n",
              "</div><br><label><b>dtype:</b> int64</label>"
            ]
          },
          "metadata": {},
          "execution_count": 87
        }
      ],
      "execution_count": 87
    },
    {
      "cell_type": "code",
      "source": [
        "top10.plot(kind=\"bar\")\n",
        "plt.show()"
      ],
      "metadata": {
        "execution": {
          "iopub.status.busy": "2024-07-27T19:25:05.586338Z",
          "iopub.execute_input": "2024-07-27T19:25:05.586781Z",
          "iopub.status.idle": "2024-07-27T19:25:05.888436Z",
          "shell.execute_reply.started": "2024-07-27T19:25:05.586745Z",
          "shell.execute_reply": "2024-07-27T19:25:05.886938Z"
        },
        "trusted": true,
        "id": "B9P-gVtiZtTD",
        "colab": {
          "base_uri": "https://localhost:8080/",
          "height": 536
        },
        "outputId": "8581a9db-7c27-4b25-95e0-88028d6b6f34"
      },
      "outputs": [
        {
          "output_type": "display_data",
          "data": {
            "text/plain": [
              "<Figure size 640x480 with 1 Axes>"
            ],
            "image/png": "[encoded data removed]"
          },
          "metadata": {}
        }
      ],
      "execution_count": 88
    },
    {
      "cell_type": "markdown",
      "source": [
        "#### 4- What is the sales trend over time (monthly, yearly)?\n"
      ],
      "metadata": {
        "id": "wWx4EgnTZtTD"
      }
    },
    {
      "cell_type": "code",
      "source": [
        "df[\"order_date\"]=pd.to_datetime(df[\"order_date\"])"
      ],
      "metadata": {
        "execution": {
          "iopub.status.busy": "2024-07-27T16:19:24.265094Z",
          "iopub.execute_input": "2024-07-27T16:19:24.265413Z",
          "iopub.status.idle": "2024-07-27T16:19:24.282291Z",
          "shell.execute_reply.started": "2024-07-27T16:19:24.265385Z",
          "shell.execute_reply": "2024-07-27T16:19:24.280855Z"
        },
        "trusted": true,
        "id": "gjgJbIklZtTD"
      },
      "outputs": [],
      "execution_count": 89
    },
    {
      "cell_type": "code",
      "source": [
        "df.set_index(\"order_date\",inplace=True)\n",
        "series=df.sales.resample('ME').mean()\n",
        "plt.figure(figsize=(25, 8))\n",
        "plt.plot(series)\n",
        "plt.xlabel('Date')\n",
        "plt.ylabel('sales')\n",
        "plt.show()\n"
      ],
      "metadata": {
        "execution": {
          "iopub.status.busy": "2024-07-27T16:19:24.283887Z",
          "iopub.execute_input": "2024-07-27T16:19:24.284451Z",
          "iopub.status.idle": "2024-07-27T16:19:24.783155Z",
          "shell.execute_reply.started": "2024-07-27T16:19:24.284416Z",
          "shell.execute_reply": "2024-07-27T16:19:24.781833Z"
        },
        "trusted": true,
        "id": "JFmuPvWMZtTD",
        "colab": {
          "base_uri": "https://localhost:8080/",
          "height": 553
        },
        "outputId": "0e816435-3a52-4846-f858-89b787d6f19b"
      },
      "outputs": [
        {
          "output_type": "display_data",
          "data": {
            "text/plain": [
              "<Figure size 2500x800 with 1 Axes>"
            ],
            "image/png": "[encoded data removed]"
          },
          "metadata": {}
        }
      ],
      "execution_count": 90
    },
    {
      "cell_type": "markdown",
      "source": [
        "#### 5-What is the impact of discounts on sales?\n"
      ],
      "metadata": {
        "id": "ZRGPck-BZtTD"
      }
    },
    {
      "cell_type": "code",
      "source": [
        "df.discount.value_counts()"
      ],
      "metadata": {
        "execution": {
          "iopub.status.busy": "2024-07-27T16:42:35.074555Z",
          "iopub.execute_input": "2024-07-27T16:42:35.075037Z",
          "iopub.status.idle": "2024-07-27T16:42:35.086611Z",
          "shell.execute_reply.started": "2024-07-27T16:42:35.074988Z",
          "shell.execute_reply": "2024-07-27T16:42:35.085118Z"
        },
        "trusted": true,
        "id": "XaqiDek-ZtTD",
        "colab": {
          "base_uri": "https://localhost:8080/",
          "height": 492
        },
        "outputId": "4a2f5f71-529a-4da6-8d8b-6cfd124074c9"
      },
      "outputs": [
        {
          "output_type": "execute_result",
          "data": {
            "text/plain": [
              "discount\n",
              "0.00    4798\n",
              "0.20    3657\n",
              "0.70     418\n",
              "0.80     300\n",
              "0.30     226\n",
              "0.40     206\n",
              "0.60     138\n",
              "0.10      94\n",
              "0.50      66\n",
              "0.15      52\n",
              "0.32      27\n",
              "0.45      11\n",
              "Name: count, dtype: int64"
            ],
            "text/html": [
              "<div>\n",
              "<style scoped>\n",
              "    .dataframe tbody tr th:only-of-type {\n",
              "        vertical-align: middle;\n",
              "    }\n",
              "\n",
              "    .dataframe tbody tr th {\n",
              "        vertical-align: top;\n",
              "    }\n",
              "\n",
              "    .dataframe thead th {\n",
              "        text-align: right;\n",
              "    }\n",
              "</style>\n",
              "<table border=\"1\" class=\"dataframe\">\n",
              "  <thead>\n",
              "    <tr style=\"text-align: right;\">\n",
              "      <th></th>\n",
              "      <th>count</th>\n",
              "    </tr>\n",
              "    <tr>\n",
              "      <th>discount</th>\n",
              "      <th></th>\n",
              "    </tr>\n",
              "  </thead>\n",
              "  <tbody>\n",
              "    <tr>\n",
              "      <th>0.00</th>\n",
              "      <td>4798</td>\n",
              "    </tr>\n",
              "    <tr>\n",
              "      <th>0.20</th>\n",
              "      <td>3657</td>\n",
              "    </tr>\n",
              "    <tr>\n",
              "      <th>0.70</th>\n",
              "      <td>418</td>\n",
              "    </tr>\n",
              "    <tr>\n",
              "      <th>0.80</th>\n",
              "      <td>300</td>\n",
              "    </tr>\n",
              "    <tr>\n",
              "      <th>0.30</th>\n",
              "      <td>226</td>\n",
              "    </tr>\n",
              "    <tr>\n",
              "      <th>0.40</th>\n",
              "      <td>206</td>\n",
              "    </tr>\n",
              "    <tr>\n",
              "      <th>0.60</th>\n",
              "      <td>138</td>\n",
              "    </tr>\n",
              "    <tr>\n",
              "      <th>0.10</th>\n",
              "      <td>94</td>\n",
              "    </tr>\n",
              "    <tr>\n",
              "      <th>0.50</th>\n",
              "      <td>66</td>\n",
              "    </tr>\n",
              "    <tr>\n",
              "      <th>0.15</th>\n",
              "      <td>52</td>\n",
              "    </tr>\n",
              "    <tr>\n",
              "      <th>0.32</th>\n",
              "      <td>27</td>\n",
              "    </tr>\n",
              "    <tr>\n",
              "      <th>0.45</th>\n",
              "      <td>11</td>\n",
              "    </tr>\n",
              "  </tbody>\n",
              "</table>\n",
              "</div><br><label><b>dtype:</b> int64</label>"
            ]
          },
          "metadata": {},
          "execution_count": 91
        }
      ],
      "execution_count": 91
    },
    {
      "cell_type": "code",
      "source": [
        "discount_group=df.groupby([\"discount\"]).sum()[[\"sales\"]]\n",
        "ax=discount_group.plot(kind=\"bar\")\n",
        "plt.ylabel(\"sales\")\n",
        "plt.show()"
      ],
      "metadata": {
        "execution": {
          "iopub.status.busy": "2024-07-27T16:49:43.733292Z",
          "iopub.execute_input": "2024-07-27T16:49:43.733714Z",
          "iopub.status.idle": "2024-07-27T16:49:44.238543Z",
          "shell.execute_reply.started": "2024-07-27T16:49:43.733675Z",
          "shell.execute_reply": "2024-07-27T16:49:44.237254Z"
        },
        "trusted": true,
        "id": "tjPlNPFxZtTD",
        "colab": {
          "base_uri": "https://localhost:8080/",
          "height": 481
        },
        "outputId": "9d2555e8-f4b7-4deb-b02c-9f9ddd5d38b5"
      },
      "outputs": [
        {
          "output_type": "display_data",
          "data": {
            "text/plain": [
              "<Figure size 640x480 with 1 Axes>"
            ],
            "image/png": "[encoded data removed]"
          },
          "metadata": {}
        }
      ],
      "execution_count": 92
    },
    {
      "cell_type": "markdown",
      "source": [
        "## customer"
      ],
      "metadata": {
        "id": "LIdro_syZtTD"
      }
    },
    {
      "cell_type": "code",
      "source": [
        "segment= df.segment.value_counts()\n",
        "segment"
      ],
      "metadata": {
        "execution": {
          "iopub.status.busy": "2024-07-27T19:35:15.47592Z",
          "iopub.execute_input": "2024-07-27T19:35:15.476729Z",
          "iopub.status.idle": "2024-07-27T19:35:15.487468Z",
          "shell.execute_reply.started": "2024-07-27T19:35:15.476691Z",
          "shell.execute_reply": "2024-07-27T19:35:15.486269Z"
        },
        "trusted": true,
        "id": "u1kQQQE6ZtTD",
        "colab": {
          "base_uri": "https://localhost:8080/",
          "height": 210
        },
        "outputId": "40dd534f-c8d2-4c62-b827-f0b0c5d355da"
      },
      "outputs": [
        {
          "output_type": "execute_result",
          "data": {
            "text/plain": [
              "segment\n",
              "Consumer       5191\n",
              "Corporate      3020\n",
              "Home Office    1782\n",
              "Name: count, dtype: int64"
            ],
            "text/html": [
              "<div>\n",
              "<style scoped>\n",
              "    .dataframe tbody tr th:only-of-type {\n",
              "        vertical-align: middle;\n",
              "    }\n",
              "\n",
              "    .dataframe tbody tr th {\n",
              "        vertical-align: top;\n",
              "    }\n",
              "\n",
              "    .dataframe thead th {\n",
              "        text-align: right;\n",
              "    }\n",
              "</style>\n",
              "<table border=\"1\" class=\"dataframe\">\n",
              "  <thead>\n",
              "    <tr style=\"text-align: right;\">\n",
              "      <th></th>\n",
              "      <th>count</th>\n",
              "    </tr>\n",
              "    <tr>\n",
              "      <th>segment</th>\n",
              "      <th></th>\n",
              "    </tr>\n",
              "  </thead>\n",
              "  <tbody>\n",
              "    <tr>\n",
              "      <th>Consumer</th>\n",
              "      <td>5191</td>\n",
              "    </tr>\n",
              "    <tr>\n",
              "      <th>Corporate</th>\n",
              "      <td>3020</td>\n",
              "    </tr>\n",
              "    <tr>\n",
              "      <th>Home Office</th>\n",
              "      <td>1782</td>\n",
              "    </tr>\n",
              "  </tbody>\n",
              "</table>\n",
              "</div><br><label><b>dtype:</b> int64</label>"
            ]
          },
          "metadata": {},
          "execution_count": 93
        }
      ],
      "execution_count": 93
    },
    {
      "cell_type": "code",
      "source": [
        "segment.plot(kind=\"bar\")\n",
        "plt.ylabel(\"segment\")\n",
        "plt.show()"
      ],
      "metadata": {
        "execution": {
          "iopub.status.busy": "2024-07-27T19:36:44.219807Z",
          "iopub.execute_input": "2024-07-27T19:36:44.220221Z",
          "iopub.status.idle": "2024-07-27T19:36:44.454006Z",
          "shell.execute_reply.started": "2024-07-27T19:36:44.220189Z",
          "shell.execute_reply": "2024-07-27T19:36:44.452922Z"
        },
        "trusted": true,
        "id": "X0eo73obZtTD",
        "colab": {
          "base_uri": "https://localhost:8080/",
          "height": 522
        },
        "outputId": "7a97d017-d578-4759-aaf3-d45cbeb388ad"
      },
      "outputs": [
        {
          "output_type": "display_data",
          "data": {
            "text/plain": [
              "<Figure size 640x480 with 1 Axes>"
            ],
            "image/png": "[encoded data removed]"
          },
          "metadata": {}
        }
      ],
      "execution_count": 94
    },
    {
      "cell_type": "code",
      "source": [
        "segment.plot.pie(autopct='%1.1f%%')\n",
        "plt.show()"
      ],
      "metadata": {
        "execution": {
          "iopub.status.busy": "2024-07-27T19:37:09.506865Z",
          "iopub.execute_input": "2024-07-27T19:37:09.507312Z",
          "iopub.status.idle": "2024-07-27T19:37:09.67909Z",
          "shell.execute_reply.started": "2024-07-27T19:37:09.507276Z",
          "shell.execute_reply": "2024-07-27T19:37:09.677131Z"
        },
        "trusted": true,
        "id": "XGt8VsSpZtTD",
        "colab": {
          "base_uri": "https://localhost:8080/",
          "height": 406
        },
        "outputId": "1f41d2b5-9bd4-47fd-90b4-fdda59bd732c"
      },
      "outputs": [
        {
          "output_type": "display_data",
          "data": {
            "text/plain": [
              "<Figure size 640x480 with 1 Axes>"
            ],
            "image/png": "[encoded data removed]"
          },
          "metadata": {}
        }
      ],
      "execution_count": 95
    },
    {
      "cell_type": "markdown",
      "source": [
        "# thank you"
      ],
      "metadata": {
        "id": "LDrt8L-6ZtTE"
      }
    },
    {
      "cell_type": "code",
      "metadata": {
        "id": "eab9899f",
        "colab": {
          "base_uri": "https://localhost:8080/",
          "height": 339
        },
        "outputId": "6a1f242e-5b0b-41cd-f77d-be3c4dc29e15"
      },
      "source": [
        "\n",
        "import pandas as pd\n",
        "\n",
        "df = pd.read_csv('/superstore_dataset.csv')\n",
        "display(df.head())"
      ],
      "execution_count": 96,
      "outputs": [
        {
          "output_type": "error",
          "ename": "FileNotFoundError",
          "evalue": "[Errno 2] No such file or directory: '/superstore_dataset.csv'",
          "traceback": [
            "\u001b[0;31m---------------------------------------------------------------------------\u001b[0m",
            "\u001b[0;31mFileNotFoundError\u001b[0m                         Traceback (most recent call last)",
            "\u001b[0;32m/tmp/ipython-input-96-2795096521.py\u001b[0m in \u001b[0;36m<cell line: 0>\u001b[0;34m()\u001b[0m\n\u001b[1;32m      1\u001b[0m \u001b[0;32mimport\u001b[0m \u001b[0mpandas\u001b[0m \u001b[0;32mas\u001b[0m \u001b[0mpd\u001b[0m\u001b[0;34m\u001b[0m\u001b[0;34m\u001b[0m\u001b[0m\n\u001b[1;32m      2\u001b[0m \u001b[0;34m\u001b[0m\u001b[0m\n\u001b[0;32m----> 3\u001b[0;31m \u001b[0mdf\u001b[0m \u001b[0;34m=\u001b[0m \u001b[0mpd\u001b[0m\u001b[0;34m.\u001b[0m\u001b[0mread_csv\u001b[0m\u001b[0;34m(\u001b[0m\u001b[0;34m'/superstore_dataset.csv'\u001b[0m\u001b[0;34m)\u001b[0m\u001b[0;34m\u001b[0m\u001b[0;34m\u001b[0m\u001b[0m\n\u001b[0m\u001b[1;32m      4\u001b[0m \u001b[0mdisplay\u001b[0m\u001b[0;34m(\u001b[0m\u001b[0mdf\u001b[0m\u001b[0;34m.\u001b[0m\u001b[0mhead\u001b[0m\u001b[0;34m(\u001b[0m\u001b[0;34m)\u001b[0m\u001b[0;34m)\u001b[0m\u001b[0;34m\u001b[0m\u001b[0;34m\u001b[0m\u001b[0m\n",
            "\u001b[0;32m/usr/local/lib/python3.11/dist-packages/pandas/io/parsers/readers.py\u001b[0m in \u001b[0;36mread_csv\u001b[0;34m(filepath_or_buffer, sep, delimiter, header, names, index_col, usecols, dtype, engine, converters, true_values, false_values, skipinitialspace, skiprows, skipfooter, nrows, na_values, keep_default_na, na_filter, verbose, skip_blank_lines, parse_dates, infer_datetime_format, keep_date_col, date_parser, date_format, dayfirst, cache_dates, iterator, chunksize, compression, thousands, decimal, lineterminator, quotechar, quoting, doublequote, escapechar, comment, encoding, encoding_errors, dialect, on_bad_lines, delim_whitespace, low_memory, memory_map, float_precision, storage_options, dtype_backend)\u001b[0m\n\u001b[1;32m   1024\u001b[0m     \u001b[0mkwds\u001b[0m\u001b[0;34m.\u001b[0m\u001b[0mupdate\u001b[0m\u001b[0;34m(\u001b[0m\u001b[0mkwds_defaults\u001b[0m\u001b[0;34m)\u001b[0m\u001b[0;34m\u001b[0m\u001b[0;34m\u001b[0m\u001b[0m\n\u001b[1;32m   1025\u001b[0m \u001b[0;34m\u001b[0m\u001b[0m\n\u001b[0;32m-> 1026\u001b[0;31m     \u001b[0;32mreturn\u001b[0m \u001b[0m_read\u001b[0m\u001b[0;34m(\u001b[0m\u001b[0mfilepath_or_buffer\u001b[0m\u001b[0;34m,\u001b[0m \u001b[0mkwds\u001b[0m\u001b[0;34m)\u001b[0m\u001b[0;34m\u001b[0m\u001b[0;34m\u001b[0m\u001b[0m\n\u001b[0m\u001b[1;32m   1027\u001b[0m \u001b[0;34m\u001b[0m\u001b[0m\n\u001b[1;32m   1028\u001b[0m \u001b[0;34m\u001b[0m\u001b[0m\n",
            "\u001b[0;32m/usr/local/lib/python3.11/dist-packages/pandas/io/parsers/readers.py\u001b[0m in \u001b[0;36m_read\u001b[0;34m(filepath_or_buffer, kwds)\u001b[0m\n\u001b[1;32m    618\u001b[0m \u001b[0;34m\u001b[0m\u001b[0m\n\u001b[1;32m    619\u001b[0m     \u001b[0;31m# Create the parser.\u001b[0m\u001b[0;34m\u001b[0m\u001b[0;34m\u001b[0m\u001b[0m\n\u001b[0;32m--> 620\u001b[0;31m     \u001b[0mparser\u001b[0m \u001b[0;34m=\u001b[0m \u001b[0mTextFileReader\u001b[0m\u001b[0;34m(\u001b[0m\u001b[0mfilepath_or_buffer\u001b[0m\u001b[0;34m,\u001b[0m \u001b[0;34m**\u001b[0m\u001b[0mkwds\u001b[0m\u001b[0;34m)\u001b[0m\u001b[0;34m\u001b[0m\u001b[0;34m\u001b[0m\u001b[0m\n\u001b[0m\u001b[1;32m    621\u001b[0m \u001b[0;34m\u001b[0m\u001b[0m\n\u001b[1;32m    622\u001b[0m     \u001b[0;32mif\u001b[0m \u001b[0mchunksize\u001b[0m \u001b[0;32mor\u001b[0m \u001b[0miterator\u001b[0m\u001b[0;34m:\u001b[0m\u001b[0;34m\u001b[0m\u001b[0;34m\u001b[0m\u001b[0m\n",
            "\u001b[0;32m/usr/local/lib/python3.11/dist-packages/pandas/io/parsers/readers.py\u001b[0m in \u001b[0;36m__init__\u001b[0;34m(self, f, engine, **kwds)\u001b[0m\n\u001b[1;32m   1618\u001b[0m \u001b[0;34m\u001b[0m\u001b[0m\n\u001b[1;32m   1619\u001b[0m         \u001b[0mself\u001b[0m\u001b[0;34m.\u001b[0m\u001b[0mhandles\u001b[0m\u001b[0;34m:\u001b[0m \u001b[0mIOHandles\u001b[0m \u001b[0;34m|\u001b[0m \u001b[0;32mNone\u001b[0m \u001b[0;34m=\u001b[0m \u001b[0;32mNone\u001b[0m\u001b[0;34m\u001b[0m\u001b[0;34m\u001b[0m\u001b[0m\n\u001b[0;32m-> 1620\u001b[0;31m         \u001b[0mself\u001b[0m\u001b[0;34m.\u001b[0m\u001b[0m_engine\u001b[0m \u001b[0;34m=\u001b[0m \u001b[0mself\u001b[0m\u001b[0;34m.\u001b[0m\u001b[0m_make_engine\u001b[0m\u001b[0;34m(\u001b[0m\u001b[0mf\u001b[0m\u001b[0;34m,\u001b[0m \u001b[0mself\u001b[0m\u001b[0;34m.\u001b[0m\u001b[0mengine\u001b[0m\u001b[0;34m)\u001b[0m\u001b[0;34m\u001b[0m\u001b[0;34m\u001b[0m\u001b[0m\n\u001b[0m\u001b[1;32m   1621\u001b[0m \u001b[0;34m\u001b[0m\u001b[0m\n\u001b[1;32m   1622\u001b[0m     \u001b[0;32mdef\u001b[0m \u001b[0mclose\u001b[0m\u001b[0;34m(\u001b[0m\u001b[0mself\u001b[0m\u001b[0;34m)\u001b[0m \u001b[0;34m->\u001b[0m \u001b[0;32mNone\u001b[0m\u001b[0;34m:\u001b[0m\u001b[0;34m\u001b[0m\u001b[0;34m\u001b[0m\u001b[0m\n",
            "\u001b[0;32m/usr/local/lib/python3.11/dist-packages/pandas/io/parsers/readers.py\u001b[0m in \u001b[0;36m_make_engine\u001b[0;34m(self, f, engine)\u001b[0m\n\u001b[1;32m   1878\u001b[0m                 \u001b[0;32mif\u001b[0m \u001b[0;34m\"b\"\u001b[0m \u001b[0;32mnot\u001b[0m \u001b[0;32min\u001b[0m \u001b[0mmode\u001b[0m\u001b[0;34m:\u001b[0m\u001b[0;34m\u001b[0m\u001b[0;34m\u001b[0m\u001b[0m\n\u001b[1;32m   1879\u001b[0m                     \u001b[0mmode\u001b[0m \u001b[0;34m+=\u001b[0m \u001b[0;34m\"b\"\u001b[0m\u001b[0;34m\u001b[0m\u001b[0;34m\u001b[0m\u001b[0m\n\u001b[0;32m-> 1880\u001b[0;31m             self.handles = get_handle(\n\u001b[0m\u001b[1;32m   1881\u001b[0m                 \u001b[0mf\u001b[0m\u001b[0;34m,\u001b[0m\u001b[0;34m\u001b[0m\u001b[0;34m\u001b[0m\u001b[0m\n\u001b[1;32m   1882\u001b[0m                 \u001b[0mmode\u001b[0m\u001b[0;34m,\u001b[0m\u001b[0;34m\u001b[0m\u001b[0;34m\u001b[0m\u001b[0m\n",
            "\u001b[0;32m/usr/local/lib/python3.11/dist-packages/pandas/io/common.py\u001b[0m in \u001b[0;36mget_handle\u001b[0;34m(path_or_buf, mode, encoding, compression, memory_map, is_text, errors, storage_options)\u001b[0m\n\u001b[1;32m    871\u001b[0m         \u001b[0;32mif\u001b[0m \u001b[0mioargs\u001b[0m\u001b[0;34m.\u001b[0m\u001b[0mencoding\u001b[0m \u001b[0;32mand\u001b[0m \u001b[0;34m\"b\"\u001b[0m \u001b[0;32mnot\u001b[0m \u001b[0;32min\u001b[0m \u001b[0mioargs\u001b[0m\u001b[0;34m.\u001b[0m\u001b[0mmode\u001b[0m\u001b[0;34m:\u001b[0m\u001b[0;34m\u001b[0m\u001b[0;34m\u001b[0m\u001b[0m\n\u001b[1;32m    872\u001b[0m             \u001b[0;31m# Encoding\u001b[0m\u001b[0;34m\u001b[0m\u001b[0;34m\u001b[0m\u001b[0m\n\u001b[0;32m--> 873\u001b[0;31m             handle = open(\n\u001b[0m\u001b[1;32m    874\u001b[0m                 \u001b[0mhandle\u001b[0m\u001b[0;34m,\u001b[0m\u001b[0;34m\u001b[0m\u001b[0;34m\u001b[0m\u001b[0m\n\u001b[1;32m    875\u001b[0m                 \u001b[0mioargs\u001b[0m\u001b[0;34m.\u001b[0m\u001b[0mmode\u001b[0m\u001b[0;34m,\u001b[0m\u001b[0;34m\u001b[0m\u001b[0;34m\u001b[0m\u001b[0m\n",
            "\u001b[0;31mFileNotFoundError\u001b[0m: [Errno 2] No such file or directory: '/superstore_dataset.csv'"
          ]
        }
      ]
    },
    {
      "cell_type": "code",
      "metadata": {
        "id": "80c77d85"
      },
      "source": [
        "import os\n",
        "import kagglehub\n",
        "\n",
        "# Get the path to the dataset using kagglehub\n",
        "timchant_supstore_dataset_2019_2022_path = kagglehub.dataset_download('timchant/supstore-dataset-2019-2022')\n",
        "\n",
        "# List files in the downloaded directory\n",
        "print(os.listdir(timchant_supstore_dataset_2019_2022_path))"
      ],
      "execution_count": null,
      "outputs": []
    }
  ]
}