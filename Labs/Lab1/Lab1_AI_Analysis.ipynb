{
  "metadata": {
    "kernelspec": {
      "language": "python",
      "display_name": "Python 3",
      "name": "python3"
    },
    "language_info": {
      "name": "python",
      "version": "3.10.13",
      "mimetype": "text/x-python",
      "codemirror_mode": {
        "name": "ipython",
        "version": 3
      },
      "pygments_lexer": "ipython3",
      "nbconvert_exporter": "python",
      "file_extension": ".py"
    },
    "kaggle": {
      "accelerator": "none",
      "dataSources": [
        {
          "sourceId": 8275028,
          "sourceType": "datasetVersion",
          "datasetId": 4913678
        }
      ],
      "dockerImageVersionId": 30746,
      "isInternetEnabled": false,
      "language": "python",
      "sourceType": "notebook",
      "isGpuEnabled": false
    },
    "colab": {
      "provenance": [],
      "include_colab_link": true
    }
  },
  "nbformat_minor": 0,
  "nbformat": 4,
  "cells": [
    {
      "cell_type": "markdown",
      "metadata": {
        "id": "view-in-github",
        "colab_type": "text"
      },
      "source": [
        "<a href=\"https://colab.research.google.com/github/Rsplitstone/classResources/blob/main/Labs/Lab1/Lab1_AI_Analysis.ipynb\" target=\"_parent\"><img src=\"https://colab.research.google.com/assets/colab-badge.svg\" alt=\"Open In Colab\"/></a>"
      ]
    },
    {
      "source": [
        "# IMPORTANT: RUN THIS CELL IN ORDER TO IMPORT YOUR KAGGLE DATA SOURCES,\n",
        "# THEN FEEL FREE TO DELETE THIS CELL.\n",
        "# NOTE: THIS NOTEBOOK ENVIRONMENT DIFFERS FROM KAGGLE'S PYTHON\n",
        "# ENVIRONMENT SO THERE MAY BE MISSING LIBRARIES USED BY YOUR\n",
        "# NOTEBOOK.\n",
        "import kagglehub\n",
        "timchant_supstore_dataset_2019_2022_path = kagglehub.dataset_download('timchant/supstore-dataset-2019-2022')\n",
        "\n",
        "print('Data source import complete.')\n"
      ],
      "metadata": {
        "id": "rtYi0dKTZtS8"
      },
      "cell_type": "code",
      "outputs": [],
      "execution_count": null
    },
    {
      "cell_type": "code",
      "source": [
        "# This Python 3 environment comes with many helpful analytics libraries installed\n",
        "# It is defined by the kaggle/python Docker image: https://github.com/kaggle/docker-python\n",
        "# For example, here's several helpful packages to load\n",
        "\n",
        "import numpy as np # linear algebra\n",
        "import pandas as pd # data processing, CSV file I/O (e.g. pd.read_csv)\n",
        "\n",
        "# Input data files are available in the read-only \"../input/\" directory\n",
        "# For example, running this (by clicking run or pressing Shift+Enter) will list all files under the input directory\n",
        "\n",
        "import os\n",
        "for dirname, _, filenames in os.walk('/kaggle/input'):\n",
        "    for filename in filenames:\n",
        "        print(os.path.join(dirname, filename))\n",
        "\n",
        "# You can write up to 20GB to the current directory (/kaggle/working/) that gets preserved as output when you create a version using \"Save & Run All\"\n",
        "# You can also write temporary files to /kaggle/temp/, but they won't be saved outside of the current session"
      ],
      "metadata": {
        "_uuid": "8f2839f25d086af736a60e9eeb907d3b93b6e0e5",
        "_cell_guid": "b1076dfc-b9ad-4769-8c92-a6c4dae69d19",
        "execution": {
          "iopub.status.busy": "2024-07-27T16:19:22.378156Z",
          "iopub.execute_input": "2024-07-27T16:19:22.37951Z",
          "iopub.status.idle": "2024-07-27T16:19:22.390162Z",
          "shell.execute_reply.started": "2024-07-27T16:19:22.37946Z",
          "shell.execute_reply": "2024-07-27T16:19:22.388961Z"
        },
        "trusted": true,
        "id": "634oltZbZtS-"
      },
      "outputs": [],
      "execution_count": null
    },
    {
      "cell_type": "markdown",
      "source": [
        "## Data wrangling"
      ],
      "metadata": {
        "id": "TvXG_APXZtS-"
      }
    },
    {
      "cell_type": "code",
      "source": [
        "import numpy as np\n",
        "import pandas as pd\n",
        "import matplotlib.pyplot as plt\n",
        "import seaborn as sns\n",
        "import warnings\n",
        "warnings.filterwarnings('ignore')\n"
      ],
      "metadata": {
        "execution": {
          "iopub.status.busy": "2024-07-27T19:08:01.383383Z",
          "iopub.execute_input": "2024-07-27T19:08:01.383831Z",
          "iopub.status.idle": "2024-07-27T19:08:01.390207Z",
          "shell.execute_reply.started": "2024-07-27T19:08:01.383797Z",
          "shell.execute_reply": "2024-07-27T19:08:01.388937Z"
        },
        "trusted": true,
        "id": "RoPYAWvdZtS-"
      },
      "outputs": [],
      "execution_count": null
    },
    {
      "cell_type": "code",
      "source": [
        "import pandas as pd\n",
        "import kagglehub\n",
        "import os\n",
        "\n",
        "# Get the path to the dataset using kagglehub\n",
        "timchant_supstore_dataset_2019_2022_path = kagglehub.dataset_download('timchant/supstore-dataset-2019-2022')\n",
        "\n",
        "# Use the path provided by kagglehub.dataset_download\n",
        "# Construct the full path using os.path.join for better compatibility\n",
        "csv_file_path = os.path.join(timchant_supstore_dataset_2019_2022_path, 'superstore_dataset.csv')\n",
        "df = pd.read_csv(csv_file_path)"
      ],
      "metadata": {
        "execution": {
          "iopub.status.busy": "2024-07-27T16:19:22.400596Z",
          "iopub.execute_input": "2024-07-27T16:19:22.400969Z",
          "iopub.status.idle": "2024-07-27T16:19:22.475499Z",
          "shell.execute_reply.started": "2024-07-27T16:19:22.400938Z",
          "shell.execute_reply": "2024-07-27T16:19:22.474124Z"
        },
        "trusted": true,
        "id": "9E2sLbUOZtS_"
      },
      "outputs": [],
      "execution_count": null
    },
    {
      "cell_type": "code",
      "source": [
        "df.head(3)"
      ],
      "metadata": {
        "execution": {
          "iopub.status.busy": "2024-07-27T16:19:22.47829Z",
          "iopub.execute_input": "2024-07-27T16:19:22.478746Z",
          "iopub.status.idle": "2024-07-27T16:19:22.50316Z",
          "shell.execute_reply.started": "2024-07-27T16:19:22.478703Z",
          "shell.execute_reply": "2024-07-27T16:19:22.501911Z"
        },
        "trusted": true,
        "id": "_aJ4lbrOZtS_"
      },
      "outputs": [],
      "execution_count": null
    },
    {
      "cell_type": "code",
      "source": [
        "df.tail()"
      ],
      "metadata": {
        "execution": {
          "iopub.status.busy": "2024-07-27T16:19:22.504351Z",
          "iopub.execute_input": "2024-07-27T16:19:22.504678Z",
          "iopub.status.idle": "2024-07-27T16:19:22.533746Z",
          "shell.execute_reply.started": "2024-07-27T16:19:22.50465Z",
          "shell.execute_reply": "2024-07-27T16:19:22.532555Z"
        },
        "trusted": true,
        "id": "MygZMY1yZtS_"
      },
      "outputs": [],
      "execution_count": null
    },
    {
      "cell_type": "markdown",
      "source": [
        " checking data type and missing values"
      ],
      "metadata": {
        "id": "Az4JweExZtS_"
      }
    },
    {
      "cell_type": "code",
      "source": [
        "df.describe()"
      ],
      "metadata": {
        "execution": {
          "iopub.status.busy": "2024-07-27T16:19:22.535376Z",
          "iopub.execute_input": "2024-07-27T16:19:22.535759Z",
          "iopub.status.idle": "2024-07-27T16:19:22.571833Z",
          "shell.execute_reply.started": "2024-07-27T16:19:22.535728Z",
          "shell.execute_reply": "2024-07-27T16:19:22.570778Z"
        },
        "trusted": true,
        "id": "QH63trVaZtS_"
      },
      "outputs": [],
      "execution_count": null
    },
    {
      "cell_type": "code",
      "source": [
        "df.shape"
      ],
      "metadata": {
        "execution": {
          "iopub.status.busy": "2024-07-27T16:19:22.573359Z",
          "iopub.execute_input": "2024-07-27T16:19:22.574224Z",
          "iopub.status.idle": "2024-07-27T16:19:22.581285Z",
          "shell.execute_reply.started": "2024-07-27T16:19:22.57418Z",
          "shell.execute_reply": "2024-07-27T16:19:22.580164Z"
        },
        "trusted": true,
        "id": "yByP66KPZtS_"
      },
      "outputs": [],
      "execution_count": null
    },
    {
      "cell_type": "code",
      "source": [
        "df.columns"
      ],
      "metadata": {
        "execution": {
          "iopub.status.busy": "2024-07-27T16:19:22.585792Z",
          "iopub.execute_input": "2024-07-27T16:19:22.586219Z",
          "iopub.status.idle": "2024-07-27T16:19:22.596175Z",
          "shell.execute_reply.started": "2024-07-27T16:19:22.586184Z",
          "shell.execute_reply": "2024-07-27T16:19:22.594919Z"
        },
        "trusted": true,
        "id": "rS_iu_WpZtS_"
      },
      "outputs": [],
      "execution_count": null
    },
    {
      "cell_type": "code",
      "source": [
        "df.info()"
      ],
      "metadata": {
        "execution": {
          "iopub.status.busy": "2024-07-27T16:19:22.597546Z",
          "iopub.execute_input": "2024-07-27T16:19:22.598069Z",
          "iopub.status.idle": "2024-07-27T16:19:22.629016Z",
          "shell.execute_reply.started": "2024-07-27T16:19:22.598007Z",
          "shell.execute_reply": "2024-07-27T16:19:22.627558Z"
        },
        "trusted": true,
        "id": "KvtM-QtDZtTA"
      },
      "outputs": [],
      "execution_count": null
    },
    {
      "cell_type": "code",
      "source": [
        "df.isnull().sum()"
      ],
      "metadata": {
        "execution": {
          "iopub.status.busy": "2024-07-27T16:19:22.630711Z",
          "iopub.execute_input": "2024-07-27T16:19:22.631166Z",
          "iopub.status.idle": "2024-07-27T16:19:22.656616Z",
          "shell.execute_reply.started": "2024-07-27T16:19:22.63113Z",
          "shell.execute_reply": "2024-07-27T16:19:22.655479Z"
        },
        "trusted": true,
        "id": "9b4BuRAaZtTA"
      },
      "outputs": [],
      "execution_count": null
    },
    {
      "cell_type": "code",
      "source": [
        "df.duplicated().sum()"
      ],
      "metadata": {
        "execution": {
          "iopub.status.busy": "2024-07-27T16:19:22.658222Z",
          "iopub.execute_input": "2024-07-27T16:19:22.658579Z",
          "iopub.status.idle": "2024-07-27T16:19:22.688359Z",
          "shell.execute_reply.started": "2024-07-27T16:19:22.658549Z",
          "shell.execute_reply": "2024-07-27T16:19:22.686866Z"
        },
        "trusted": true,
        "id": "jfXnlQuDZtTA"
      },
      "outputs": [],
      "execution_count": null
    },
    {
      "cell_type": "code",
      "source": [
        "df.drop_duplicates(inplace=True)"
      ],
      "metadata": {
        "execution": {
          "iopub.status.busy": "2024-07-27T16:19:22.689969Z",
          "iopub.execute_input": "2024-07-27T16:19:22.690375Z",
          "iopub.status.idle": "2024-07-27T16:19:22.717735Z",
          "shell.execute_reply.started": "2024-07-27T16:19:22.690341Z",
          "shell.execute_reply": "2024-07-27T16:19:22.71674Z"
        },
        "trusted": true,
        "id": "3NCp-bIKZtTA"
      },
      "outputs": [],
      "execution_count": null
    },
    {
      "cell_type": "code",
      "source": [
        "df.duplicated().sum()"
      ],
      "metadata": {
        "execution": {
          "iopub.status.busy": "2024-07-27T16:19:22.718935Z",
          "iopub.execute_input": "2024-07-27T16:19:22.719295Z",
          "iopub.status.idle": "2024-07-27T16:19:22.746825Z",
          "shell.execute_reply.started": "2024-07-27T16:19:22.719264Z",
          "shell.execute_reply": "2024-07-27T16:19:22.745635Z"
        },
        "trusted": true,
        "id": "g8ODeaOsZtTA"
      },
      "outputs": [],
      "execution_count": null
    },
    {
      "cell_type": "code",
      "source": [
        "df_cat=df[['customer','manufactory','product_name','segment','category','subcategory','region','city','state','country']]"
      ],
      "metadata": {
        "execution": {
          "iopub.status.busy": "2024-07-27T16:19:22.748361Z",
          "iopub.execute_input": "2024-07-27T16:19:22.748727Z",
          "iopub.status.idle": "2024-07-27T16:19:22.756667Z",
          "shell.execute_reply.started": "2024-07-27T16:19:22.748694Z",
          "shell.execute_reply": "2024-07-27T16:19:22.755497Z"
        },
        "trusted": true,
        "id": "UTDjwjH5ZtTA"
      },
      "outputs": [],
      "execution_count": null
    },
    {
      "cell_type": "code",
      "source": [
        "df_cat.nunique()"
      ],
      "metadata": {
        "execution": {
          "iopub.status.busy": "2024-07-27T16:19:22.75842Z",
          "iopub.execute_input": "2024-07-27T16:19:22.75889Z",
          "iopub.status.idle": "2024-07-27T16:19:22.785566Z",
          "shell.execute_reply.started": "2024-07-27T16:19:22.758825Z",
          "shell.execute_reply": "2024-07-27T16:19:22.783968Z"
        },
        "trusted": true,
        "id": "T0e5jDOEZtTA"
      },
      "outputs": [],
      "execution_count": null
    },
    {
      "cell_type": "markdown",
      "source": [
        "#  Exploratory Data Analysis\n"
      ],
      "metadata": {
        "id": "fxxeiNJmZtTA"
      }
    },
    {
      "cell_type": "code",
      "source": [
        "df.head()"
      ],
      "metadata": {
        "execution": {
          "iopub.status.busy": "2024-07-27T16:19:22.787363Z",
          "iopub.execute_input": "2024-07-27T16:19:22.787828Z",
          "iopub.status.idle": "2024-07-27T16:19:22.813205Z",
          "shell.execute_reply.started": "2024-07-27T16:19:22.787785Z",
          "shell.execute_reply": "2024-07-27T16:19:22.811912Z"
        },
        "trusted": true,
        "id": "seUc5wm7ZtTA"
      },
      "outputs": [],
      "execution_count": null
    },
    {
      "cell_type": "markdown",
      "source": [
        "#### 1- What are the top selling products in the superstore?"
      ],
      "metadata": {
        "id": "kZ7b60qkZtTA"
      }
    },
    {
      "cell_type": "code",
      "source": [
        "product_group_sales=df.groupby(['product_name']).sum()['sales']"
      ],
      "metadata": {
        "execution": {
          "iopub.status.busy": "2024-07-27T16:19:22.81489Z",
          "iopub.execute_input": "2024-07-27T16:19:22.815365Z",
          "iopub.status.idle": "2024-07-27T16:19:22.872567Z",
          "shell.execute_reply.started": "2024-07-27T16:19:22.815325Z",
          "shell.execute_reply": "2024-07-27T16:19:22.871319Z"
        },
        "trusted": true,
        "id": "kWSUSn9BZtTA"
      },
      "outputs": [],
      "execution_count": null
    },
    {
      "cell_type": "code",
      "source": [
        "product_group_sales.head()"
      ],
      "metadata": {
        "execution": {
          "iopub.status.busy": "2024-07-27T16:19:22.874452Z",
          "iopub.execute_input": "2024-07-27T16:19:22.874927Z",
          "iopub.status.idle": "2024-07-27T16:19:22.883731Z",
          "shell.execute_reply.started": "2024-07-27T16:19:22.874887Z",
          "shell.execute_reply": "2024-07-27T16:19:22.882415Z"
        },
        "trusted": true,
        "id": "7mo88oMSZtTA"
      },
      "outputs": [],
      "execution_count": null
    },
    {
      "cell_type": "code",
      "source": [
        "top_5_selling_products=product_group_sales.sort_values(ascending=False)[:5]"
      ],
      "metadata": {
        "execution": {
          "iopub.status.busy": "2024-07-27T16:19:22.885535Z",
          "iopub.execute_input": "2024-07-27T16:19:22.886019Z",
          "iopub.status.idle": "2024-07-27T16:19:22.894781Z",
          "shell.execute_reply.started": "2024-07-27T16:19:22.885979Z",
          "shell.execute_reply": "2024-07-27T16:19:22.893488Z"
        },
        "trusted": true,
        "id": "PfCODVZHZtTA"
      },
      "outputs": [],
      "execution_count": null
    },
    {
      "cell_type": "code",
      "source": [
        "top_5_selling_products"
      ],
      "metadata": {
        "execution": {
          "iopub.status.busy": "2024-07-27T16:19:22.900896Z",
          "iopub.execute_input": "2024-07-27T16:19:22.901702Z",
          "iopub.status.idle": "2024-07-27T16:19:22.91014Z",
          "shell.execute_reply.started": "2024-07-27T16:19:22.901667Z",
          "shell.execute_reply": "2024-07-27T16:19:22.908927Z"
        },
        "trusted": true,
        "id": "4Iop0lPEZtTA"
      },
      "outputs": [],
      "execution_count": null
    },
    {
      "cell_type": "code",
      "source": [
        "\n",
        "top_5_selling_products.plot(kind=\"bar\")\n",
        "plt.xlabel(\"product_name\")\n",
        "plt.ylabel(\"sales\")\n",
        "plt.show()"
      ],
      "metadata": {
        "execution": {
          "iopub.status.busy": "2024-07-27T17:35:36.992711Z",
          "iopub.execute_input": "2024-07-27T17:35:36.993125Z",
          "iopub.status.idle": "2024-07-27T17:35:37.260541Z",
          "shell.execute_reply.started": "2024-07-27T17:35:36.993091Z",
          "shell.execute_reply": "2024-07-27T17:35:37.259117Z"
        },
        "trusted": true,
        "id": "TVNONUbfZtTA"
      },
      "outputs": [],
      "execution_count": null
    },
    {
      "cell_type": "markdown",
      "source": [
        "#### 2- What are the top profits products in the superstore?"
      ],
      "metadata": {
        "id": "v0UFu8nBZtTA"
      }
    },
    {
      "cell_type": "code",
      "source": [
        "product_group_profit=df.groupby(['product_name']).sum()['profit']"
      ],
      "metadata": {
        "execution": {
          "iopub.status.busy": "2024-07-27T16:19:23.158175Z",
          "iopub.execute_input": "2024-07-27T16:19:23.158541Z",
          "iopub.status.idle": "2024-07-27T16:19:23.212059Z",
          "shell.execute_reply.started": "2024-07-27T16:19:23.158508Z",
          "shell.execute_reply": "2024-07-27T16:19:23.210942Z"
        },
        "trusted": true,
        "id": "GRMS-VqqZtTA"
      },
      "outputs": [],
      "execution_count": null
    },
    {
      "cell_type": "code",
      "source": [
        "product_group_profit.head()"
      ],
      "metadata": {
        "execution": {
          "iopub.status.busy": "2024-07-27T16:19:23.2136Z",
          "iopub.execute_input": "2024-07-27T16:19:23.213919Z",
          "iopub.status.idle": "2024-07-27T16:19:23.222701Z",
          "shell.execute_reply.started": "2024-07-27T16:19:23.213891Z",
          "shell.execute_reply": "2024-07-27T16:19:23.221304Z"
        },
        "trusted": true,
        "id": "OUyWKgTOZtTA"
      },
      "outputs": [],
      "execution_count": null
    },
    {
      "cell_type": "code",
      "source": [
        "top_5_profit_products=product_group_profit.sort_values(ascending=False)[:5]"
      ],
      "metadata": {
        "execution": {
          "iopub.status.busy": "2024-07-27T16:19:23.22417Z",
          "iopub.execute_input": "2024-07-27T16:19:23.2246Z",
          "iopub.status.idle": "2024-07-27T16:19:23.234492Z",
          "shell.execute_reply.started": "2024-07-27T16:19:23.224559Z",
          "shell.execute_reply": "2024-07-27T16:19:23.233047Z"
        },
        "trusted": true,
        "id": "sq30NRsdZtTA"
      },
      "outputs": [],
      "execution_count": null
    },
    {
      "cell_type": "code",
      "source": [
        "top_5_profit_products"
      ],
      "metadata": {
        "execution": {
          "iopub.status.busy": "2024-07-27T16:19:23.236127Z",
          "iopub.execute_input": "2024-07-27T16:19:23.236621Z",
          "iopub.status.idle": "2024-07-27T16:19:23.251725Z",
          "shell.execute_reply.started": "2024-07-27T16:19:23.236571Z",
          "shell.execute_reply": "2024-07-27T16:19:23.25051Z"
        },
        "trusted": true,
        "id": "2f6jKjhHZtTA"
      },
      "outputs": [],
      "execution_count": null
    },
    {
      "cell_type": "code",
      "source": [
        "top_5_profit_products.plot(kind=\"bar\")\n",
        "plt.xlabel(\"product_name\")\n",
        "plt.ylabel(\"profit\")\n",
        "plt.show()"
      ],
      "metadata": {
        "execution": {
          "iopub.status.busy": "2024-07-27T16:19:23.253667Z",
          "iopub.execute_input": "2024-07-27T16:19:23.254559Z",
          "iopub.status.idle": "2024-07-27T16:19:23.512176Z",
          "shell.execute_reply.started": "2024-07-27T16:19:23.254503Z",
          "shell.execute_reply": "2024-07-27T16:19:23.510634Z"
        },
        "trusted": true,
        "id": "VNHJpxe7ZtTA"
      },
      "outputs": [],
      "execution_count": null
    },
    {
      "cell_type": "code",
      "source": [
        "top_5_selling_products.index==top_5_profit_products.index"
      ],
      "metadata": {
        "execution": {
          "iopub.status.busy": "2024-07-27T16:19:23.514067Z",
          "iopub.execute_input": "2024-07-27T16:19:23.514457Z",
          "iopub.status.idle": "2024-07-27T16:19:23.521742Z",
          "shell.execute_reply.started": "2024-07-27T16:19:23.514424Z",
          "shell.execute_reply": "2024-07-27T16:19:23.520554Z"
        },
        "trusted": true,
        "id": "FQj9sFj2ZtTA"
      },
      "outputs": [],
      "execution_count": null
    },
    {
      "cell_type": "code",
      "source": [
        "df.columns"
      ],
      "metadata": {
        "execution": {
          "iopub.status.busy": "2024-07-27T18:08:13.393916Z",
          "iopub.execute_input": "2024-07-27T18:08:13.39439Z",
          "iopub.status.idle": "2024-07-27T18:08:13.40291Z",
          "shell.execute_reply.started": "2024-07-27T18:08:13.394356Z",
          "shell.execute_reply": "2024-07-27T18:08:13.401754Z"
        },
        "trusted": true,
        "id": "QCDwCRE-ZtTA"
      },
      "outputs": [],
      "execution_count": null
    },
    {
      "cell_type": "code",
      "source": [
        "category = df.groupby(\"category\").sum()[\"sales\"].sort_values(ascending=False)\n",
        "category\n"
      ],
      "metadata": {
        "execution": {
          "iopub.status.busy": "2024-07-27T18:22:46.816279Z",
          "iopub.execute_input": "2024-07-27T18:22:46.816715Z",
          "iopub.status.idle": "2024-07-27T18:22:47.028146Z",
          "shell.execute_reply.started": "2024-07-27T18:22:46.816683Z",
          "shell.execute_reply": "2024-07-27T18:22:47.02705Z"
        },
        "trusted": true,
        "id": "L22uKSkzZtTA"
      },
      "outputs": [],
      "execution_count": null
    },
    {
      "cell_type": "code",
      "source": [
        "category.plot(kind=\"bar\")\n",
        "plt.ylabel(\"sales\")\n",
        "plt.show()"
      ],
      "metadata": {
        "execution": {
          "iopub.status.busy": "2024-07-27T18:35:54.995838Z",
          "iopub.execute_input": "2024-07-27T18:35:54.996252Z",
          "iopub.status.idle": "2024-07-27T18:35:55.24922Z",
          "shell.execute_reply.started": "2024-07-27T18:35:54.996217Z",
          "shell.execute_reply": "2024-07-27T18:35:55.248056Z"
        },
        "trusted": true,
        "id": "LtIkDa2uZtTA"
      },
      "outputs": [],
      "execution_count": null
    },
    {
      "cell_type": "code",
      "source": [
        "category.plot.pie(autopct='%1.1f%%')\n",
        "plt.show()"
      ],
      "metadata": {
        "execution": {
          "iopub.status.busy": "2024-07-27T19:08:15.977689Z",
          "iopub.execute_input": "2024-07-27T19:08:15.978119Z",
          "iopub.status.idle": "2024-07-27T19:08:16.13091Z",
          "shell.execute_reply.started": "2024-07-27T19:08:15.978085Z",
          "shell.execute_reply": "2024-07-27T19:08:16.129089Z"
        },
        "trusted": true,
        "id": "UvWBFHekZtTB"
      },
      "outputs": [],
      "execution_count": null
    },
    {
      "cell_type": "markdown",
      "source": [
        "#### 3- Which region generates the most sales and profit?\n"
      ],
      "metadata": {
        "id": "T-Gz7NjoZtTB"
      }
    },
    {
      "cell_type": "code",
      "source": [
        "df['region'].unique()"
      ],
      "metadata": {
        "execution": {
          "iopub.status.busy": "2024-07-27T16:19:23.523647Z",
          "iopub.execute_input": "2024-07-27T16:19:23.524153Z",
          "iopub.status.idle": "2024-07-27T16:19:23.536336Z",
          "shell.execute_reply.started": "2024-07-27T16:19:23.524109Z",
          "shell.execute_reply": "2024-07-27T16:19:23.534994Z"
        },
        "trusted": true,
        "id": "-24OYG79ZtTB"
      },
      "outputs": [],
      "execution_count": null
    },
    {
      "cell_type": "code",
      "source": [
        "region_sales=df.groupby('region').sum()['sales'].sort_values(ascending=False)\n",
        "region_sales"
      ],
      "metadata": {
        "execution": {
          "iopub.status.busy": "2024-07-27T16:19:23.537923Z",
          "iopub.execute_input": "2024-07-27T16:19:23.538344Z",
          "iopub.status.idle": "2024-07-27T16:19:23.709264Z",
          "shell.execute_reply.started": "2024-07-27T16:19:23.53831Z",
          "shell.execute_reply": "2024-07-27T16:19:23.708014Z"
        },
        "trusted": true,
        "id": "qAdKmgKMZtTD"
      },
      "outputs": [],
      "execution_count": null
    },
    {
      "cell_type": "code",
      "source": [
        "region_sales.plot(kind=\"bar\")\n",
        "plt.title=(\"regions generate the most sales\")\n",
        "plt.ylabel(\"sales\")\n",
        "plt.show()"
      ],
      "metadata": {
        "execution": {
          "iopub.status.busy": "2024-07-27T18:25:11.732713Z",
          "iopub.execute_input": "2024-07-27T18:25:11.733175Z",
          "iopub.status.idle": "2024-07-27T18:25:11.929906Z",
          "shell.execute_reply.started": "2024-07-27T18:25:11.73314Z",
          "shell.execute_reply": "2024-07-27T18:25:11.928694Z"
        },
        "trusted": true,
        "id": "l2ZXD2hEZtTD"
      },
      "outputs": [],
      "execution_count": null
    },
    {
      "cell_type": "markdown",
      "source": [
        "#### -The West Region generates the most sales.\n"
      ],
      "metadata": {
        "id": "ggl1DRZEZtTD"
      }
    },
    {
      "cell_type": "code",
      "source": [
        "region_profit=df.groupby('region').sum()['profit'].sort_values(ascending=False)"
      ],
      "metadata": {
        "execution": {
          "iopub.status.busy": "2024-07-27T16:19:23.90967Z",
          "iopub.execute_input": "2024-07-27T16:19:23.910114Z",
          "iopub.status.idle": "2024-07-27T16:19:24.07497Z",
          "shell.execute_reply.started": "2024-07-27T16:19:23.91007Z",
          "shell.execute_reply": "2024-07-27T16:19:24.073557Z"
        },
        "trusted": true,
        "id": "__8Lb2KHZtTD"
      },
      "outputs": [],
      "execution_count": null
    },
    {
      "cell_type": "code",
      "source": [
        "region_profit.plot(kind=\"bar\")\n",
        "plt.title=(\"regions generate the most sales\")\n",
        "plt.ylabel(\"profit\")\n",
        "plt.show()"
      ],
      "metadata": {
        "execution": {
          "iopub.status.busy": "2024-07-27T16:19:24.076528Z",
          "iopub.execute_input": "2024-07-27T16:19:24.07689Z",
          "iopub.status.idle": "2024-07-27T16:19:24.263778Z",
          "shell.execute_reply.started": "2024-07-27T16:19:24.076859Z",
          "shell.execute_reply": "2024-07-27T16:19:24.262675Z"
        },
        "trusted": true,
        "id": "1FxU1OLJZtTD"
      },
      "outputs": [],
      "execution_count": null
    },
    {
      "cell_type": "markdown",
      "source": [
        "#### -The *West Region* generates the most profit.\n"
      ],
      "metadata": {
        "id": "eanac7QZZtTD"
      }
    },
    {
      "cell_type": "markdown",
      "source": [
        "#### Number of each state's superstors and top 10"
      ],
      "metadata": {
        "id": "DtHDEJRNZtTD"
      }
    },
    {
      "cell_type": "code",
      "source": [
        "top10 =df['state'].value_counts().head(10)\n",
        "top10"
      ],
      "metadata": {
        "execution": {
          "iopub.status.busy": "2024-07-27T19:20:21.00719Z",
          "iopub.execute_input": "2024-07-27T19:20:21.007723Z",
          "iopub.status.idle": "2024-07-27T19:20:21.022929Z",
          "shell.execute_reply.started": "2024-07-27T19:20:21.007681Z",
          "shell.execute_reply": "2024-07-27T19:20:21.021396Z"
        },
        "trusted": true,
        "id": "guoHoH6oZtTD"
      },
      "outputs": [],
      "execution_count": null
    },
    {
      "cell_type": "code",
      "source": [
        "top10.plot(kind=\"bar\")\n",
        "plt.show()"
      ],
      "metadata": {
        "execution": {
          "iopub.status.busy": "2024-07-27T19:25:05.586338Z",
          "iopub.execute_input": "2024-07-27T19:25:05.586781Z",
          "iopub.status.idle": "2024-07-27T19:25:05.888436Z",
          "shell.execute_reply.started": "2024-07-27T19:25:05.586745Z",
          "shell.execute_reply": "2024-07-27T19:25:05.886938Z"
        },
        "trusted": true,
        "id": "B9P-gVtiZtTD"
      },
      "outputs": [],
      "execution_count": null
    },
    {
      "cell_type": "markdown",
      "source": [
        "#### 4- What is the sales trend over time (monthly, yearly)?\n"
      ],
      "metadata": {
        "id": "wWx4EgnTZtTD"
      }
    },
    {
      "cell_type": "code",
      "source": [
        "df[\"order_date\"]=pd.to_datetime(df[\"order_date\"])"
      ],
      "metadata": {
        "execution": {
          "iopub.status.busy": "2024-07-27T16:19:24.265094Z",
          "iopub.execute_input": "2024-07-27T16:19:24.265413Z",
          "iopub.status.idle": "2024-07-27T16:19:24.282291Z",
          "shell.execute_reply.started": "2024-07-27T16:19:24.265385Z",
          "shell.execute_reply": "2024-07-27T16:19:24.280855Z"
        },
        "trusted": true,
        "id": "gjgJbIklZtTD"
      },
      "outputs": [],
      "execution_count": null
    },
    {
      "cell_type": "code",
      "source": [
        "df.set_index(\"order_date\",inplace=True)\n",
        "series=df.sales.resample('ME').mean()\n",
        "plt.figure(figsize=(25, 8))\n",
        "plt.plot(series)\n",
        "plt.xlabel('Date')\n",
        "plt.ylabel('sales')\n",
        "plt.show()\n"
      ],
      "metadata": {
        "execution": {
          "iopub.status.busy": "2024-07-27T16:19:24.283887Z",
          "iopub.execute_input": "2024-07-27T16:19:24.284451Z",
          "iopub.status.idle": "2024-07-27T16:19:24.783155Z",
          "shell.execute_reply.started": "2024-07-27T16:19:24.284416Z",
          "shell.execute_reply": "2024-07-27T16:19:24.781833Z"
        },
        "trusted": true,
        "id": "JFmuPvWMZtTD"
      },
      "outputs": [],
      "execution_count": null
    },
    {
      "cell_type": "markdown",
      "source": [
        "#### 5-What is the impact of discounts on sales?\n"
      ],
      "metadata": {
        "id": "ZRGPck-BZtTD"
      }
    },
    {
      "cell_type": "code",
      "source": [
        "df.discount.value_counts()"
      ],
      "metadata": {
        "execution": {
          "iopub.status.busy": "2024-07-27T16:42:35.074555Z",
          "iopub.execute_input": "2024-07-27T16:42:35.075037Z",
          "iopub.status.idle": "2024-07-27T16:42:35.086611Z",
          "shell.execute_reply.started": "2024-07-27T16:42:35.074988Z",
          "shell.execute_reply": "2024-07-27T16:42:35.085118Z"
        },
        "trusted": true,
        "id": "XaqiDek-ZtTD"
      },
      "outputs": [],
      "execution_count": null
    },
    {
      "cell_type": "code",
      "source": [
        "discount_group=df.groupby([\"discount\"]).sum()[[\"sales\"]]\n",
        "ax=discount_group.plot(kind=\"bar\")\n",
        "plt.ylabel(\"sales\")\n",
        "plt.show()"
      ],
      "metadata": {
        "execution": {
          "iopub.status.busy": "2024-07-27T16:49:43.733292Z",
          "iopub.execute_input": "2024-07-27T16:49:43.733714Z",
          "iopub.status.idle": "2024-07-27T16:49:44.238543Z",
          "shell.execute_reply.started": "2024-07-27T16:49:43.733675Z",
          "shell.execute_reply": "2024-07-27T16:49:44.237254Z"
        },
        "trusted": true,
        "id": "tjPlNPFxZtTD"
      },
      "outputs": [],
      "execution_count": null
    },
    {
      "cell_type": "markdown",
      "source": [
        "## customer"
      ],
      "metadata": {
        "id": "LIdro_syZtTD"
      }
    },
    {
      "cell_type": "code",
      "source": [
        "segment= df.segment.value_counts()\n",
        "segment"
      ],
      "metadata": {
        "execution": {
          "iopub.status.busy": "2024-07-27T19:35:15.47592Z",
          "iopub.execute_input": "2024-07-27T19:35:15.476729Z",
          "iopub.status.idle": "2024-07-27T19:35:15.487468Z",
          "shell.execute_reply.started": "2024-07-27T19:35:15.476691Z",
          "shell.execute_reply": "2024-07-27T19:35:15.486269Z"
        },
        "trusted": true,
        "id": "u1kQQQE6ZtTD"
      },
      "outputs": [],
      "execution_count": null
    },
    {
      "cell_type": "code",
      "source": [
        "segment.plot(kind=\"bar\")\n",
        "plt.ylabel(\"segment\")\n",
        "plt.show()"
      ],
      "metadata": {
        "execution": {
          "iopub.status.busy": "2024-07-27T19:36:44.219807Z",
          "iopub.execute_input": "2024-07-27T19:36:44.220221Z",
          "iopub.status.idle": "2024-07-27T19:36:44.454006Z",
          "shell.execute_reply.started": "2024-07-27T19:36:44.220189Z",
          "shell.execute_reply": "2024-07-27T19:36:44.452922Z"
        },
        "trusted": true,
        "id": "X0eo73obZtTD"
      },
      "outputs": [],
      "execution_count": null
    },
    {
      "cell_type": "code",
      "source": [
        "segment.plot.pie(autopct='%1.1f%%')\n",
        "plt.show()"
      ],
      "metadata": {
        "execution": {
          "iopub.status.busy": "2024-07-27T19:37:09.506865Z",
          "iopub.execute_input": "2024-07-27T19:37:09.507312Z",
          "iopub.status.idle": "2024-07-27T19:37:09.67909Z",
          "shell.execute_reply.started": "2024-07-27T19:37:09.507276Z",
          "shell.execute_reply": "2024-07-27T19:37:09.677131Z"
        },
        "trusted": true,
        "id": "XGt8VsSpZtTD"
      },
      "outputs": [],
      "execution_count": null
    },
    {
      "cell_type": "markdown",
      "source": [
        "# thank you"
      ],
      "metadata": {
        "id": "LDrt8L-6ZtTE"
      }
    },
    {
      "cell_type": "code",
      "metadata": {
        "id": "eab9899f"
      },
      "source": [
        "# This cell is no longer needed as we are using kagglehub to download the dataset\n",
        "# import pandas as pd\n",
        "\n",
        "# df = pd.read_csv('/superstore_dataset.csv')\n",
        "# display(df.head())"
      ],
      "execution_count": null,
      "outputs": []
    },
    {
      "cell_type": "code",
      "metadata": {
        "colab": {
          "base_uri": "https://localhost:8080/"
        },
        "id": "80c77d85",
        "outputId": "ba6f541d-50d0-44e3-8722-5a3f9acb18ea"
      },
      "source": [
        "import os\n",
        "import kagglehub\n",
        "\n",
        "# Get the path to the dataset using kagglehub\n",
        "timchant_supstore_dataset_2019_2022_path = kagglehub.dataset_download('timchant/supstore-dataset-2019-2022')\n",
        "\n",
        "# List files in the downloaded directory\n",
        "print(os.listdir(timchant_supstore_dataset_2019_2022_path))"
      ],
      "execution_count": null,
      "outputs": [
        {
          "output_type": "stream",
          "name": "stdout",
          "text": [
            "['superstore_dataset.csv', '.nfs000000002eb69a4200000216']\n"
          ]
        }
      ]
    }
  ]
}