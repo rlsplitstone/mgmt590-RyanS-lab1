{
 "cells": [
  {
   "cell_type": "markdown",
   "id": "70129882",
   "metadata": {},
   "source": [
    "# Scheduling a Cloud Function to Run Periodically\n",
    "\n",
    "Assuming you have a cloud function configured with \"Allow unauthenticated invocations\", you can now set up a Cloud Scheduler Job to trigger the function on any period of time, such as once an hour."
   ]
  },
  {
   "cell_type": "markdown",
   "id": "e60ad338",
   "metadata": {},
   "source": [
    "## Create a Cloud Scheduler Job\n",
    "\n",
    "1. Set the frequency. The format for the _Frequency_ field follows that of cron jobs. Some examples are:\n",
    "\n",
    "    0 * * * *  -- run once at the start of every hour (minute 0) of every day\n",
    "    \n",
    "    */5 * * * * -- run every 5 minutes of every hour of every day\n",
    "    \n",
    "    0 */2 * * * -- run once at the start of every other hour of every day"
   ]
  },
  {
   "cell_type": "markdown",
   "id": "045da64a",
   "metadata": {},
   "source": [
    "2. Select the target type of \"HTTP\" to trigger a Cloud Function. When you make this selection, options will open up to add a URL and HTTP headers.\n",
    "    2.1. Paste the URL from the Trigger of the Cloud Function into the URL field.\n",
    "    2.2. Select _ADD A HEADER_ and specify that the data your scheduler job will post will be in JSON format.\n",
    "        2.2.1. Put Content-Type in Name 1 and application/json in Value 1.\n",
    "    2.3. Paste the data to send to the Cloud Function in the Body, such as the following which is used with the provided OpenSky code:\n",
    "\n",
    "    {\n",
    "\n",
    "    \"storage\":true,\n",
    "    \n",
    "    \"bucket\":\"flight-streaming-data\",\n",
    "    \n",
    "    \"path\":\"stream2\",\n",
    "    \n",
    "    \"pubsub\":true,\n",
    "    \n",
    "    \"topic\":\"flight-streaming-opensky\",\n",
    "    \n",
    "    \"projectId\":\"dsb-bigdata\",\n",
    "    \n",
    "    \"separateLines\":true\n",
    "    \n",
    "    }"
   ]
  },
  {
   "cell_type": "markdown",
   "id": "d742d1cc",
   "metadata": {},
   "source": [
    "3. Create the job. The job will not run until the scheduled time. However, if you are impatient or need to test the job, select the 3 dots at the end of the row for your newly created job under Actions and select __Force Run__."
   ]
  }
 ],
 "metadata": {
  "kernelspec": {
   "display_name": "bear",
   "language": "python",
   "name": "bear"
  },
  "language_info": {
   "codemirror_mode": {
    "name": "ipython",
    "version": 3
   },
   "file_extension": ".py",
   "mimetype": "text/x-python",
   "name": "python",
   "nbconvert_exporter": "python",
   "pygments_lexer": "ipython3",
   "version": "3.10.9"
  }
 },
 "nbformat": 4,
 "nbformat_minor": 5
}
